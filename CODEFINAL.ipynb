{
  "cells": [
    {
      "cell_type": "code",
      "execution_count": 1,
      "metadata": {
        "colab": {
          "base_uri": "https://localhost:8080/"
        },
        "id": "lrEvOVyWcKLE",
        "outputId": "a566654a-b7a4-42a3-8062-43024176eb14"
      },
      "outputs": [
        {
          "output_type": "stream",
          "name": "stdout",
          "text": [
            "Looking in indexes: https://pypi.org/simple, https://us-python.pkg.dev/colab-wheels/public/simple/\n",
            "Collecting transformers\n",
            "  Downloading transformers-4.28.1-py3-none-any.whl (7.0 MB)\n",
            "\u001b[2K     \u001b[90m━━━━━━━━━━━━━━━━━━━━━━━━━━━━━━━━━━━━━━━━\u001b[0m \u001b[32m7.0/7.0 MB\u001b[0m \u001b[31m70.2 MB/s\u001b[0m eta \u001b[36m0:00:00\u001b[0m\n",
            "\u001b[?25hRequirement already satisfied: filelock in /usr/local/lib/python3.10/dist-packages (from transformers) (3.12.0)\n",
            "Collecting huggingface-hub<1.0,>=0.11.0 (from transformers)\n",
            "  Downloading huggingface_hub-0.14.1-py3-none-any.whl (224 kB)\n",
            "\u001b[2K     \u001b[90m━━━━━━━━━━━━━━━━━━━━━━━━━━━━━━━━━━━━━━\u001b[0m \u001b[32m224.5/224.5 kB\u001b[0m \u001b[31m21.1 MB/s\u001b[0m eta \u001b[36m0:00:00\u001b[0m\n",
            "\u001b[?25hRequirement already satisfied: numpy>=1.17 in /usr/local/lib/python3.10/dist-packages (from transformers) (1.22.4)\n",
            "Requirement already satisfied: packaging>=20.0 in /usr/local/lib/python3.10/dist-packages (from transformers) (23.1)\n",
            "Requirement already satisfied: pyyaml>=5.1 in /usr/local/lib/python3.10/dist-packages (from transformers) (6.0)\n",
            "Requirement already satisfied: regex!=2019.12.17 in /usr/local/lib/python3.10/dist-packages (from transformers) (2022.10.31)\n",
            "Requirement already satisfied: requests in /usr/local/lib/python3.10/dist-packages (from transformers) (2.27.1)\n",
            "Collecting tokenizers!=0.11.3,<0.14,>=0.11.1 (from transformers)\n",
            "  Downloading tokenizers-0.13.3-cp310-cp310-manylinux_2_17_x86_64.manylinux2014_x86_64.whl (7.8 MB)\n",
            "\u001b[2K     \u001b[90m━━━━━━━━━━━━━━━━━━━━━━━━━━━━━━━━━━━━━━━━\u001b[0m \u001b[32m7.8/7.8 MB\u001b[0m \u001b[31m69.6 MB/s\u001b[0m eta \u001b[36m0:00:00\u001b[0m\n",
            "\u001b[?25hRequirement already satisfied: tqdm>=4.27 in /usr/local/lib/python3.10/dist-packages (from transformers) (4.65.0)\n",
            "Requirement already satisfied: fsspec in /usr/local/lib/python3.10/dist-packages (from huggingface-hub<1.0,>=0.11.0->transformers) (2023.4.0)\n",
            "Requirement already satisfied: typing-extensions>=3.7.4.3 in /usr/local/lib/python3.10/dist-packages (from huggingface-hub<1.0,>=0.11.0->transformers) (4.5.0)\n",
            "Requirement already satisfied: urllib3<1.27,>=1.21.1 in /usr/local/lib/python3.10/dist-packages (from requests->transformers) (1.26.15)\n",
            "Requirement already satisfied: certifi>=2017.4.17 in /usr/local/lib/python3.10/dist-packages (from requests->transformers) (2022.12.7)\n",
            "Requirement already satisfied: charset-normalizer~=2.0.0 in /usr/local/lib/python3.10/dist-packages (from requests->transformers) (2.0.12)\n",
            "Requirement already satisfied: idna<4,>=2.5 in /usr/local/lib/python3.10/dist-packages (from requests->transformers) (3.4)\n",
            "Installing collected packages: tokenizers, huggingface-hub, transformers\n",
            "Successfully installed huggingface-hub-0.14.1 tokenizers-0.13.3 transformers-4.28.1\n"
          ]
        }
      ],
      "source": [
        "!pip install transformers "
      ]
    },
    {
      "cell_type": "code",
      "execution_count": 2,
      "metadata": {
        "colab": {
          "base_uri": "https://localhost:8080/"
        },
        "id": "mUafJYNAt0j3",
        "outputId": "684c9e37-fbcb-48fb-8c16-bf604ae6bcbe"
      },
      "outputs": [
        {
          "output_type": "stream",
          "name": "stdout",
          "text": [
            "Looking in indexes: https://pypi.org/simple, https://us-python.pkg.dev/colab-wheels/public/simple/\n",
            "Collecting sentence-transformers\n",
            "  Downloading sentence-transformers-2.2.2.tar.gz (85 kB)\n",
            "\u001b[2K     \u001b[90m━━━━━━━━━━━━━━━━━━━━━━━━━━━━━━━━━━━━━━━━\u001b[0m \u001b[32m86.0/86.0 kB\u001b[0m \u001b[31m3.8 MB/s\u001b[0m eta \u001b[36m0:00:00\u001b[0m\n",
            "\u001b[?25h  Preparing metadata (setup.py) ... \u001b[?25l\u001b[?25hdone\n",
            "Requirement already satisfied: transformers<5.0.0,>=4.6.0 in /usr/local/lib/python3.10/dist-packages (from sentence-transformers) (4.28.1)\n",
            "Requirement already satisfied: tqdm in /usr/local/lib/python3.10/dist-packages (from sentence-transformers) (4.65.0)\n",
            "Requirement already satisfied: torch>=1.6.0 in /usr/local/lib/python3.10/dist-packages (from sentence-transformers) (2.0.0+cu118)\n",
            "Requirement already satisfied: torchvision in /usr/local/lib/python3.10/dist-packages (from sentence-transformers) (0.15.1+cu118)\n",
            "Requirement already satisfied: numpy in /usr/local/lib/python3.10/dist-packages (from sentence-transformers) (1.22.4)\n",
            "Requirement already satisfied: scikit-learn in /usr/local/lib/python3.10/dist-packages (from sentence-transformers) (1.2.2)\n",
            "Requirement already satisfied: scipy in /usr/local/lib/python3.10/dist-packages (from sentence-transformers) (1.10.1)\n",
            "Requirement already satisfied: nltk in /usr/local/lib/python3.10/dist-packages (from sentence-transformers) (3.8.1)\n",
            "Collecting sentencepiece (from sentence-transformers)\n",
            "  Downloading sentencepiece-0.1.99-cp310-cp310-manylinux_2_17_x86_64.manylinux2014_x86_64.whl (1.3 MB)\n",
            "\u001b[2K     \u001b[90m━━━━━━━━━━━━━━━━━━━━━━━━━━━━━━━━━━━━━━━━\u001b[0m \u001b[32m1.3/1.3 MB\u001b[0m \u001b[31m32.0 MB/s\u001b[0m eta \u001b[36m0:00:00\u001b[0m\n",
            "\u001b[?25hRequirement already satisfied: huggingface-hub>=0.4.0 in /usr/local/lib/python3.10/dist-packages (from sentence-transformers) (0.14.1)\n",
            "Requirement already satisfied: filelock in /usr/local/lib/python3.10/dist-packages (from huggingface-hub>=0.4.0->sentence-transformers) (3.12.0)\n",
            "Requirement already satisfied: fsspec in /usr/local/lib/python3.10/dist-packages (from huggingface-hub>=0.4.0->sentence-transformers) (2023.4.0)\n",
            "Requirement already satisfied: requests in /usr/local/lib/python3.10/dist-packages (from huggingface-hub>=0.4.0->sentence-transformers) (2.27.1)\n",
            "Requirement already satisfied: pyyaml>=5.1 in /usr/local/lib/python3.10/dist-packages (from huggingface-hub>=0.4.0->sentence-transformers) (6.0)\n",
            "Requirement already satisfied: typing-extensions>=3.7.4.3 in /usr/local/lib/python3.10/dist-packages (from huggingface-hub>=0.4.0->sentence-transformers) (4.5.0)\n",
            "Requirement already satisfied: packaging>=20.9 in /usr/local/lib/python3.10/dist-packages (from huggingface-hub>=0.4.0->sentence-transformers) (23.1)\n",
            "Requirement already satisfied: sympy in /usr/local/lib/python3.10/dist-packages (from torch>=1.6.0->sentence-transformers) (1.11.1)\n",
            "Requirement already satisfied: networkx in /usr/local/lib/python3.10/dist-packages (from torch>=1.6.0->sentence-transformers) (3.1)\n",
            "Requirement already satisfied: jinja2 in /usr/local/lib/python3.10/dist-packages (from torch>=1.6.0->sentence-transformers) (3.1.2)\n",
            "Requirement already satisfied: triton==2.0.0 in /usr/local/lib/python3.10/dist-packages (from torch>=1.6.0->sentence-transformers) (2.0.0)\n",
            "Requirement already satisfied: cmake in /usr/local/lib/python3.10/dist-packages (from triton==2.0.0->torch>=1.6.0->sentence-transformers) (3.25.2)\n",
            "Requirement already satisfied: lit in /usr/local/lib/python3.10/dist-packages (from triton==2.0.0->torch>=1.6.0->sentence-transformers) (16.0.3)\n",
            "Requirement already satisfied: regex!=2019.12.17 in /usr/local/lib/python3.10/dist-packages (from transformers<5.0.0,>=4.6.0->sentence-transformers) (2022.10.31)\n",
            "Requirement already satisfied: tokenizers!=0.11.3,<0.14,>=0.11.1 in /usr/local/lib/python3.10/dist-packages (from transformers<5.0.0,>=4.6.0->sentence-transformers) (0.13.3)\n",
            "Requirement already satisfied: click in /usr/local/lib/python3.10/dist-packages (from nltk->sentence-transformers) (8.1.3)\n",
            "Requirement already satisfied: joblib in /usr/local/lib/python3.10/dist-packages (from nltk->sentence-transformers) (1.2.0)\n",
            "Requirement already satisfied: threadpoolctl>=2.0.0 in /usr/local/lib/python3.10/dist-packages (from scikit-learn->sentence-transformers) (3.1.0)\n",
            "Requirement already satisfied: pillow!=8.3.*,>=5.3.0 in /usr/local/lib/python3.10/dist-packages (from torchvision->sentence-transformers) (8.4.0)\n",
            "Requirement already satisfied: MarkupSafe>=2.0 in /usr/local/lib/python3.10/dist-packages (from jinja2->torch>=1.6.0->sentence-transformers) (2.1.2)\n",
            "Requirement already satisfied: urllib3<1.27,>=1.21.1 in /usr/local/lib/python3.10/dist-packages (from requests->huggingface-hub>=0.4.0->sentence-transformers) (1.26.15)\n",
            "Requirement already satisfied: certifi>=2017.4.17 in /usr/local/lib/python3.10/dist-packages (from requests->huggingface-hub>=0.4.0->sentence-transformers) (2022.12.7)\n",
            "Requirement already satisfied: charset-normalizer~=2.0.0 in /usr/local/lib/python3.10/dist-packages (from requests->huggingface-hub>=0.4.0->sentence-transformers) (2.0.12)\n",
            "Requirement already satisfied: idna<4,>=2.5 in /usr/local/lib/python3.10/dist-packages (from requests->huggingface-hub>=0.4.0->sentence-transformers) (3.4)\n",
            "Requirement already satisfied: mpmath>=0.19 in /usr/local/lib/python3.10/dist-packages (from sympy->torch>=1.6.0->sentence-transformers) (1.3.0)\n",
            "Building wheels for collected packages: sentence-transformers\n",
            "  Building wheel for sentence-transformers (setup.py) ... \u001b[?25l\u001b[?25hdone\n",
            "  Created wheel for sentence-transformers: filename=sentence_transformers-2.2.2-py3-none-any.whl size=125926 sha256=62411b335aad8f276fc048af1ff788a5224d998b5f43748125946773b0acd4fa\n",
            "  Stored in directory: /root/.cache/pip/wheels/62/f2/10/1e606fd5f02395388f74e7462910fe851042f97238cbbd902f\n",
            "Successfully built sentence-transformers\n",
            "Installing collected packages: sentencepiece, sentence-transformers\n",
            "Successfully installed sentence-transformers-2.2.2 sentencepiece-0.1.99\n"
          ]
        }
      ],
      "source": [
        "!pip install sentence-transformers"
      ]
    },
    {
      "cell_type": "markdown",
      "metadata": {
        "id": "H_zZUK3a2JqN"
      },
      "source": [
        "## Imports\n",
        "\n",
        "\n"
      ]
    },
    {
      "cell_type": "code",
      "execution_count": 3,
      "metadata": {
        "id": "rSU9dLPqwKAz"
      },
      "outputs": [],
      "source": [
        "import numpy as np\n",
        "import pandas as pd\n",
        "\n",
        "import torch\n",
        "import transformers\n",
        "from transformers import BertModel, BertTokenizerFast\n",
        "from sklearn.metrics.pairwise import cosine_similarity\n",
        "\n",
        "from sklearn.cluster import KMeans\n",
        "import matplotlib.pyplot as plt\n",
        "import seaborn as sns \n",
        "from sklearn.metrics.pairwise import cosine_similarity"
      ]
    },
    {
      "cell_type": "markdown",
      "metadata": {
        "id": "ie8D7IdQ3ruM"
      },
      "source": [
        "## Reading the Dataset \n",
        "The below top_actor dataset consist of the top 88 protagonist and their movies"
      ]
    },
    {
      "cell_type": "code",
      "execution_count": 4,
      "metadata": {
        "colab": {
          "base_uri": "https://localhost:8080/",
          "height": 721
        },
        "id": "oikYQLqh3i3K",
        "outputId": "caf3354d-bee6-47e3-9729-1339de6bd9b0"
      },
      "outputs": [
        {
          "output_type": "execute_result",
          "data": {
            "text/plain": [
              "   Unnamed: 0      tconst    primaryTitle   originalTitle startYear  \\\n",
              "0           0  tt10023022           Clean           Clean      2021   \n",
              "1           1  tt10059518        Unhinged        Unhinged      2020   \n",
              "2           2   tt1013743  Knight and Day  Knight and Day      2010   \n",
              "3           3  tt10228134            Jolt            Jolt      2021   \n",
              "4           4   tt1025100      Gemini Man      Gemini Man      2019   \n",
              "\n",
              "  runtimeMinutes                   genres  averageRating  numVotes  \\\n",
              "0             94       Action,Crime,Drama            5.6    9484.0   \n",
              "1             90          Action,Thriller            6.0   71456.0   \n",
              "2            109  Action,Adventure,Comedy            6.3  201291.0   \n",
              "3             91      Action,Comedy,Crime            5.6   32967.0   \n",
              "4            117   Action,Sci-Fi,Thriller            5.7  116259.0   \n",
              "\n",
              "                                                plot          actor  \n",
              "0  Clean is a garbage man, attempting a quiet lif...   Adrien Brody  \n",
              "1  Academy Award winner Russell Crowe stars in Un...  Russell Crowe  \n",
              "2  Looking forward to attending her sister April'...     Tom Cruise  \n",
              "3  A bouncer with a slightly murderous anger-mana...  Stanley Tucci  \n",
              "4  Retiring assassin, Henry Brogan finds himself ...     Will Smith  "
            ],
            "text/html": [
              "\n",
              "  <div id=\"df-7b273d9c-8c5d-476d-bfb1-a775324600d0\">\n",
              "    <div class=\"colab-df-container\">\n",
              "      <div>\n",
              "<style scoped>\n",
              "    .dataframe tbody tr th:only-of-type {\n",
              "        vertical-align: middle;\n",
              "    }\n",
              "\n",
              "    .dataframe tbody tr th {\n",
              "        vertical-align: top;\n",
              "    }\n",
              "\n",
              "    .dataframe thead th {\n",
              "        text-align: right;\n",
              "    }\n",
              "</style>\n",
              "<table border=\"1\" class=\"dataframe\">\n",
              "  <thead>\n",
              "    <tr style=\"text-align: right;\">\n",
              "      <th></th>\n",
              "      <th>Unnamed: 0</th>\n",
              "      <th>tconst</th>\n",
              "      <th>primaryTitle</th>\n",
              "      <th>originalTitle</th>\n",
              "      <th>startYear</th>\n",
              "      <th>runtimeMinutes</th>\n",
              "      <th>genres</th>\n",
              "      <th>averageRating</th>\n",
              "      <th>numVotes</th>\n",
              "      <th>plot</th>\n",
              "      <th>actor</th>\n",
              "    </tr>\n",
              "  </thead>\n",
              "  <tbody>\n",
              "    <tr>\n",
              "      <th>0</th>\n",
              "      <td>0</td>\n",
              "      <td>tt10023022</td>\n",
              "      <td>Clean</td>\n",
              "      <td>Clean</td>\n",
              "      <td>2021</td>\n",
              "      <td>94</td>\n",
              "      <td>Action,Crime,Drama</td>\n",
              "      <td>5.6</td>\n",
              "      <td>9484.0</td>\n",
              "      <td>Clean is a garbage man, attempting a quiet lif...</td>\n",
              "      <td>Adrien Brody</td>\n",
              "    </tr>\n",
              "    <tr>\n",
              "      <th>1</th>\n",
              "      <td>1</td>\n",
              "      <td>tt10059518</td>\n",
              "      <td>Unhinged</td>\n",
              "      <td>Unhinged</td>\n",
              "      <td>2020</td>\n",
              "      <td>90</td>\n",
              "      <td>Action,Thriller</td>\n",
              "      <td>6.0</td>\n",
              "      <td>71456.0</td>\n",
              "      <td>Academy Award winner Russell Crowe stars in Un...</td>\n",
              "      <td>Russell Crowe</td>\n",
              "    </tr>\n",
              "    <tr>\n",
              "      <th>2</th>\n",
              "      <td>2</td>\n",
              "      <td>tt1013743</td>\n",
              "      <td>Knight and Day</td>\n",
              "      <td>Knight and Day</td>\n",
              "      <td>2010</td>\n",
              "      <td>109</td>\n",
              "      <td>Action,Adventure,Comedy</td>\n",
              "      <td>6.3</td>\n",
              "      <td>201291.0</td>\n",
              "      <td>Looking forward to attending her sister April'...</td>\n",
              "      <td>Tom Cruise</td>\n",
              "    </tr>\n",
              "    <tr>\n",
              "      <th>3</th>\n",
              "      <td>3</td>\n",
              "      <td>tt10228134</td>\n",
              "      <td>Jolt</td>\n",
              "      <td>Jolt</td>\n",
              "      <td>2021</td>\n",
              "      <td>91</td>\n",
              "      <td>Action,Comedy,Crime</td>\n",
              "      <td>5.6</td>\n",
              "      <td>32967.0</td>\n",
              "      <td>A bouncer with a slightly murderous anger-mana...</td>\n",
              "      <td>Stanley Tucci</td>\n",
              "    </tr>\n",
              "    <tr>\n",
              "      <th>4</th>\n",
              "      <td>4</td>\n",
              "      <td>tt1025100</td>\n",
              "      <td>Gemini Man</td>\n",
              "      <td>Gemini Man</td>\n",
              "      <td>2019</td>\n",
              "      <td>117</td>\n",
              "      <td>Action,Sci-Fi,Thriller</td>\n",
              "      <td>5.7</td>\n",
              "      <td>116259.0</td>\n",
              "      <td>Retiring assassin, Henry Brogan finds himself ...</td>\n",
              "      <td>Will Smith</td>\n",
              "    </tr>\n",
              "  </tbody>\n",
              "</table>\n",
              "</div>\n",
              "      <button class=\"colab-df-convert\" onclick=\"convertToInteractive('df-7b273d9c-8c5d-476d-bfb1-a775324600d0')\"\n",
              "              title=\"Convert this dataframe to an interactive table.\"\n",
              "              style=\"display:none;\">\n",
              "        \n",
              "  <svg xmlns=\"http://www.w3.org/2000/svg\" height=\"24px\"viewBox=\"0 0 24 24\"\n",
              "       width=\"24px\">\n",
              "    <path d=\"M0 0h24v24H0V0z\" fill=\"none\"/>\n",
              "    <path d=\"M18.56 5.44l.94 2.06.94-2.06 2.06-.94-2.06-.94-.94-2.06-.94 2.06-2.06.94zm-11 1L8.5 8.5l.94-2.06 2.06-.94-2.06-.94L8.5 2.5l-.94 2.06-2.06.94zm10 10l.94 2.06.94-2.06 2.06-.94-2.06-.94-.94-2.06-.94 2.06-2.06.94z\"/><path d=\"M17.41 7.96l-1.37-1.37c-.4-.4-.92-.59-1.43-.59-.52 0-1.04.2-1.43.59L10.3 9.45l-7.72 7.72c-.78.78-.78 2.05 0 2.83L4 21.41c.39.39.9.59 1.41.59.51 0 1.02-.2 1.41-.59l7.78-7.78 2.81-2.81c.8-.78.8-2.07 0-2.86zM5.41 20L4 18.59l7.72-7.72 1.47 1.35L5.41 20z\"/>\n",
              "  </svg>\n",
              "      </button>\n",
              "      \n",
              "  <style>\n",
              "    .colab-df-container {\n",
              "      display:flex;\n",
              "      flex-wrap:wrap;\n",
              "      gap: 12px;\n",
              "    }\n",
              "\n",
              "    .colab-df-convert {\n",
              "      background-color: #E8F0FE;\n",
              "      border: none;\n",
              "      border-radius: 50%;\n",
              "      cursor: pointer;\n",
              "      display: none;\n",
              "      fill: #1967D2;\n",
              "      height: 32px;\n",
              "      padding: 0 0 0 0;\n",
              "      width: 32px;\n",
              "    }\n",
              "\n",
              "    .colab-df-convert:hover {\n",
              "      background-color: #E2EBFA;\n",
              "      box-shadow: 0px 1px 2px rgba(60, 64, 67, 0.3), 0px 1px 3px 1px rgba(60, 64, 67, 0.15);\n",
              "      fill: #174EA6;\n",
              "    }\n",
              "\n",
              "    [theme=dark] .colab-df-convert {\n",
              "      background-color: #3B4455;\n",
              "      fill: #D2E3FC;\n",
              "    }\n",
              "\n",
              "    [theme=dark] .colab-df-convert:hover {\n",
              "      background-color: #434B5C;\n",
              "      box-shadow: 0px 1px 3px 1px rgba(0, 0, 0, 0.15);\n",
              "      filter: drop-shadow(0px 1px 2px rgba(0, 0, 0, 0.3));\n",
              "      fill: #FFFFFF;\n",
              "    }\n",
              "  </style>\n",
              "\n",
              "      <script>\n",
              "        const buttonEl =\n",
              "          document.querySelector('#df-7b273d9c-8c5d-476d-bfb1-a775324600d0 button.colab-df-convert');\n",
              "        buttonEl.style.display =\n",
              "          google.colab.kernel.accessAllowed ? 'block' : 'none';\n",
              "\n",
              "        async function convertToInteractive(key) {\n",
              "          const element = document.querySelector('#df-7b273d9c-8c5d-476d-bfb1-a775324600d0');\n",
              "          const dataTable =\n",
              "            await google.colab.kernel.invokeFunction('convertToInteractive',\n",
              "                                                     [key], {});\n",
              "          if (!dataTable) return;\n",
              "\n",
              "          const docLinkHtml = 'Like what you see? Visit the ' +\n",
              "            '<a target=\"_blank\" href=https://colab.research.google.com/notebooks/data_table.ipynb>data table notebook</a>'\n",
              "            + ' to learn more about interactive tables.';\n",
              "          element.innerHTML = '';\n",
              "          dataTable['output_type'] = 'display_data';\n",
              "          await google.colab.output.renderOutput(dataTable, element);\n",
              "          const docLink = document.createElement('div');\n",
              "          docLink.innerHTML = docLinkHtml;\n",
              "          element.appendChild(docLink);\n",
              "        }\n",
              "      </script>\n",
              "    </div>\n",
              "  </div>\n",
              "  "
            ]
          },
          "metadata": {},
          "execution_count": 4
        }
      ],
      "source": [
        "main_df = pd.read_csv(\"/content/top_actorInput.csv\")\n",
        "main_df.head()"
      ]
    },
    {
      "cell_type": "markdown",
      "metadata": {
        "id": "rljZl3d62Yjp"
      },
      "source": [
        "## Dropping Unneccesary Data Columns\n",
        "To recommend the protagonist of the movie we will be using title, genre, imdb rating and plot of the movie for our analysis"
      ]
    },
    {
      "cell_type": "code",
      "execution_count": 5,
      "metadata": {
        "colab": {
          "base_uri": "https://localhost:8080/"
        },
        "id": "ZHGLmbJ8xjnN",
        "outputId": "22cebe68-6120-4cb9-eed2-d54212fcdeeb"
      },
      "outputs": [
        {
          "output_type": "stream",
          "name": "stdout",
          "text": [
            "Shape of the dataframe df:  (1825, 5)\n"
          ]
        }
      ],
      "source": [
        "# df is the filtered dataset\n",
        "df = pd.DataFrame()\n",
        "df[\"title\"] = main_df[\"primaryTitle\"]\n",
        "df[\"genres\"] = main_df[\"genres\"]\n",
        "df[\"plot\"] = main_df[\"plot\"]\n",
        "df[\"imdb\"] = main_df[\"averageRating\"]\n",
        "df['actor'] = main_df['actor']\n",
        "\n",
        "df.head()\n",
        "print(\"Shape of the dataframe df: \", df.shape)"
      ]
    },
    {
      "cell_type": "markdown",
      "metadata": {
        "id": "0Eulp9615H6-"
      },
      "source": [
        "## Preprocessing and Data-Analysis\n",
        "\n"
      ]
    },
    {
      "cell_type": "markdown",
      "metadata": {
        "id": "pHZG6hdd5gJb"
      },
      "source": [
        "Dropping the rows with NAN values"
      ]
    },
    {
      "cell_type": "code",
      "execution_count": 6,
      "metadata": {
        "colab": {
          "base_uri": "https://localhost:8080/"
        },
        "id": "ljmdNdTU6K9z",
        "outputId": "832b2b29-5cc3-4e7d-e8a0-d94caf360800"
      },
      "outputs": [
        {
          "output_type": "execute_result",
          "data": {
            "text/plain": [
              "title      0\n",
              "genres     0\n",
              "plot       1\n",
              "imdb      43\n",
              "actor     61\n",
              "dtype: int64"
            ]
          },
          "metadata": {},
          "execution_count": 6
        }
      ],
      "source": [
        "df.isna().sum()"
      ]
    },
    {
      "cell_type": "code",
      "execution_count": 7,
      "metadata": {
        "colab": {
          "base_uri": "https://localhost:8080/"
        },
        "id": "ac18iB-05TbR",
        "outputId": "f46c4b36-393c-4e9b-eb72-9f0426eb8012"
      },
      "outputs": [
        {
          "output_type": "stream",
          "name": "stdout",
          "text": [
            "New shape of the dataframe df:  (1727, 5)\n"
          ]
        }
      ],
      "source": [
        "# as title, genre, imdb, plot, are the required for recommendation we will drop the rows containing NAN values in the either column\n",
        "df = df.replace({'NaN': np.nan})\n",
        "df = df.dropna(subset=['plot', 'actor', 'genres', 'title', 'imdb'], axis=0, how='any')\n",
        "print(\"New shape of the dataframe df: \", df.shape)"
      ]
    },
    {
      "cell_type": "markdown",
      "metadata": {
        "id": "0ukxGJ0P5pZ3"
      },
      "source": [
        "Making the name of actor a single string as required to get the actor embedding in the future"
      ]
    },
    {
      "cell_type": "code",
      "execution_count": 8,
      "metadata": {
        "colab": {
          "base_uri": "https://localhost:8080/"
        },
        "id": "IVd27MXXtcp7",
        "outputId": "1332ef08-c3a7-4fbd-db81-55340ee02b57"
      },
      "outputs": [
        {
          "output_type": "stream",
          "name": "stdout",
          "text": [
            "['AdrienBrody' 'RussellCrowe' 'TomCruise' ... 'J.K.Simmons' 'BruceWillis'\n",
            " 'J.K.Simmons']\n"
          ]
        }
      ],
      "source": [
        "df[\"actor\"] = df[\"actor\"].apply(lambda name: \"\".join(name.split()))\n",
        "print(df[\"actor\"].values)"
      ]
    },
    {
      "cell_type": "markdown",
      "metadata": {
        "id": "8o9MAeR-6myT"
      },
      "source": [
        "Check and Remove any duplicate rows"
      ]
    },
    {
      "cell_type": "code",
      "execution_count": 9,
      "metadata": {
        "colab": {
          "base_uri": "https://localhost:8080/"
        },
        "id": "RWPmhGfC6liC",
        "outputId": "65e08f5a-36e4-4457-8579-a0a03eab6e77"
      },
      "outputs": [
        {
          "output_type": "stream",
          "name": "stdout",
          "text": [
            "Duplicate Rows :  0\n",
            "Duplicate Rows :  0\n"
          ]
        }
      ],
      "source": [
        "print(\"Duplicate Rows : \", df.duplicated().sum())\n",
        "df.drop(axis=\"rows\", labels=df.index[df.duplicated()], inplace=True)\n",
        "print(\"Duplicate Rows : \", df.duplicated().sum())"
      ]
    },
    {
      "cell_type": "code",
      "execution_count": 10,
      "metadata": {
        "colab": {
          "base_uri": "https://localhost:8080/"
        },
        "id": "V4je1s4O8aKq",
        "outputId": "e146834c-b640-4e9a-ad96-b1a6a266230b"
      },
      "outputs": [
        {
          "output_type": "stream",
          "name": "stdout",
          "text": [
            "Empty DataFrame\n",
            "Columns: [title, genres, plot, imdb, actor]\n",
            "Index: []\n"
          ]
        }
      ],
      "source": [
        "df = df[df['actor'] != 'BruceWillis']\n",
        "df = df[df['actor'] != 'RobertDuvall']\n",
        "print(df[df['actor'] == 'RobertDuvall'])"
      ]
    },
    {
      "cell_type": "markdown",
      "metadata": {
        "id": "EwqXGeJE7Oqs"
      },
      "source": [
        "### Categorical data or Textual data to Numeric data"
      ]
    },
    {
      "cell_type": "markdown",
      "metadata": {
        "id": "2bzfD3Jx8dKr"
      },
      "source": [
        "Creating three different copys of the dataframe df"
      ]
    },
    {
      "cell_type": "code",
      "execution_count": 11,
      "metadata": {
        "id": "Mm5GrYP7sQWS"
      },
      "outputs": [],
      "source": [
        "get_actor_rating_df = pd.DataFrame()\n",
        "get_actor_rating_df = df.copy()\n",
        "\n",
        "get_actor_embedding_df = pd.DataFrame()\n",
        "get_actor_embedding_df = df.copy()\n",
        "\n",
        "get_plot_embedding_df = pd.DataFrame()\n",
        "get_plot_embedding_df = df.copy()\n"
      ]
    },
    {
      "cell_type": "markdown",
      "metadata": {
        "id": "NTa5s1pR3ZbT"
      },
      "source": [
        "#### Actor Name to Actor Embedding\n",
        "We will replace actor name \"string\" to actor embedding \"numeric vector\" for the purpose of training and recommendation "
      ]
    },
    {
      "cell_type": "code",
      "execution_count": 12,
      "metadata": {
        "colab": {
          "base_uri": "https://localhost:8080/"
        },
        "id": "fKbwe60P4KwJ",
        "outputId": "f83180b6-98ab-4a66-d977-543b24019d85"
      },
      "outputs": [
        {
          "output_type": "stream",
          "name": "stdout",
          "text": [
            "(1672, 5)\n"
          ]
        }
      ],
      "source": [
        "# verifying the shape of get_actor_embedding\n",
        "print(get_actor_embedding_df.shape)"
      ]
    },
    {
      "cell_type": "code",
      "execution_count": 13,
      "metadata": {
        "colab": {
          "base_uri": "https://localhost:8080/"
        },
        "id": "M841nNi7EASh",
        "outputId": "d6a61981-fe1e-40bc-f52d-a86cfc827d9a"
      },
      "outputs": [
        {
          "output_type": "stream",
          "name": "stdout",
          "text": [
            "Total Unique Actors in the Dataset:  86\n"
          ]
        }
      ],
      "source": [
        "# verifying the total number of unique actors \n",
        "print(\"Total Unique Actors in the Dataset: \", len(get_actor_embedding_df['actor'].unique()))"
      ]
    },
    {
      "cell_type": "code",
      "execution_count": 14,
      "metadata": {
        "id": "VakII1AdMP4_"
      },
      "outputs": [],
      "source": [
        "# creating a new column of sentence encompassing the dependency between the actor and genre he/she works in  \n",
        "get_actor_embedding_df['sentence'] = 'Actor ' + get_actor_embedding_df['actor'] + ' genres ' + get_actor_embedding_df['genres'].apply(lambda x: ', '.join(x.split(', '))) \n"
      ]
    },
    {
      "cell_type": "code",
      "execution_count": 15,
      "metadata": {
        "colab": {
          "base_uri": "https://localhost:8080/"
        },
        "id": "9ocwnzbJxtPm",
        "outputId": "36f98d7a-2bbf-4263-8b78-964eb93b932a"
      },
      "outputs": [
        {
          "output_type": "stream",
          "name": "stdout",
          "text": [
            "0           Actor AdrienBrody genres Action,Crime,Drama\n",
            "1             Actor RussellCrowe genres Action,Thriller\n",
            "2        Actor TomCruise genres Action,Adventure,Comedy\n",
            "3         Actor StanleyTucci genres Action,Comedy,Crime\n",
            "4         Actor WillSmith genres Action,Sci-Fi,Thriller\n",
            "                             ...                       \n",
            "1819    Actor TildaSwinton genres Drama,Fantasy,Romance\n",
            "1820      Actor KateWinslet genres Drama,Family,Fantasy\n",
            "1821                Actor AmyAdams genres Drama,Musical\n",
            "1822    Actor J.K.Simmons genres Comedy,Fantasy,Mystery\n",
            "1824    Actor J.K.Simmons genres Action,Adventure,Drama\n",
            "Name: sentence, Length: 1672, dtype: object\n"
          ]
        }
      ],
      "source": [
        "print(get_actor_embedding_df['sentence'])"
      ]
    },
    {
      "cell_type": "markdown",
      "metadata": {
        "id": "sAq1vC3f_NHi"
      },
      "source": [
        "The below code will fine tune pretrained Bert Model on the column of sentences formed above. Now, we will pass this sentences together as a single sentence for the different actors and thus from the overall context and local sentence level context we will get an embedding of actor while learing the embedding of the this concatenated sentence. This embedding will represent actor in 1024 dimension which is derived majorly from the type of genres they have worked in.\n",
        "\n",
        "\n"
      ]
    },
    {
      "cell_type": "code",
      "execution_count": 16,
      "metadata": {
        "colab": {
          "base_uri": "https://localhost:8080/",
          "height": 266,
          "referenced_widgets": [
            "b8e331f0e2a944f3ac1445052875d0cb",
            "0e8db7f8224949d1ab404a759c247fbb",
            "f475f9b6a71a4c6b9dd1cdf573e1c47c",
            "ca6907d2dcad42699c3e1ac52fd553c8",
            "2cbfc41d7a36407f8352960f3ac93228",
            "51eb7a079e1c42d29c6f943405247b4d",
            "8176c0d33ce743ae915ee685611944ee",
            "be8691e55a8949a78cbbfbc87d502e18",
            "2af55ff5af884805ade45683ddd8d5b2",
            "9002c640d5a348e3b026b38a80921f75",
            "8dbc7e99d68144d081558d3f6c99782d",
            "abe790780750428a8b74b24495fb77d0",
            "0e85bec713d24127b722c30c86eb0d33",
            "3c4e406e7ccb4dbca8b7c45af716f6c5",
            "308962fb6bfa4315ae065a755c4aadae",
            "3781edde0c1f4512b79413d15811217b",
            "a37af30f2545430a8e7667f3a0cc6ab8",
            "2893f829a7014754802d5007c2ccbd1a",
            "18448b417a0b412ca0bb25f42f7e24ab",
            "18166a8f630241338bc0738759215bcd",
            "b84f213d83bf4a49b586d2119854ab54",
            "dace1a146ad647bea805f9e4d9a35e8c",
            "a424b75771c04613951d5cf08c2d7dbc",
            "f9fe4db7e0134f46bc3376bd0d82d1a1",
            "757003d1fefd46369d5d0a4c42967850",
            "8bd83a708a90451cb21c213a22c6e917",
            "f27c5435df474a5b9d7da4f6607c559b",
            "5709752759984f2c8dda34e1a83dde58",
            "525b9e1ba4514336bc5f42a6c18f6297",
            "5d42a6f945e543cea57b52d5aa7fa2a2",
            "bb9c5da826314ca59ce1c88f344a8106",
            "473e041c6dbb4acfb52a9abea1d9867f",
            "52877f074d0741e694299d2e39582f1a",
            "da6794bffe9446d68ce9e118cf404e4d",
            "dae392d0d8664878891d9f3cf565f5b7",
            "4fb614d24dd24a7eb0f982f3401dc58b",
            "090b465dc0e9451faed81b46da7dc860",
            "fde4456e528c4bef8b93c2ce8eb97c88",
            "2df05de96498452eafeac4245dc9ed57",
            "5d45aca0b791436fb6553c9fa242ce5e",
            "6a152e9517ca421897a9a008cffa4ee9",
            "5374da2716f04b919aeea86f2935f207",
            "5c5bce1aedaf41d9a8c7ec8570fe2b74",
            "59640c5b46894e8da8d6fcabe849d23e",
            "6460225d7d5644c5ad8ed1498d34d21f",
            "07a29283893b4810a6f3b281cb9e5d82",
            "47f0c000f919453bb9edefe9c787b646",
            "5065cd7461bd48ac8b0a967ebf5eecba",
            "f056dd022cee4b0192f951b872d81ad7",
            "71f6dd9063d340a2b892ad4f0aa67429",
            "9750b94f95c841b1968b4e33ef1a90de",
            "92a5db6ac0a340388f5fe1ad8ab23162",
            "bea1be5caf3e40088a44e3f9180c3803",
            "8b5863e90db7490c971ea3f84acf3300",
            "23368521aa90417092b4b21e6957988b"
          ]
        },
        "id": "ijQea3dkxvtM",
        "outputId": "668a6ea8-b642-4d5b-d992-99d369f5896c"
      },
      "outputs": [
        {
          "output_type": "display_data",
          "data": {
            "text/plain": [
              "Downloading (…)lve/main/config.json:   0%|          | 0.00/571 [00:00<?, ?B/s]"
            ],
            "application/vnd.jupyter.widget-view+json": {
              "version_major": 2,
              "version_minor": 0,
              "model_id": "b8e331f0e2a944f3ac1445052875d0cb"
            }
          },
          "metadata": {}
        },
        {
          "output_type": "display_data",
          "data": {
            "text/plain": [
              "Downloading pytorch_model.bin:   0%|          | 0.00/1.34G [00:00<?, ?B/s]"
            ],
            "application/vnd.jupyter.widget-view+json": {
              "version_major": 2,
              "version_minor": 0,
              "model_id": "abe790780750428a8b74b24495fb77d0"
            }
          },
          "metadata": {}
        },
        {
          "output_type": "stream",
          "name": "stderr",
          "text": [
            "Some weights of the model checkpoint at bert-large-uncased were not used when initializing BertModel: ['cls.seq_relationship.weight', 'cls.predictions.decoder.weight', 'cls.predictions.transform.LayerNorm.bias', 'cls.predictions.transform.LayerNorm.weight', 'cls.seq_relationship.bias', 'cls.predictions.transform.dense.weight', 'cls.predictions.transform.dense.bias', 'cls.predictions.bias']\n",
            "- This IS expected if you are initializing BertModel from the checkpoint of a model trained on another task or with another architecture (e.g. initializing a BertForSequenceClassification model from a BertForPreTraining model).\n",
            "- This IS NOT expected if you are initializing BertModel from the checkpoint of a model that you expect to be exactly identical (initializing a BertForSequenceClassification model from a BertForSequenceClassification model).\n"
          ]
        },
        {
          "output_type": "display_data",
          "data": {
            "text/plain": [
              "Downloading (…)okenizer_config.json:   0%|          | 0.00/28.0 [00:00<?, ?B/s]"
            ],
            "application/vnd.jupyter.widget-view+json": {
              "version_major": 2,
              "version_minor": 0,
              "model_id": "a424b75771c04613951d5cf08c2d7dbc"
            }
          },
          "metadata": {}
        },
        {
          "output_type": "display_data",
          "data": {
            "text/plain": [
              "Downloading (…)solve/main/vocab.txt:   0%|          | 0.00/232k [00:00<?, ?B/s]"
            ],
            "application/vnd.jupyter.widget-view+json": {
              "version_major": 2,
              "version_minor": 0,
              "model_id": "da6794bffe9446d68ce9e118cf404e4d"
            }
          },
          "metadata": {}
        },
        {
          "output_type": "display_data",
          "data": {
            "text/plain": [
              "Downloading (…)/main/tokenizer.json:   0%|          | 0.00/466k [00:00<?, ?B/s]"
            ],
            "application/vnd.jupyter.widget-view+json": {
              "version_major": 2,
              "version_minor": 0,
              "model_id": "6460225d7d5644c5ad8ed1498d34d21f"
            }
          },
          "metadata": {}
        },
        {
          "output_type": "stream",
          "name": "stdout",
          "text": [
            "Total unique actors in Actor_to_Embedding Map:  86\n"
          ]
        }
      ],
      "source": [
        "model = BertModel.from_pretrained(\"bert-large-uncased\")\n",
        "tokenizer = BertTokenizerFast.from_pretrained(\"bert-large-uncased\")\n",
        "\n",
        "count = 0\n",
        "actorEmbedding = {}\n",
        "for i in range (0, 35):\n",
        "  sentences = get_actor_embedding_df['sentence'].tolist()[count: (count+47)]\n",
        "\n",
        "  text = \" \".join(sentences)\n",
        "  tokens = tokenizer.encode_plus(text, return_tensors=\"pt\", add_special_tokens=True)\n",
        "\n",
        "  with torch.no_grad():\n",
        "      embeddings = model(**tokens)\n",
        "\n",
        "  for sentence in sentences:\n",
        "      actor = sentence.split(\" \")[1:2]\n",
        "      actor_key = \" \".join(actor)\n",
        "      \n",
        "      actor_ids = tokenizer.convert_tokens_to_ids(tokenizer.tokenize(actor_key))\n",
        "      actor_token_position = torch.where(tokens[\"input_ids\"][0] == actor_ids[0])[0][0].item()\n",
        "      actor_embedding = embeddings[0][0, actor_token_position].numpy()\n",
        "     \n",
        "      if actor_key in actorEmbedding.keys():\n",
        "            actorEmbedding[actor_key] += actor_embedding\n",
        "      else:\n",
        "            actorEmbedding[actor_key] = actor_embedding        \n",
        "  count += 50\n",
        "\n",
        "print(\"Total unique actors in Actor_to_Embedding Map: \", len(actorEmbedding))\n"
      ]
    },
    {
      "cell_type": "code",
      "execution_count": 17,
      "metadata": {
        "id": "eRcKvBwawACv",
        "colab": {
          "base_uri": "https://localhost:8080/",
          "height": 337
        },
        "outputId": "5bdcd166-ef1b-4d26-f6df-6610456f0042"
      },
      "outputs": [
        {
          "output_type": "execute_result",
          "data": {
            "text/plain": [
              "            title                   genres  \\\n",
              "0           Clean       Action,Crime,Drama   \n",
              "1        Unhinged          Action,Thriller   \n",
              "2  Knight and Day  Action,Adventure,Comedy   \n",
              "3            Jolt      Action,Comedy,Crime   \n",
              "4      Gemini Man   Action,Sci-Fi,Thriller   \n",
              "\n",
              "                                                plot  imdb         actor  \\\n",
              "0  Clean is a garbage man, attempting a quiet lif...   5.6   AdrienBrody   \n",
              "1  Academy Award winner Russell Crowe stars in Un...   6.0  RussellCrowe   \n",
              "2  Looking forward to attending her sister April'...   6.3     TomCruise   \n",
              "3  A bouncer with a slightly murderous anger-mana...   5.6  StanleyTucci   \n",
              "4  Retiring assassin, Henry Brogan finds himself ...   5.7     WillSmith   \n",
              "\n",
              "                                         sentence  \\\n",
              "0     Actor AdrienBrody genres Action,Crime,Drama   \n",
              "1       Actor RussellCrowe genres Action,Thriller   \n",
              "2  Actor TomCruise genres Action,Adventure,Comedy   \n",
              "3   Actor StanleyTucci genres Action,Comedy,Crime   \n",
              "4   Actor WillSmith genres Action,Sci-Fi,Thriller   \n",
              "\n",
              "                                     actor_embedding  \n",
              "0  [2.5176585, 3.827029, 16.150808, 1.227076, -12...  \n",
              "1  [-6.29277, -6.3197145, -8.305949, -1.447826, -...  \n",
              "2  [-4.114017, -11.486978, 8.436532, -4.3201885, ...  \n",
              "3  [-1.5728112, -3.1757967, 0.3853551, -3.4199708...  \n",
              "4  [-1.9311359, -13.718487, 1.673339, -0.546305, ...  "
            ],
            "text/html": [
              "\n",
              "  <div id=\"df-e6291c43-070d-4627-8623-dbf5c66f987e\">\n",
              "    <div class=\"colab-df-container\">\n",
              "      <div>\n",
              "<style scoped>\n",
              "    .dataframe tbody tr th:only-of-type {\n",
              "        vertical-align: middle;\n",
              "    }\n",
              "\n",
              "    .dataframe tbody tr th {\n",
              "        vertical-align: top;\n",
              "    }\n",
              "\n",
              "    .dataframe thead th {\n",
              "        text-align: right;\n",
              "    }\n",
              "</style>\n",
              "<table border=\"1\" class=\"dataframe\">\n",
              "  <thead>\n",
              "    <tr style=\"text-align: right;\">\n",
              "      <th></th>\n",
              "      <th>title</th>\n",
              "      <th>genres</th>\n",
              "      <th>plot</th>\n",
              "      <th>imdb</th>\n",
              "      <th>actor</th>\n",
              "      <th>sentence</th>\n",
              "      <th>actor_embedding</th>\n",
              "    </tr>\n",
              "  </thead>\n",
              "  <tbody>\n",
              "    <tr>\n",
              "      <th>0</th>\n",
              "      <td>Clean</td>\n",
              "      <td>Action,Crime,Drama</td>\n",
              "      <td>Clean is a garbage man, attempting a quiet lif...</td>\n",
              "      <td>5.6</td>\n",
              "      <td>AdrienBrody</td>\n",
              "      <td>Actor AdrienBrody genres Action,Crime,Drama</td>\n",
              "      <td>[2.5176585, 3.827029, 16.150808, 1.227076, -12...</td>\n",
              "    </tr>\n",
              "    <tr>\n",
              "      <th>1</th>\n",
              "      <td>Unhinged</td>\n",
              "      <td>Action,Thriller</td>\n",
              "      <td>Academy Award winner Russell Crowe stars in Un...</td>\n",
              "      <td>6.0</td>\n",
              "      <td>RussellCrowe</td>\n",
              "      <td>Actor RussellCrowe genres Action,Thriller</td>\n",
              "      <td>[-6.29277, -6.3197145, -8.305949, -1.447826, -...</td>\n",
              "    </tr>\n",
              "    <tr>\n",
              "      <th>2</th>\n",
              "      <td>Knight and Day</td>\n",
              "      <td>Action,Adventure,Comedy</td>\n",
              "      <td>Looking forward to attending her sister April'...</td>\n",
              "      <td>6.3</td>\n",
              "      <td>TomCruise</td>\n",
              "      <td>Actor TomCruise genres Action,Adventure,Comedy</td>\n",
              "      <td>[-4.114017, -11.486978, 8.436532, -4.3201885, ...</td>\n",
              "    </tr>\n",
              "    <tr>\n",
              "      <th>3</th>\n",
              "      <td>Jolt</td>\n",
              "      <td>Action,Comedy,Crime</td>\n",
              "      <td>A bouncer with a slightly murderous anger-mana...</td>\n",
              "      <td>5.6</td>\n",
              "      <td>StanleyTucci</td>\n",
              "      <td>Actor StanleyTucci genres Action,Comedy,Crime</td>\n",
              "      <td>[-1.5728112, -3.1757967, 0.3853551, -3.4199708...</td>\n",
              "    </tr>\n",
              "    <tr>\n",
              "      <th>4</th>\n",
              "      <td>Gemini Man</td>\n",
              "      <td>Action,Sci-Fi,Thriller</td>\n",
              "      <td>Retiring assassin, Henry Brogan finds himself ...</td>\n",
              "      <td>5.7</td>\n",
              "      <td>WillSmith</td>\n",
              "      <td>Actor WillSmith genres Action,Sci-Fi,Thriller</td>\n",
              "      <td>[-1.9311359, -13.718487, 1.673339, -0.546305, ...</td>\n",
              "    </tr>\n",
              "  </tbody>\n",
              "</table>\n",
              "</div>\n",
              "      <button class=\"colab-df-convert\" onclick=\"convertToInteractive('df-e6291c43-070d-4627-8623-dbf5c66f987e')\"\n",
              "              title=\"Convert this dataframe to an interactive table.\"\n",
              "              style=\"display:none;\">\n",
              "        \n",
              "  <svg xmlns=\"http://www.w3.org/2000/svg\" height=\"24px\"viewBox=\"0 0 24 24\"\n",
              "       width=\"24px\">\n",
              "    <path d=\"M0 0h24v24H0V0z\" fill=\"none\"/>\n",
              "    <path d=\"M18.56 5.44l.94 2.06.94-2.06 2.06-.94-2.06-.94-.94-2.06-.94 2.06-2.06.94zm-11 1L8.5 8.5l.94-2.06 2.06-.94-2.06-.94L8.5 2.5l-.94 2.06-2.06.94zm10 10l.94 2.06.94-2.06 2.06-.94-2.06-.94-.94-2.06-.94 2.06-2.06.94z\"/><path d=\"M17.41 7.96l-1.37-1.37c-.4-.4-.92-.59-1.43-.59-.52 0-1.04.2-1.43.59L10.3 9.45l-7.72 7.72c-.78.78-.78 2.05 0 2.83L4 21.41c.39.39.9.59 1.41.59.51 0 1.02-.2 1.41-.59l7.78-7.78 2.81-2.81c.8-.78.8-2.07 0-2.86zM5.41 20L4 18.59l7.72-7.72 1.47 1.35L5.41 20z\"/>\n",
              "  </svg>\n",
              "      </button>\n",
              "      \n",
              "  <style>\n",
              "    .colab-df-container {\n",
              "      display:flex;\n",
              "      flex-wrap:wrap;\n",
              "      gap: 12px;\n",
              "    }\n",
              "\n",
              "    .colab-df-convert {\n",
              "      background-color: #E8F0FE;\n",
              "      border: none;\n",
              "      border-radius: 50%;\n",
              "      cursor: pointer;\n",
              "      display: none;\n",
              "      fill: #1967D2;\n",
              "      height: 32px;\n",
              "      padding: 0 0 0 0;\n",
              "      width: 32px;\n",
              "    }\n",
              "\n",
              "    .colab-df-convert:hover {\n",
              "      background-color: #E2EBFA;\n",
              "      box-shadow: 0px 1px 2px rgba(60, 64, 67, 0.3), 0px 1px 3px 1px rgba(60, 64, 67, 0.15);\n",
              "      fill: #174EA6;\n",
              "    }\n",
              "\n",
              "    [theme=dark] .colab-df-convert {\n",
              "      background-color: #3B4455;\n",
              "      fill: #D2E3FC;\n",
              "    }\n",
              "\n",
              "    [theme=dark] .colab-df-convert:hover {\n",
              "      background-color: #434B5C;\n",
              "      box-shadow: 0px 1px 3px 1px rgba(0, 0, 0, 0.15);\n",
              "      filter: drop-shadow(0px 1px 2px rgba(0, 0, 0, 0.3));\n",
              "      fill: #FFFFFF;\n",
              "    }\n",
              "  </style>\n",
              "\n",
              "      <script>\n",
              "        const buttonEl =\n",
              "          document.querySelector('#df-e6291c43-070d-4627-8623-dbf5c66f987e button.colab-df-convert');\n",
              "        buttonEl.style.display =\n",
              "          google.colab.kernel.accessAllowed ? 'block' : 'none';\n",
              "\n",
              "        async function convertToInteractive(key) {\n",
              "          const element = document.querySelector('#df-e6291c43-070d-4627-8623-dbf5c66f987e');\n",
              "          const dataTable =\n",
              "            await google.colab.kernel.invokeFunction('convertToInteractive',\n",
              "                                                     [key], {});\n",
              "          if (!dataTable) return;\n",
              "\n",
              "          const docLinkHtml = 'Like what you see? Visit the ' +\n",
              "            '<a target=\"_blank\" href=https://colab.research.google.com/notebooks/data_table.ipynb>data table notebook</a>'\n",
              "            + ' to learn more about interactive tables.';\n",
              "          element.innerHTML = '';\n",
              "          dataTable['output_type'] = 'display_data';\n",
              "          await google.colab.output.renderOutput(dataTable, element);\n",
              "          const docLink = document.createElement('div');\n",
              "          docLink.innerHTML = docLinkHtml;\n",
              "          element.appendChild(docLink);\n",
              "        }\n",
              "      </script>\n",
              "    </div>\n",
              "  </div>\n",
              "  "
            ]
          },
          "metadata": {},
          "execution_count": 17
        }
      ],
      "source": [
        "# now we have the numeric vector representing the actor name \n",
        "get_actor_embedding_df['actor_embedding'] = get_actor_embedding_df['actor'].map(actorEmbedding)\n",
        "get_actor_embedding_df['actor_embedding'] = get_actor_embedding_df['actor_embedding'].tolist()\n",
        "get_actor_embedding_df.head()"
      ]
    },
    {
      "cell_type": "code",
      "execution_count": 18,
      "metadata": {
        "id": "RetXYhwMB7Lm",
        "colab": {
          "base_uri": "https://localhost:8080/"
        },
        "outputId": "802a69cd-aee0-402a-ddb9-b6f2c90c299d"
      },
      "outputs": [
        {
          "output_type": "stream",
          "name": "stdout",
          "text": [
            "(1024,)\n"
          ]
        }
      ],
      "source": [
        "print(actorEmbedding[\"AdrienBrody\"].shape)"
      ]
    },
    {
      "cell_type": "code",
      "execution_count": 19,
      "metadata": {
        "colab": {
          "base_uri": "https://localhost:8080/"
        },
        "id": "RbAbaNSr0HLy",
        "outputId": "89b46630-b929-4b35-cc3b-262e05aeae82"
      },
      "outputs": [
        {
          "output_type": "stream",
          "name": "stdout",
          "text": [
            "Looking in indexes: https://pypi.org/simple, https://us-python.pkg.dev/colab-wheels/public/simple/\n",
            "Collecting kneed\n",
            "  Downloading kneed-0.8.3-py3-none-any.whl (10 kB)\n",
            "Requirement already satisfied: numpy>=1.14.2 in /usr/local/lib/python3.10/dist-packages (from kneed) (1.22.4)\n",
            "Requirement already satisfied: scipy>=1.0.0 in /usr/local/lib/python3.10/dist-packages (from kneed) (1.10.1)\n",
            "Installing collected packages: kneed\n",
            "Successfully installed kneed-0.8.3\n"
          ]
        }
      ],
      "source": [
        "!pip install kneed"
      ]
    },
    {
      "cell_type": "code",
      "execution_count": 20,
      "metadata": {
        "colab": {
          "base_uri": "https://localhost:8080/",
          "height": 822
        },
        "id": "6Il2Ice3y8TS",
        "outputId": "2f637d73-70b6-4e10-e509-c9a041877dcc"
      },
      "outputs": [
        {
          "output_type": "stream",
          "name": "stderr",
          "text": [
            "/usr/local/lib/python3.10/dist-packages/sklearn/cluster/_kmeans.py:870: FutureWarning: The default value of `n_init` will change from 10 to 'auto' in 1.4. Set the value of `n_init` explicitly to suppress the warning\n",
            "  warnings.warn(\n",
            "/usr/local/lib/python3.10/dist-packages/sklearn/cluster/_kmeans.py:870: FutureWarning: The default value of `n_init` will change from 10 to 'auto' in 1.4. Set the value of `n_init` explicitly to suppress the warning\n",
            "  warnings.warn(\n",
            "/usr/local/lib/python3.10/dist-packages/sklearn/cluster/_kmeans.py:870: FutureWarning: The default value of `n_init` will change from 10 to 'auto' in 1.4. Set the value of `n_init` explicitly to suppress the warning\n",
            "  warnings.warn(\n",
            "/usr/local/lib/python3.10/dist-packages/sklearn/cluster/_kmeans.py:870: FutureWarning: The default value of `n_init` will change from 10 to 'auto' in 1.4. Set the value of `n_init` explicitly to suppress the warning\n",
            "  warnings.warn(\n",
            "/usr/local/lib/python3.10/dist-packages/sklearn/cluster/_kmeans.py:870: FutureWarning: The default value of `n_init` will change from 10 to 'auto' in 1.4. Set the value of `n_init` explicitly to suppress the warning\n",
            "  warnings.warn(\n",
            "/usr/local/lib/python3.10/dist-packages/sklearn/cluster/_kmeans.py:870: FutureWarning: The default value of `n_init` will change from 10 to 'auto' in 1.4. Set the value of `n_init` explicitly to suppress the warning\n",
            "  warnings.warn(\n",
            "/usr/local/lib/python3.10/dist-packages/sklearn/cluster/_kmeans.py:870: FutureWarning: The default value of `n_init` will change from 10 to 'auto' in 1.4. Set the value of `n_init` explicitly to suppress the warning\n",
            "  warnings.warn(\n",
            "/usr/local/lib/python3.10/dist-packages/sklearn/cluster/_kmeans.py:870: FutureWarning: The default value of `n_init` will change from 10 to 'auto' in 1.4. Set the value of `n_init` explicitly to suppress the warning\n",
            "  warnings.warn(\n",
            "/usr/local/lib/python3.10/dist-packages/sklearn/cluster/_kmeans.py:870: FutureWarning: The default value of `n_init` will change from 10 to 'auto' in 1.4. Set the value of `n_init` explicitly to suppress the warning\n",
            "  warnings.warn(\n"
          ]
        },
        {
          "output_type": "display_data",
          "data": {
            "text/plain": [
              "<Figure size 640x480 with 1 Axes>"
            ],
            "image/png": "[encoded data removed]"
          },
          "metadata": {}
        },
        {
          "output_type": "stream",
          "name": "stdout",
          "text": [
            "Optimal number of clusters (k): 4\n"
          ]
        }
      ],
      "source": [
        "import pandas as pd\n",
        "import matplotlib.pyplot as plt\n",
        "from sklearn.cluster import KMeans\n",
        "from kneed import KneeLocator\n",
        "\n",
        "embeddings = np.array(list(actorEmbedding.values()))\n",
        "k_range = range(1, 10)\n",
        "sse = []\n",
        "for k in k_range:\n",
        "    km = KMeans(n_clusters=k)\n",
        "    km.fit(embeddings)\n",
        "    sse.append(km.inertia_)\n",
        "\n",
        "kneedle = KneeLocator(k_range, sse, curve='convex', direction='decreasing')\n",
        "optimal_k = kneedle.elbow\n",
        "\n",
        "plt.plot(k_range, sse)\n",
        "plt.xlabel('Number of clusters (k)')\n",
        "plt.ylabel('Sum of squared distances')\n",
        "plt.title('Elbow plot')\n",
        "plt.show()\n",
        "print('Optimal number of clusters (k):', optimal_k)"
      ]
    },
    {
      "cell_type": "markdown",
      "metadata": {
        "id": "73xM7t_rA1Ku"
      },
      "source": [
        "Analysing the actor embedding, we will cluster them on their similarity "
      ]
    },
    {
      "cell_type": "code",
      "execution_count": 21,
      "metadata": {
        "colab": {
          "base_uri": "https://localhost:8080/",
          "height": 527
        },
        "id": "b2-qFyuuM_v6",
        "outputId": "ef0488e8-563f-44a9-e0d0-912433b49a64"
      },
      "outputs": [
        {
          "output_type": "stream",
          "name": "stderr",
          "text": [
            "/usr/local/lib/python3.10/dist-packages/sklearn/cluster/_kmeans.py:870: FutureWarning: The default value of `n_init` will change from 10 to 'auto' in 1.4. Set the value of `n_init` explicitly to suppress the warning\n",
            "  warnings.warn(\n"
          ]
        },
        {
          "output_type": "display_data",
          "data": {
            "text/plain": [
              "<Figure size 640x480 with 1 Axes>"
            ],
            "image/png": "[encoded data removed]"
          },
          "metadata": {}
        }
      ],
      "source": [
        "from scipy.spatial.distance import cdist\n",
        "embeddings = np.array(list(actorEmbedding.values()))\n",
        "kmeans = KMeans(n_clusters=8, random_state=42)\n",
        "kmeans.fit(embeddings)\n",
        "\n",
        "labels = kmeans.labels_\n",
        "\n",
        "\n",
        "actor_names = list(actorEmbedding.keys())\n",
        "clustered_actors = {actor_names[i]: labels[i] for i in range(len(actor_names))}\n",
        "\n",
        "\n",
        "fig, ax = plt.subplots()\n",
        "scatter = ax.scatter(embeddings[:, 0], embeddings[:, 1], c=labels, cmap='viridis')\n",
        "\n",
        "legend1 = ax.legend(*scatter.legend_elements(),\n",
        "                    loc=\"upper right\", title=\"Clusters\")\n",
        "ax.add_artist(legend1)\n",
        "\n",
        "ax.set_xlabel('Dimension 1')\n",
        "ax.set_ylabel('Dimension 2')\n",
        "ax.set_title('Actor Clusters')\n",
        "\n",
        "plt.show()\n"
      ]
    },
    {
      "cell_type": "code",
      "execution_count": 22,
      "metadata": {
        "id": "0iUWqWodNpZQ"
      },
      "outputs": [],
      "source": [
        "get_actor_embedding_df['actor_cluster'] = get_actor_embedding_df['actor'].map(clustered_actors)"
      ]
    },
    {
      "cell_type": "code",
      "execution_count": 23,
      "metadata": {
        "colab": {
          "base_uri": "https://localhost:8080/",
          "height": 36
        },
        "id": "PIfCTW8h7HIa",
        "outputId": "9c792944-dceb-4747-c198-17264db9feea"
      },
      "outputs": [
        {
          "output_type": "execute_result",
          "data": {
            "text/plain": [
              "'RussellCrowe'"
            ],
            "application/vnd.google.colaboratory.intrinsic+json": {
              "type": "string"
            }
          },
          "metadata": {},
          "execution_count": 23
        }
      ],
      "source": [
        "get_actor_embedding_df.loc[get_actor_embedding_df['actor_cluster'] == 3, \"actor\"].values[0]"
      ]
    },
    {
      "cell_type": "code",
      "execution_count": 24,
      "metadata": {
        "colab": {
          "base_uri": "https://localhost:8080/",
          "height": 36
        },
        "id": "4EuyTxx570qc",
        "outputId": "e5ea852c-f447-4751-9de4-10dcca519c36"
      },
      "outputs": [
        {
          "output_type": "execute_result",
          "data": {
            "text/plain": [
              "'RobertDowneyJr.'"
            ],
            "application/vnd.google.colaboratory.intrinsic+json": {
              "type": "string"
            }
          },
          "metadata": {},
          "execution_count": 24
        }
      ],
      "source": [
        "get_actor_embedding_df.loc[get_actor_embedding_df['actor_cluster'] == 1, \"actor\"].values[0]"
      ]
    },
    {
      "cell_type": "markdown",
      "metadata": {
        "id": "dJL3TjNODp38"
      },
      "source": [
        "#### Movie Plot to Plot embedding\n",
        "We will replace plot to plot embedding \"numeric vector\" for the purpose of training and recommendation "
      ]
    },
    {
      "cell_type": "code",
      "execution_count": 25,
      "metadata": {
        "id": "hNL2jdRAcS0I"
      },
      "outputs": [],
      "source": [
        "bert_model=transformers.DistilBertModel\n",
        "berttokenizer=transformers.DistilBertTokenizer\n",
        "weights_type=\"distilbert-base-uncased\""
      ]
    },
    {
      "cell_type": "code",
      "execution_count": 26,
      "metadata": {
        "colab": {
          "base_uri": "https://localhost:8080/",
          "height": 217,
          "referenced_widgets": [
            "21fed24d5bc74837b16b3bcf5b0375f0",
            "7e33c77801b949a2bdc6501d6a4b94d9",
            "7174719d7730404a8b60656ccdd1413b",
            "1f769a191a2f4e9cbad17f172aa42447",
            "974c4f137cbc437d913a57a206b8fd17",
            "bb5e12bf458c4c698fa244dc27a356c3",
            "087964cf4a6b40aab46ac153e911037e",
            "95c592bd65d54d128b603020947288a7",
            "493ffe0c34164e1288a4cd1b507a1086",
            "b0ae7bb7ccdb4bc1afb883cfc8dffa2e",
            "e602799d92cc4dc298d249f782f5d9d4",
            "da9058990b3f443c98185e721ec57f84",
            "2cfbbad9a6564cd4baf0d655e5799196",
            "bf033e35ab2d4c07a72b9002e3a5ee37",
            "bc2d4d1f89694218a749c40f0aea5cde",
            "b370e7d8e5bc457ebb0b51259f345d69",
            "97e8514b9d4c433aaaa007a337f56bf1",
            "0f70e76ad67a43e8a100b5cef0bb431d",
            "58a68584a16f4a0090ad4b1df56f2707",
            "fa00ffce7744446fa61d771d4611bccb",
            "b064d06ea9fd4fb9ad64c05dd9e1d262",
            "23619189bd444e8ca6a78c7c58509c48",
            "c2f5b0b5a0aa4f69ad0382045dd5af2e",
            "c788d27888c74b8788698ad316653220",
            "643e1fb60f9844288f3e5c67826f8a1e",
            "8e633b1bfd5242cbbc9adf83ce8806d9",
            "d652dc36589b4932a2103531de000518",
            "6fee037cac84465b967c6a5681f3ff74",
            "9288562354b5412ab042c878d69dc8b8",
            "9770d9fe59244bb2b104c833db979381",
            "ef4b64e6200642258d76c5ff5e1c315e",
            "745af2b7665f4893a6c7ecb89cd2e85e",
            "ec3d3cd320fe4d45a811dea166bf2dd8",
            "c753138d5bf24ad996dc033e1108d22a",
            "bffd14a7dd8541a7b926d69b7d7c8e73",
            "fab21946f2fe4b95839ef54a3eb6076b",
            "b5377d1dc1e744deb8cb4335004601c0",
            "cf58e2ba67b745309aa389b244230cf3",
            "8fd6d55afa364462be7334c9693f3a87",
            "a2a0f31f38b94acfb66c8f7a3b6c14be",
            "044c7454e557469c86cd0398925dca4d",
            "2972920877bc4e55bf9e0bbbbad80e91",
            "70069c865a4d4c2298f6abb0fc2ffa31",
            "92566047755e47e0bb3e58e345640c59"
          ]
        },
        "id": "CaqBpt60cWKg",
        "outputId": "c9ef196e-478f-41e2-8386-bc644256135b"
      },
      "outputs": [
        {
          "output_type": "display_data",
          "data": {
            "text/plain": [
              "Downloading (…)solve/main/vocab.txt:   0%|          | 0.00/232k [00:00<?, ?B/s]"
            ],
            "application/vnd.jupyter.widget-view+json": {
              "version_major": 2,
              "version_minor": 0,
              "model_id": "21fed24d5bc74837b16b3bcf5b0375f0"
            }
          },
          "metadata": {}
        },
        {
          "output_type": "display_data",
          "data": {
            "text/plain": [
              "Downloading (…)okenizer_config.json:   0%|          | 0.00/28.0 [00:00<?, ?B/s]"
            ],
            "application/vnd.jupyter.widget-view+json": {
              "version_major": 2,
              "version_minor": 0,
              "model_id": "da9058990b3f443c98185e721ec57f84"
            }
          },
          "metadata": {}
        },
        {
          "output_type": "display_data",
          "data": {
            "text/plain": [
              "Downloading (…)lve/main/config.json:   0%|          | 0.00/483 [00:00<?, ?B/s]"
            ],
            "application/vnd.jupyter.widget-view+json": {
              "version_major": 2,
              "version_minor": 0,
              "model_id": "c2f5b0b5a0aa4f69ad0382045dd5af2e"
            }
          },
          "metadata": {}
        },
        {
          "output_type": "display_data",
          "data": {
            "text/plain": [
              "Downloading pytorch_model.bin:   0%|          | 0.00/268M [00:00<?, ?B/s]"
            ],
            "application/vnd.jupyter.widget-view+json": {
              "version_major": 2,
              "version_minor": 0,
              "model_id": "c753138d5bf24ad996dc033e1108d22a"
            }
          },
          "metadata": {}
        },
        {
          "output_type": "stream",
          "name": "stderr",
          "text": [
            "Some weights of the model checkpoint at distilbert-base-uncased were not used when initializing DistilBertModel: ['vocab_transform.weight', 'vocab_projector.bias', 'vocab_layer_norm.bias', 'vocab_transform.bias', 'vocab_projector.weight', 'vocab_layer_norm.weight']\n",
            "- This IS expected if you are initializing DistilBertModel from the checkpoint of a model trained on another task or with another architecture (e.g. initializing a BertForSequenceClassification model from a BertForPreTraining model).\n",
            "- This IS NOT expected if you are initializing DistilBertModel from the checkpoint of a model that you expect to be exactly identical (initializing a BertForSequenceClassification model from a BertForSequenceClassification model).\n"
          ]
        }
      ],
      "source": [
        "tokenizer=berttokenizer.from_pretrained(weights_type)\n",
        "model=bert_model.from_pretrained(weights_type)"
      ]
    },
    {
      "cell_type": "code",
      "execution_count": 27,
      "metadata": {
        "id": "CxG9J0EKlNbQ"
      },
      "outputs": [],
      "source": [
        "finaldata = get_plot_embedding_df[[\"title\",\"plot\"]]\n",
        "finaldata = finaldata.set_index('title')"
      ]
    },
    {
      "cell_type": "code",
      "execution_count": 28,
      "metadata": {
        "colab": {
          "base_uri": "https://localhost:8080/",
          "height": 237
        },
        "id": "24P2Wk9_ltM1",
        "outputId": "19f1bc5e-2498-4232-a818-97b16a7f0960"
      },
      "outputs": [
        {
          "output_type": "execute_result",
          "data": {
            "text/plain": [
              "                                                             plot\n",
              "title                                                            \n",
              "Clean           Clean is a garbage man, attempting a quiet lif...\n",
              "Unhinged        Academy Award winner Russell Crowe stars in Un...\n",
              "Knight and Day  Looking forward to attending her sister April'...\n",
              "Jolt            A bouncer with a slightly murderous anger-mana...\n",
              "Gemini Man      Retiring assassin, Henry Brogan finds himself ..."
            ],
            "text/html": [
              "\n",
              "  <div id=\"df-1946f341-8a85-44cc-a76c-6434afa878e6\">\n",
              "    <div class=\"colab-df-container\">\n",
              "      <div>\n",
              "<style scoped>\n",
              "    .dataframe tbody tr th:only-of-type {\n",
              "        vertical-align: middle;\n",
              "    }\n",
              "\n",
              "    .dataframe tbody tr th {\n",
              "        vertical-align: top;\n",
              "    }\n",
              "\n",
              "    .dataframe thead th {\n",
              "        text-align: right;\n",
              "    }\n",
              "</style>\n",
              "<table border=\"1\" class=\"dataframe\">\n",
              "  <thead>\n",
              "    <tr style=\"text-align: right;\">\n",
              "      <th></th>\n",
              "      <th>plot</th>\n",
              "    </tr>\n",
              "    <tr>\n",
              "      <th>title</th>\n",
              "      <th></th>\n",
              "    </tr>\n",
              "  </thead>\n",
              "  <tbody>\n",
              "    <tr>\n",
              "      <th>Clean</th>\n",
              "      <td>Clean is a garbage man, attempting a quiet lif...</td>\n",
              "    </tr>\n",
              "    <tr>\n",
              "      <th>Unhinged</th>\n",
              "      <td>Academy Award winner Russell Crowe stars in Un...</td>\n",
              "    </tr>\n",
              "    <tr>\n",
              "      <th>Knight and Day</th>\n",
              "      <td>Looking forward to attending her sister April'...</td>\n",
              "    </tr>\n",
              "    <tr>\n",
              "      <th>Jolt</th>\n",
              "      <td>A bouncer with a slightly murderous anger-mana...</td>\n",
              "    </tr>\n",
              "    <tr>\n",
              "      <th>Gemini Man</th>\n",
              "      <td>Retiring assassin, Henry Brogan finds himself ...</td>\n",
              "    </tr>\n",
              "  </tbody>\n",
              "</table>\n",
              "</div>\n",
              "      <button class=\"colab-df-convert\" onclick=\"convertToInteractive('df-1946f341-8a85-44cc-a76c-6434afa878e6')\"\n",
              "              title=\"Convert this dataframe to an interactive table.\"\n",
              "              style=\"display:none;\">\n",
              "        \n",
              "  <svg xmlns=\"http://www.w3.org/2000/svg\" height=\"24px\"viewBox=\"0 0 24 24\"\n",
              "       width=\"24px\">\n",
              "    <path d=\"M0 0h24v24H0V0z\" fill=\"none\"/>\n",
              "    <path d=\"M18.56 5.44l.94 2.06.94-2.06 2.06-.94-2.06-.94-.94-2.06-.94 2.06-2.06.94zm-11 1L8.5 8.5l.94-2.06 2.06-.94-2.06-.94L8.5 2.5l-.94 2.06-2.06.94zm10 10l.94 2.06.94-2.06 2.06-.94-2.06-.94-.94-2.06-.94 2.06-2.06.94z\"/><path d=\"M17.41 7.96l-1.37-1.37c-.4-.4-.92-.59-1.43-.59-.52 0-1.04.2-1.43.59L10.3 9.45l-7.72 7.72c-.78.78-.78 2.05 0 2.83L4 21.41c.39.39.9.59 1.41.59.51 0 1.02-.2 1.41-.59l7.78-7.78 2.81-2.81c.8-.78.8-2.07 0-2.86zM5.41 20L4 18.59l7.72-7.72 1.47 1.35L5.41 20z\"/>\n",
              "  </svg>\n",
              "      </button>\n",
              "      \n",
              "  <style>\n",
              "    .colab-df-container {\n",
              "      display:flex;\n",
              "      flex-wrap:wrap;\n",
              "      gap: 12px;\n",
              "    }\n",
              "\n",
              "    .colab-df-convert {\n",
              "      background-color: #E8F0FE;\n",
              "      border: none;\n",
              "      border-radius: 50%;\n",
              "      cursor: pointer;\n",
              "      display: none;\n",
              "      fill: #1967D2;\n",
              "      height: 32px;\n",
              "      padding: 0 0 0 0;\n",
              "      width: 32px;\n",
              "    }\n",
              "\n",
              "    .colab-df-convert:hover {\n",
              "      background-color: #E2EBFA;\n",
              "      box-shadow: 0px 1px 2px rgba(60, 64, 67, 0.3), 0px 1px 3px 1px rgba(60, 64, 67, 0.15);\n",
              "      fill: #174EA6;\n",
              "    }\n",
              "\n",
              "    [theme=dark] .colab-df-convert {\n",
              "      background-color: #3B4455;\n",
              "      fill: #D2E3FC;\n",
              "    }\n",
              "\n",
              "    [theme=dark] .colab-df-convert:hover {\n",
              "      background-color: #434B5C;\n",
              "      box-shadow: 0px 1px 3px 1px rgba(0, 0, 0, 0.15);\n",
              "      filter: drop-shadow(0px 1px 2px rgba(0, 0, 0, 0.3));\n",
              "      fill: #FFFFFF;\n",
              "    }\n",
              "  </style>\n",
              "\n",
              "      <script>\n",
              "        const buttonEl =\n",
              "          document.querySelector('#df-1946f341-8a85-44cc-a76c-6434afa878e6 button.colab-df-convert');\n",
              "        buttonEl.style.display =\n",
              "          google.colab.kernel.accessAllowed ? 'block' : 'none';\n",
              "\n",
              "        async function convertToInteractive(key) {\n",
              "          const element = document.querySelector('#df-1946f341-8a85-44cc-a76c-6434afa878e6');\n",
              "          const dataTable =\n",
              "            await google.colab.kernel.invokeFunction('convertToInteractive',\n",
              "                                                     [key], {});\n",
              "          if (!dataTable) return;\n",
              "\n",
              "          const docLinkHtml = 'Like what you see? Visit the ' +\n",
              "            '<a target=\"_blank\" href=https://colab.research.google.com/notebooks/data_table.ipynb>data table notebook</a>'\n",
              "            + ' to learn more about interactive tables.';\n",
              "          element.innerHTML = '';\n",
              "          dataTable['output_type'] = 'display_data';\n",
              "          await google.colab.output.renderOutput(dataTable, element);\n",
              "          const docLink = document.createElement('div');\n",
              "          docLink.innerHTML = docLinkHtml;\n",
              "          element.appendChild(docLink);\n",
              "        }\n",
              "      </script>\n",
              "    </div>\n",
              "  </div>\n",
              "  "
            ]
          },
          "metadata": {},
          "execution_count": 28
        }
      ],
      "source": [
        "finaldata.head()"
      ]
    },
    {
      "cell_type": "code",
      "execution_count": 29,
      "metadata": {
        "id": "yA16crmidAZk"
      },
      "outputs": [],
      "source": [
        "inputs = finaldata[\"plot\"].apply((lambda plot: tokenizer.encode(plot, add_special_tokens=True,max_length=100,truncation=True)))"
      ]
    },
    {
      "cell_type": "code",
      "execution_count": 30,
      "metadata": {
        "colab": {
          "base_uri": "https://localhost:8080/"
        },
        "id": "8Unh0fCmeKGh",
        "outputId": "f37bf994-b3e8-4eb2-ca90-bc8d3f783c30"
      },
      "outputs": [
        {
          "output_type": "stream",
          "name": "stdout",
          "text": [
            "[101, 4550, 2003, 1037, 13044, 2158, 1010, 7161, 1037, 4251, 2166, 1997, 18434, 1010, 2066, 17738, 26477, 2010, 2451, 1005, 1055, 29283, 5014, 1012, 2002, 2003, 11587, 2011, 1037, 6355, 2627, 1998, 1996, 3279, 1997, 2010, 2684, 1012, 2043, 1037, 28616, 3270, 2361, 3084, 2032, 1996, 4539, 1997, 1037, 4126, 5795, 1010, 4550, 2003, 3140, 2000, 2272, 2000, 3408, 2007, 2010, 2627, 2004, 1996, 4808, 1997, 2010, 3025, 2166, 2003, 3254, 9105, 2039, 2007, 2032, 1012, 102]\n"
          ]
        }
      ],
      "source": [
        "print(inputs[0])"
      ]
    },
    {
      "cell_type": "code",
      "execution_count": 31,
      "metadata": {
        "id": "tHFBaLiHeJJk"
      },
      "outputs": [],
      "source": [
        "import numpy as np\n",
        "def padding(list_of_sent):\n",
        "  output=[]\n",
        "  max_len=100\n",
        "  for sent in list_of_sent.values:\n",
        "    padded_sent=sent+[0]*(max_len-len(sent))\n",
        "    output.append(padded_sent)\n",
        "  output=np.array(output)\n",
        "  return output"
      ]
    },
    {
      "cell_type": "code",
      "execution_count": 32,
      "metadata": {
        "id": "v4JmZ088eT8N"
      },
      "outputs": [],
      "source": [
        "inputs=padding(inputs)"
      ]
    },
    {
      "cell_type": "code",
      "execution_count": 33,
      "metadata": {
        "colab": {
          "base_uri": "https://localhost:8080/"
        },
        "id": "SmrcyaLreV3p",
        "outputId": "61595e49-76f9-488d-d8af-c7a70b435e79"
      },
      "outputs": [
        {
          "output_type": "stream",
          "name": "stdout",
          "text": [
            "[  101  4550  2003  1037 13044  2158  1010  7161  1037  4251  2166  1997\n",
            " 18434  1010  2066 17738 26477  2010  2451  1005  1055 29283  5014  1012\n",
            "  2002  2003 11587  2011  1037  6355  2627  1998  1996  3279  1997  2010\n",
            "  2684  1012  2043  1037 28616  3270  2361  3084  2032  1996  4539  1997\n",
            "  1037  4126  5795  1010  4550  2003  3140  2000  2272  2000  3408  2007\n",
            "  2010  2627  2004  1996  4808  1997  2010  3025  2166  2003  3254  9105\n",
            "  2039  2007  2032  1012   102     0     0     0     0     0     0     0\n",
            "     0     0     0     0     0     0     0     0     0     0     0     0\n",
            "     0     0     0     0]\n"
          ]
        }
      ],
      "source": [
        "print(inputs[0])"
      ]
    },
    {
      "cell_type": "code",
      "execution_count": 34,
      "metadata": {
        "id": "0izhoLODeYr2"
      },
      "outputs": [],
      "source": [
        "mask=np.where(inputs!=0,1,0)\n",
        "embedded_inputs = torch.tensor(inputs)\n",
        "attention_mask = torch.tensor(mask)"
      ]
    },
    {
      "cell_type": "code",
      "execution_count": 35,
      "metadata": {
        "id": "JR3XEjuiecTX"
      },
      "outputs": [],
      "source": [
        "with torch.no_grad():\n",
        "  final_states = model(embedded_inputs, attention_mask=attention_mask)"
      ]
    },
    {
      "cell_type": "code",
      "execution_count": 36,
      "metadata": {
        "id": "nxPA5L3ZeeOy"
      },
      "outputs": [],
      "source": [
        "extracted_features=final_states[0][:,0,:].numpy()"
      ]
    },
    {
      "cell_type": "code",
      "execution_count": 37,
      "metadata": {
        "id": "LE5DpqN0eiAO"
      },
      "outputs": [],
      "source": [
        "cos_sim=cosine_similarity(extracted_features,extracted_features)"
      ]
    },
    {
      "cell_type": "code",
      "execution_count": 38,
      "metadata": {
        "id": "NN_TWab-emOR"
      },
      "outputs": [],
      "source": [
        "indices=pd.Series(finaldata.index)"
      ]
    },
    {
      "cell_type": "code",
      "execution_count": 39,
      "metadata": {
        "colab": {
          "base_uri": "https://localhost:8080/"
        },
        "id": "72gtQ3L8gxHC",
        "outputId": "bc5ef110-746e-4783-fe85-3a28b594d46a"
      },
      "outputs": [
        {
          "output_type": "execute_result",
          "data": {
            "text/plain": [
              "0                                 Clean\n",
              "1                              Unhinged\n",
              "2                        Knight and Day\n",
              "3                                  Jolt\n",
              "4                            Gemini Man\n",
              "                     ...               \n",
              "1667    Three Thousand Years of Longing\n",
              "1668        Buttons, A New Musical Film\n",
              "1669                   Dear Evan Hansen\n",
              "1670                       Palm Springs\n",
              "1671                   The Tomorrow War\n",
              "Name: title, Length: 1672, dtype: object"
            ]
          },
          "metadata": {},
          "execution_count": 39
        }
      ],
      "source": [
        "indices"
      ]
    },
    {
      "cell_type": "code",
      "execution_count": 40,
      "metadata": {
        "id": "C0TjzaXkgY4Q"
      },
      "outputs": [],
      "source": [
        "def similar_movies(title, cosine_sim = cos_sim):\n",
        "    recommended_movies = []\n",
        "    index = indices[indices == title].index[0]\n",
        "    similarity_scores = pd.Series(cosine_sim[index]).sort_values(ascending = False)\n",
        "    top_10_movies = list(similarity_scores.iloc[1:16].index)\n",
        "    for i in top_10_movies:\n",
        "        recommended_movies.append(list(finaldata.index)[i])\n",
        "    return recommended_movies"
      ]
    },
    {
      "cell_type": "code",
      "execution_count": 41,
      "metadata": {
        "colab": {
          "base_uri": "https://localhost:8080/"
        },
        "id": "NfH-HB5_gakW",
        "outputId": "fb16af08-87a4-4043-dd90-7bed01c99da1"
      },
      "outputs": [
        {
          "output_type": "execute_result",
          "data": {
            "text/plain": [
              "['Spiral',\n",
              " 'Oldboy',\n",
              " 'Father of Invention',\n",
              " 'Wanted',\n",
              " \"Hitman's Wife's Bodyguard\",\n",
              " 'Red Notice',\n",
              " 'Dying of the Light',\n",
              " 'Army of Thieves',\n",
              " 'The Gambler',\n",
              " 'A Scanner Darkly',\n",
              " 'John Wick: Chapter 3 - Parabellum',\n",
              " 'Collateral Damage',\n",
              " 'Army of One',\n",
              " 'Imperium',\n",
              " 'Vigilante']"
            ]
          },
          "metadata": {},
          "execution_count": 41
        }
      ],
      "source": [
        "similar_movies(\"Extraction\")"
      ]
    },
    {
      "cell_type": "markdown",
      "metadata": {
        "id": "vywNQJA-GLiz"
      },
      "source": [
        "### Calculating the Actor Rating\n",
        "For a given actor the actor rating is the average of all the movie's ratings that the actor has worked in. "
      ]
    },
    {
      "cell_type": "code",
      "execution_count": 42,
      "metadata": {
        "colab": {
          "base_uri": "https://localhost:8080/"
        },
        "id": "l2_SpHJQsuq5",
        "outputId": "a5abe593-b037-4682-bcea-27b60de183d5"
      },
      "outputs": [
        {
          "output_type": "stream",
          "name": "stdout",
          "text": [
            "Total Unique Unique Actors:  86\n",
            "{'NicoleKidman': 6.52, 'BrendanFraser': 5.6, 'KateWinslet': 6.55, 'TomCruise': 6.98, 'ChrisHemsworth': 6.28, 'WoodyHarrelson': 6.55, 'MorganFreeman': 6.2, 'EthanHawke': 6.44, 'JeremyRenner': 6.26, 'TildaSwinton': 6.67, 'JackNicholson': 6.86, 'LeonardoDiCaprio': 7.64, 'ZooeyDeschanel': 6.48, 'J.K.Simmons': 6.33, 'AnthonyHopkins': 6.2, 'AlPacino': 5.96, 'KevinHart': 6.0, 'ScarlettJohansson': 6.64, 'DanielRadcliffe': 7.13, 'JakeGyllenhaal': 7.01, 'WillSmith': 6.66, 'BillMurray': 6.3, 'MichaelCaine': 6.58, 'EmmaWatson': 6.63, 'RussellCrowe': 6.65, 'JuliaRoberts': 6.3, 'AndrewGarfield': 7.11, 'MatthewMcConaughey': 6.52, 'NathalieEmmanuel': 5.85, 'BenAffleck': 6.3, 'EvaGreen': 6.38, 'JimCarrey': 6.5, 'RobertDowneyJr.': 7.0, 'TomHanks': 7.05, 'MarkRuffalo': 6.49, 'RobinWilliams': 5.94, 'LaurenceFishburne': 5.98, 'EdwardNorton': 6.88, 'IanMcKellen': 7.16, 'ReeseWitherspoon': 6.12, 'HughJackman': 6.72, 'EmilyBlunt': 6.6, 'EmmaStone': 6.6, 'JoaquinPhoenix': 6.83, 'GalGadot': 6.1, 'SamuelL.Jackson': 6.18, 'StanleyTucci': 6.22, 'DanielCraig': 6.93, 'KevinSpacey': 6.47, 'LiamNeeson': 6.36, 'JenniferLawrence': 6.62, 'AdrienBrody': 6.28, 'AmyAdams': 6.59, 'JohnnyDepp': 6.66, 'RyanGosling': 7.15, 'NicolasCage': 5.69, 'ArnoldSchwarzenegger': 5.82, 'SteveCarell': 6.7, 'JonahHill': 6.62, 'VinDiesel': 6.57, 'BradPitt': 7.11, 'DonCheadle': 6.71, 'JamesFranco': 5.86, 'MerylStreep': 6.56, 'SylvesterStallone': 5.63, 'AnneHathaway': 6.01, 'NataliePortman': 6.5, 'KeiraKnightley': 6.58, 'BenKingsley': 5.98, 'HelenaBonhamCarter': 6.83, 'EdHarris': 6.74, 'JackBlack': 6.59, 'SandraBullock': 6.37, 'RobertDeNiro': 6.0, 'MattDamon': 6.74, 'AngelinaJolie': 6.38, 'MarkWahlberg': 6.34, 'BradleyCooper': 6.24, 'JamieFoxx': 6.49, 'AnadeArmas': 5.42, 'CateBlanchett': 6.75, 'DwayneJohnson': 6.19, 'MargotRobbie': 5.92, 'ChristianBale': 6.93, 'KeanuReeves': 6.25, 'JesseEisenberg': 6.4}\n"
          ]
        }
      ],
      "source": [
        "all_actors = set(get_actor_rating_df['actor'])\n",
        "actor_to_rating_map = {}\n",
        "\n",
        "for actor_name in all_actors:\n",
        "    filtered_df = get_actor_rating_df[get_actor_rating_df['actor'] == actor_name]\n",
        "    avg_rating = round(filtered_df['imdb'].mean(), 2)\n",
        "    actor_to_rating_map[actor_name] = avg_rating\n",
        "\n",
        "print(\"Total Unique Unique Actors: \",len(actor_to_rating_map.keys()))\n",
        "print(actor_to_rating_map)"
      ]
    },
    {
      "cell_type": "markdown",
      "metadata": {
        "id": "1gb5kZfMGupM"
      },
      "source": [
        "### Final Actor Recommendation Function"
      ]
    },
    {
      "cell_type": "code",
      "execution_count": 63,
      "metadata": {
        "id": "VoiIUEYm4bh0"
      },
      "outputs": [],
      "source": [
        "def actor_recommendations(title, cosine_sim = cos_sim):\n",
        "    recommended_ind = []\n",
        "    index = indices[indices == title].index[0]\n",
        "    similarity_scores = pd.Series(cosine_sim[index]).sort_values(ascending = False)\n",
        "    top_10_movies = list(similarity_scores.iloc[1:10].index)\n",
        "    req = list()\n",
        "\n",
        "    count = 0\n",
        "    for i in top_10_movies:\n",
        "      recommended_ind.append(i)\n",
        "      if df.iloc[i][\"actor\"] not in req:\n",
        "        req.append(df.iloc[i][\"actor\"])\n",
        "        count += 1\n",
        "      if count == 10:\n",
        "        break;\n",
        "    \n",
        "    req = list(set(req))\n",
        "    sorted_actors = sorted(req, key=lambda x: list(clustered_actors.values()).count(clustered_actors[x]), reverse=True)\n",
        "    sorted_list = sorted(sorted_actors, key=lambda x: actor_to_rating_map[x])\n",
        "\n",
        "    # print(sorted_list)\n",
        "\n",
        "    return sorted_list\n",
        "    # return req"
      ]
    },
    {
      "cell_type": "code",
      "execution_count": 44,
      "metadata": {
        "colab": {
          "base_uri": "https://localhost:8080/"
        },
        "id": "hs2Z9H5N4fi1",
        "outputId": "4e4fc0b1-6d03-408e-bba7-649d4cdec614"
      },
      "outputs": [
        {
          "output_type": "stream",
          "name": "stdout",
          "text": [
            "['ArnoldSchwarzenegger', 'GalGadot', 'ChrisHemsworth', 'J.K.Simmons', 'VinDiesel', 'JohnnyDepp', 'SteveCarell', 'ChristianBale', 'DanielRadcliffe', 'RyanGosling']\n"
          ]
        }
      ],
      "source": [
        "print(actor_recommendations(\"Thor\"))\n"
      ]
    },
    {
      "cell_type": "code",
      "execution_count": 45,
      "metadata": {
        "colab": {
          "base_uri": "https://localhost:8080/"
        },
        "id": "3CyEAtF9ZJPH",
        "outputId": "e133207e-5d3a-46f4-a17b-5823c918b4e5"
      },
      "outputs": [
        {
          "output_type": "execute_result",
          "data": {
            "text/plain": [
              "['BrendanFraser',\n",
              " 'JamesFranco',\n",
              " 'DwayneJohnson',\n",
              " 'KeanuReeves',\n",
              " 'JackBlack',\n",
              " 'JenniferLawrence',\n",
              " 'RussellCrowe',\n",
              " 'HughJackman',\n",
              " 'JoaquinPhoenix',\n",
              " 'ChristianBale']"
            ]
          },
          "metadata": {},
          "execution_count": 45
        }
      ],
      "source": [
        "actor_recommendations(\"The Hunger Games: Catching Fire\")"
      ]
    },
    {
      "cell_type": "code",
      "execution_count": 46,
      "metadata": {
        "colab": {
          "base_uri": "https://localhost:8080/"
        },
        "id": "nhi3Xyh_mrM0",
        "outputId": "c3eaeeae-89d7-4ef5-fcdd-e7434b0c2d3b"
      },
      "outputs": [
        {
          "output_type": "execute_result",
          "data": {
            "text/plain": [
              "['NicolasCage',\n",
              " 'JamesFranco',\n",
              " 'KevinHart',\n",
              " 'DwayneJohnson',\n",
              " 'AdrienBrody',\n",
              " 'BillMurray',\n",
              " 'JesseEisenberg',\n",
              " 'KevinSpacey',\n",
              " 'JohnnyDepp',\n",
              " 'ChristianBale']"
            ]
          },
          "metadata": {},
          "execution_count": 46
        }
      ],
      "source": [
        "actor_recommendations(\"Clean\")"
      ]
    },
    {
      "cell_type": "code",
      "execution_count": 47,
      "metadata": {
        "colab": {
          "base_uri": "https://localhost:8080/"
        },
        "id": "SGJFNMrKnnNC",
        "outputId": "4777dc3d-079a-42b7-cccb-b269a6b63627"
      },
      "outputs": [
        {
          "output_type": "execute_result",
          "data": {
            "text/plain": [
              "['NicolasCage',\n",
              " 'AlPacino',\n",
              " 'DwayneJohnson',\n",
              " 'BillMurray',\n",
              " 'J.K.Simmons',\n",
              " 'JimCarrey',\n",
              " 'ScarlettJohansson',\n",
              " 'SteveCarell',\n",
              " 'EdHarris',\n",
              " 'MattDamon']"
            ]
          },
          "metadata": {},
          "execution_count": 47
        }
      ],
      "source": [
        "actor_recommendations(\"Chef\")"
      ]
    },
    {
      "cell_type": "code",
      "execution_count": 48,
      "metadata": {
        "colab": {
          "base_uri": "https://localhost:8080/"
        },
        "id": "Z85I0UCxo0UC",
        "outputId": "f23c971d-5e35-4bab-e617-52000de978dd"
      },
      "outputs": [
        {
          "output_type": "execute_result",
          "data": {
            "text/plain": [
              "['SandraBullock',\n",
              " 'AngelinaJolie',\n",
              " 'KateWinslet',\n",
              " 'EmmaStone',\n",
              " 'DonCheadle',\n",
              " 'CateBlanchett',\n",
              " 'ChristianBale',\n",
              " 'TomHanks',\n",
              " 'BradPitt',\n",
              " 'RyanGosling']"
            ]
          },
          "metadata": {},
          "execution_count": 48
        }
      ],
      "source": [
        "actor_recommendations(\"Babylon\")"
      ]
    },
    {
      "cell_type": "code",
      "execution_count": 49,
      "metadata": {
        "colab": {
          "base_uri": "https://localhost:8080/"
        },
        "id": "lRiRoEIGq4h_",
        "outputId": "8a14a461-430d-46bc-9ee9-10e1b081e650"
      },
      "outputs": [
        {
          "output_type": "execute_result",
          "data": {
            "text/plain": [
              "['MargotRobbie',\n",
              " 'DwayneJohnson',\n",
              " 'KeanuReeves',\n",
              " 'ChrisHemsworth',\n",
              " 'AngelinaJolie',\n",
              " 'KevinSpacey',\n",
              " 'WoodyHarrelson',\n",
              " 'VinDiesel',\n",
              " 'WillSmith',\n",
              " 'TomCruise']"
            ]
          },
          "metadata": {},
          "execution_count": 49
        }
      ],
      "source": [
        "actor_recommendations(\"Zeros and Ones\")"
      ]
    },
    {
      "cell_type": "code",
      "execution_count": 50,
      "metadata": {
        "colab": {
          "base_uri": "https://localhost:8080/",
          "height": 423
        },
        "id": "Q7gr23MSzXA7",
        "outputId": "40c1e746-2a1d-4353-f6ce-3f1704206309"
      },
      "outputs": [
        {
          "output_type": "execute_result",
          "data": {
            "text/plain": [
              "                                title                    genres  \\\n",
              "2                      Knight and Day   Action,Adventure,Comedy   \n",
              "5                          The Father             Drama,Mystery   \n",
              "6                           Amsterdam      Comedy,Drama,History   \n",
              "8                John Wick: Chapter 4     Action,Crime,Thriller   \n",
              "9                             Babylon      Comedy,Drama,History   \n",
              "...                               ...                       ...   \n",
              "1818                         Eternals  Action,Adventure,Fantasy   \n",
              "1819  Three Thousand Years of Longing     Drama,Fantasy,Romance   \n",
              "1821                 Dear Evan Hansen             Drama,Musical   \n",
              "1822                     Palm Springs    Comedy,Fantasy,Mystery   \n",
              "1824                 The Tomorrow War    Action,Adventure,Drama   \n",
              "\n",
              "                                                   plot  imdb           actor  \n",
              "2     Looking forward to attending her sister April'...   6.3       TomCruise  \n",
              "5     Having just scared off his recent caregiver, A...   8.2  AnthonyHopkins  \n",
              "6     \"Amsterdam,\" the latest film from acclaimed wr...   6.1   ChristianBale  \n",
              "8     Condemned by the tyrannical High Table to be o...   8.2     KeanuReeves  \n",
              "9     An original epic set in 1920s Los Angeles led ...   7.2        BradPitt  \n",
              "...                                                 ...   ...             ...  \n",
              "1818  Following the events of Avengers: Endgame (201...   6.3   AngelinaJolie  \n",
              "1819  Dr Alithea Binnie (Tilda Swinton) is an academ...   6.7    TildaSwinton  \n",
              "1821  Film adaptation of the Tony and Grammy Award-w...   6.1        AmyAdams  \n",
              "1822  While stuck at a wedding in Palm Springs, Nyle...   7.4     J.K.Simmons  \n",
              "1824  The world is stunned when a group of time trav...   6.5     J.K.Simmons  \n",
              "\n",
              "[1180 rows x 5 columns]"
            ],
            "text/html": [
              "\n",
              "  <div id=\"df-ea19b4d0-546b-40d0-8c70-7e14a976840d\">\n",
              "    <div class=\"colab-df-container\">\n",
              "      <div>\n",
              "<style scoped>\n",
              "    .dataframe tbody tr th:only-of-type {\n",
              "        vertical-align: middle;\n",
              "    }\n",
              "\n",
              "    .dataframe tbody tr th {\n",
              "        vertical-align: top;\n",
              "    }\n",
              "\n",
              "    .dataframe thead th {\n",
              "        text-align: right;\n",
              "    }\n",
              "</style>\n",
              "<table border=\"1\" class=\"dataframe\">\n",
              "  <thead>\n",
              "    <tr style=\"text-align: right;\">\n",
              "      <th></th>\n",
              "      <th>title</th>\n",
              "      <th>genres</th>\n",
              "      <th>plot</th>\n",
              "      <th>imdb</th>\n",
              "      <th>actor</th>\n",
              "    </tr>\n",
              "  </thead>\n",
              "  <tbody>\n",
              "    <tr>\n",
              "      <th>2</th>\n",
              "      <td>Knight and Day</td>\n",
              "      <td>Action,Adventure,Comedy</td>\n",
              "      <td>Looking forward to attending her sister April'...</td>\n",
              "      <td>6.3</td>\n",
              "      <td>TomCruise</td>\n",
              "    </tr>\n",
              "    <tr>\n",
              "      <th>5</th>\n",
              "      <td>The Father</td>\n",
              "      <td>Drama,Mystery</td>\n",
              "      <td>Having just scared off his recent caregiver, A...</td>\n",
              "      <td>8.2</td>\n",
              "      <td>AnthonyHopkins</td>\n",
              "    </tr>\n",
              "    <tr>\n",
              "      <th>6</th>\n",
              "      <td>Amsterdam</td>\n",
              "      <td>Comedy,Drama,History</td>\n",
              "      <td>\"Amsterdam,\" the latest film from acclaimed wr...</td>\n",
              "      <td>6.1</td>\n",
              "      <td>ChristianBale</td>\n",
              "    </tr>\n",
              "    <tr>\n",
              "      <th>8</th>\n",
              "      <td>John Wick: Chapter 4</td>\n",
              "      <td>Action,Crime,Thriller</td>\n",
              "      <td>Condemned by the tyrannical High Table to be o...</td>\n",
              "      <td>8.2</td>\n",
              "      <td>KeanuReeves</td>\n",
              "    </tr>\n",
              "    <tr>\n",
              "      <th>9</th>\n",
              "      <td>Babylon</td>\n",
              "      <td>Comedy,Drama,History</td>\n",
              "      <td>An original epic set in 1920s Los Angeles led ...</td>\n",
              "      <td>7.2</td>\n",
              "      <td>BradPitt</td>\n",
              "    </tr>\n",
              "    <tr>\n",
              "      <th>...</th>\n",
              "      <td>...</td>\n",
              "      <td>...</td>\n",
              "      <td>...</td>\n",
              "      <td>...</td>\n",
              "      <td>...</td>\n",
              "    </tr>\n",
              "    <tr>\n",
              "      <th>1818</th>\n",
              "      <td>Eternals</td>\n",
              "      <td>Action,Adventure,Fantasy</td>\n",
              "      <td>Following the events of Avengers: Endgame (201...</td>\n",
              "      <td>6.3</td>\n",
              "      <td>AngelinaJolie</td>\n",
              "    </tr>\n",
              "    <tr>\n",
              "      <th>1819</th>\n",
              "      <td>Three Thousand Years of Longing</td>\n",
              "      <td>Drama,Fantasy,Romance</td>\n",
              "      <td>Dr Alithea Binnie (Tilda Swinton) is an academ...</td>\n",
              "      <td>6.7</td>\n",
              "      <td>TildaSwinton</td>\n",
              "    </tr>\n",
              "    <tr>\n",
              "      <th>1821</th>\n",
              "      <td>Dear Evan Hansen</td>\n",
              "      <td>Drama,Musical</td>\n",
              "      <td>Film adaptation of the Tony and Grammy Award-w...</td>\n",
              "      <td>6.1</td>\n",
              "      <td>AmyAdams</td>\n",
              "    </tr>\n",
              "    <tr>\n",
              "      <th>1822</th>\n",
              "      <td>Palm Springs</td>\n",
              "      <td>Comedy,Fantasy,Mystery</td>\n",
              "      <td>While stuck at a wedding in Palm Springs, Nyle...</td>\n",
              "      <td>7.4</td>\n",
              "      <td>J.K.Simmons</td>\n",
              "    </tr>\n",
              "    <tr>\n",
              "      <th>1824</th>\n",
              "      <td>The Tomorrow War</td>\n",
              "      <td>Action,Adventure,Drama</td>\n",
              "      <td>The world is stunned when a group of time trav...</td>\n",
              "      <td>6.5</td>\n",
              "      <td>J.K.Simmons</td>\n",
              "    </tr>\n",
              "  </tbody>\n",
              "</table>\n",
              "<p>1180 rows × 5 columns</p>\n",
              "</div>\n",
              "      <button class=\"colab-df-convert\" onclick=\"convertToInteractive('df-ea19b4d0-546b-40d0-8c70-7e14a976840d')\"\n",
              "              title=\"Convert this dataframe to an interactive table.\"\n",
              "              style=\"display:none;\">\n",
              "        \n",
              "  <svg xmlns=\"http://www.w3.org/2000/svg\" height=\"24px\"viewBox=\"0 0 24 24\"\n",
              "       width=\"24px\">\n",
              "    <path d=\"M0 0h24v24H0V0z\" fill=\"none\"/>\n",
              "    <path d=\"M18.56 5.44l.94 2.06.94-2.06 2.06-.94-2.06-.94-.94-2.06-.94 2.06-2.06.94zm-11 1L8.5 8.5l.94-2.06 2.06-.94-2.06-.94L8.5 2.5l-.94 2.06-2.06.94zm10 10l.94 2.06.94-2.06 2.06-.94-2.06-.94-.94-2.06-.94 2.06-2.06.94z\"/><path d=\"M17.41 7.96l-1.37-1.37c-.4-.4-.92-.59-1.43-.59-.52 0-1.04.2-1.43.59L10.3 9.45l-7.72 7.72c-.78.78-.78 2.05 0 2.83L4 21.41c.39.39.9.59 1.41.59.51 0 1.02-.2 1.41-.59l7.78-7.78 2.81-2.81c.8-.78.8-2.07 0-2.86zM5.41 20L4 18.59l7.72-7.72 1.47 1.35L5.41 20z\"/>\n",
              "  </svg>\n",
              "      </button>\n",
              "      \n",
              "  <style>\n",
              "    .colab-df-container {\n",
              "      display:flex;\n",
              "      flex-wrap:wrap;\n",
              "      gap: 12px;\n",
              "    }\n",
              "\n",
              "    .colab-df-convert {\n",
              "      background-color: #E8F0FE;\n",
              "      border: none;\n",
              "      border-radius: 50%;\n",
              "      cursor: pointer;\n",
              "      display: none;\n",
              "      fill: #1967D2;\n",
              "      height: 32px;\n",
              "      padding: 0 0 0 0;\n",
              "      width: 32px;\n",
              "    }\n",
              "\n",
              "    .colab-df-convert:hover {\n",
              "      background-color: #E2EBFA;\n",
              "      box-shadow: 0px 1px 2px rgba(60, 64, 67, 0.3), 0px 1px 3px 1px rgba(60, 64, 67, 0.15);\n",
              "      fill: #174EA6;\n",
              "    }\n",
              "\n",
              "    [theme=dark] .colab-df-convert {\n",
              "      background-color: #3B4455;\n",
              "      fill: #D2E3FC;\n",
              "    }\n",
              "\n",
              "    [theme=dark] .colab-df-convert:hover {\n",
              "      background-color: #434B5C;\n",
              "      box-shadow: 0px 1px 3px 1px rgba(0, 0, 0, 0.15);\n",
              "      filter: drop-shadow(0px 1px 2px rgba(0, 0, 0, 0.3));\n",
              "      fill: #FFFFFF;\n",
              "    }\n",
              "  </style>\n",
              "\n",
              "      <script>\n",
              "        const buttonEl =\n",
              "          document.querySelector('#df-ea19b4d0-546b-40d0-8c70-7e14a976840d button.colab-df-convert');\n",
              "        buttonEl.style.display =\n",
              "          google.colab.kernel.accessAllowed ? 'block' : 'none';\n",
              "\n",
              "        async function convertToInteractive(key) {\n",
              "          const element = document.querySelector('#df-ea19b4d0-546b-40d0-8c70-7e14a976840d');\n",
              "          const dataTable =\n",
              "            await google.colab.kernel.invokeFunction('convertToInteractive',\n",
              "                                                     [key], {});\n",
              "          if (!dataTable) return;\n",
              "\n",
              "          const docLinkHtml = 'Like what you see? Visit the ' +\n",
              "            '<a target=\"_blank\" href=https://colab.research.google.com/notebooks/data_table.ipynb>data table notebook</a>'\n",
              "            + ' to learn more about interactive tables.';\n",
              "          element.innerHTML = '';\n",
              "          dataTable['output_type'] = 'display_data';\n",
              "          await google.colab.output.renderOutput(dataTable, element);\n",
              "          const docLink = document.createElement('div');\n",
              "          docLink.innerHTML = docLinkHtml;\n",
              "          element.appendChild(docLink);\n",
              "        }\n",
              "      </script>\n",
              "    </div>\n",
              "  </div>\n",
              "  "
            ]
          },
          "metadata": {},
          "execution_count": 50
        }
      ],
      "source": [
        "great_movi = df[df[\"imdb\"] > 6]\n",
        "great_movi"
      ]
    },
    {
      "cell_type": "code",
      "execution_count": 73,
      "metadata": {
        "id": "UGiL3tRu6GGT",
        "colab": {
          "base_uri": "https://localhost:8080/"
        },
        "outputId": "6cbcba55-57b9-4deb-c421-242dc79aeeff"
      },
      "outputs": [
        {
          "output_type": "stream",
          "name": "stdout",
          "text": [
            "Total Movies with rating (> 7.0) :  436\n",
            "Total Movies with rating (> 7.0) and original actor recommended:  356\n",
            "Good Prediction Ratio:  0.8165137614678899\n"
          ]
        }
      ],
      "source": [
        "great_movi = df[df[\"imdb\"] > 7.0]\n",
        "right_count = left_count = count = 0\n",
        "for title in great_movi[\"title\"].values:\n",
        "    actors = actor_recommendations(title)\n",
        "    # index = indices[indices == title].index[0]\n",
        "    actor_in = df.loc[df[\"title\"] == title, \"actor\"].values[0]\n",
        "    rating_in = df.loc[df[\"title\"] == title, \"imdb\"].values[0]\n",
        "\n",
        "    if actor_in in actors:\n",
        "          left_count += 1\n",
        "    count += 1\n",
        "print(\"Total Movies with rating (> 7.0) : \", count)\n",
        "print(\"Total Movies with rating (> 7.0) and original actor recommended: \", left_count)\n",
        "print(\"Good Prediction Ratio: \", left_count/count)"
      ]
    },
    {
      "cell_type": "code",
      "execution_count": 65,
      "metadata": {
        "id": "CctZjTrI26pz",
        "colab": {
          "base_uri": "https://localhost:8080/"
        },
        "outputId": "00615679-ab6d-4a58-cbd5-31333eb87f36"
      },
      "outputs": [
        {
          "output_type": "stream",
          "name": "stdout",
          "text": [
            "Total Movies with rating (< 4.0) :  21\n",
            "Total Movies with rating (< 4.0) and original actor recommended:  4\n",
            "Bad Prediction Ratio:  0.19047619047619047\n"
          ]
        }
      ],
      "source": [
        "great_movi = df[df[\"imdb\"] < 4.0]\n",
        "right_count = left_count = count = 0\n",
        "for title in great_movi[\"title\"].values:\n",
        "    actors = actor_recommendations(title)\n",
        "    # index = indices[indices == title].index[0]\n",
        "    actor_in = df.loc[df[\"title\"] == title, \"actor\"].values[0]\n",
        "    rating_in = df.loc[df[\"title\"] == title, \"imdb\"].values[0]\n",
        "    if rating_in < 4.0:\n",
        "        # print(actor_in)\n",
        "        if actor_in in actors:\n",
        "          left_count += 1\n",
        "    count += 1\n",
        "\n",
        "print(\"Total Movies with rating (< 4.0) : \", count)\n",
        "print(\"Total Movies with rating (< 4.0) and original actor recommended: \", left_count)\n",
        "print(\"Bad Prediction Ratio: \", left_count/count)"
      ]
    }
  ],
  "metadata": {
    "colab": {
      "provenance": []
    },
    "kernelspec": {
      "display_name": "Python 3",
      "name": "python3"
    },
    "language_info": {
      "name": "python"
    },
    "widgets": {
      "application/vnd.jupyter.widget-state+json": {
        "b8e331f0e2a944f3ac1445052875d0cb": {
          "model_module": "@jupyter-widgets/controls",
          "model_name": "HBoxModel",
          "model_module_version": "1.5.0",
          "state": {
            "_dom_classes": [],
            "_model_module": "@jupyter-widgets/controls",
            "_model_module_version": "1.5.0",
            "_model_name": "HBoxModel",
            "_view_count": null,
            "_view_module": "@jupyter-widgets/controls",
            "_view_module_version": "1.5.0",
            "_view_name": "HBoxView",
            "box_style": "",
            "children": [
              "IPY_MODEL_0e8db7f8224949d1ab404a759c247fbb",
              "IPY_MODEL_f475f9b6a71a4c6b9dd1cdf573e1c47c",
              "IPY_MODEL_ca6907d2dcad42699c3e1ac52fd553c8"
            ],
            "layout": "IPY_MODEL_2cbfc41d7a36407f8352960f3ac93228"
          }
        },
        "0e8db7f8224949d1ab404a759c247fbb": {
          "model_module": "@jupyter-widgets/controls",
          "model_name": "HTMLModel",
          "model_module_version": "1.5.0",
          "state": {
            "_dom_classes": [],
            "_model_module": "@jupyter-widgets/controls",
            "_model_module_version": "1.5.0",
            "_model_name": "HTMLModel",
            "_view_count": null,
            "_view_module": "@jupyter-widgets/controls",
            "_view_module_version": "1.5.0",
            "_view_name": "HTMLView",
            "description": "",
            "description_tooltip": null,
            "layout": "IPY_MODEL_51eb7a079e1c42d29c6f943405247b4d",
            "placeholder": "​",
            "style": "IPY_MODEL_8176c0d33ce743ae915ee685611944ee",
            "value": "Downloading (…)lve/main/config.json: 100%"
          }
        },
        "f475f9b6a71a4c6b9dd1cdf573e1c47c": {
          "model_module": "@jupyter-widgets/controls",
          "model_name": "FloatProgressModel",
          "model_module_version": "1.5.0",
          "state": {
            "_dom_classes": [],
            "_model_module": "@jupyter-widgets/controls",
            "_model_module_version": "1.5.0",
            "_model_name": "FloatProgressModel",
            "_view_count": null,
            "_view_module": "@jupyter-widgets/controls",
            "_view_module_version": "1.5.0",
            "_view_name": "ProgressView",
            "bar_style": "success",
            "description": "",
            "description_tooltip": null,
            "layout": "IPY_MODEL_be8691e55a8949a78cbbfbc87d502e18",
            "max": 571,
            "min": 0,
            "orientation": "horizontal",
            "style": "IPY_MODEL_2af55ff5af884805ade45683ddd8d5b2",
            "value": 571
          }
        },
        "ca6907d2dcad42699c3e1ac52fd553c8": {
          "model_module": "@jupyter-widgets/controls",
          "model_name": "HTMLModel",
          "model_module_version": "1.5.0",
          "state": {
            "_dom_classes": [],
            "_model_module": "@jupyter-widgets/controls",
            "_model_module_version": "1.5.0",
            "_model_name": "HTMLModel",
            "_view_count": null,
            "_view_module": "@jupyter-widgets/controls",
            "_view_module_version": "1.5.0",
            "_view_name": "HTMLView",
            "description": "",
            "description_tooltip": null,
            "layout": "IPY_MODEL_9002c640d5a348e3b026b38a80921f75",
            "placeholder": "​",
            "style": "IPY_MODEL_8dbc7e99d68144d081558d3f6c99782d",
            "value": " 571/571 [00:00&lt;00:00, 7.12kB/s]"
          }
        },
        "2cbfc41d7a36407f8352960f3ac93228": {
          "model_module": "@jupyter-widgets/base",
          "model_name": "LayoutModel",
          "model_module_version": "1.2.0",
          "state": {
            "_model_module": "@jupyter-widgets/base",
            "_model_module_version": "1.2.0",
            "_model_name": "LayoutModel",
            "_view_count": null,
            "_view_module": "@jupyter-widgets/base",
            "_view_module_version": "1.2.0",
            "_view_name": "LayoutView",
            "align_content": null,
            "align_items": null,
            "align_self": null,
            "border": null,
            "bottom": null,
            "display": null,
            "flex": null,
            "flex_flow": null,
            "grid_area": null,
            "grid_auto_columns": null,
            "grid_auto_flow": null,
            "grid_auto_rows": null,
            "grid_column": null,
            "grid_gap": null,
            "grid_row": null,
            "grid_template_areas": null,
            "grid_template_columns": null,
            "grid_template_rows": null,
            "height": null,
            "justify_content": null,
            "justify_items": null,
            "left": null,
            "margin": null,
            "max_height": null,
            "max_width": null,
            "min_height": null,
            "min_width": null,
            "object_fit": null,
            "object_position": null,
            "order": null,
            "overflow": null,
            "overflow_x": null,
            "overflow_y": null,
            "padding": null,
            "right": null,
            "top": null,
            "visibility": null,
            "width": null
          }
        },
        "51eb7a079e1c42d29c6f943405247b4d": {
          "model_module": "@jupyter-widgets/base",
          "model_name": "LayoutModel",
          "model_module_version": "1.2.0",
          "state": {
            "_model_module": "@jupyter-widgets/base",
            "_model_module_version": "1.2.0",
            "_model_name": "LayoutModel",
            "_view_count": null,
            "_view_module": "@jupyter-widgets/base",
            "_view_module_version": "1.2.0",
            "_view_name": "LayoutView",
            "align_content": null,
            "align_items": null,
            "align_self": null,
            "border": null,
            "bottom": null,
            "display": null,
            "flex": null,
            "flex_flow": null,
            "grid_area": null,
            "grid_auto_columns": null,
            "grid_auto_flow": null,
            "grid_auto_rows": null,
            "grid_column": null,
            "grid_gap": null,
            "grid_row": null,
            "grid_template_areas": null,
            "grid_template_columns": null,
            "grid_template_rows": null,
            "height": null,
            "justify_content": null,
            "justify_items": null,
            "left": null,
            "margin": null,
            "max_height": null,
            "max_width": null,
            "min_height": null,
            "min_width": null,
            "object_fit": null,
            "object_position": null,
            "order": null,
            "overflow": null,
            "overflow_x": null,
            "overflow_y": null,
            "padding": null,
            "right": null,
            "top": null,
            "visibility": null,
            "width": null
          }
        },
        "8176c0d33ce743ae915ee685611944ee": {
          "model_module": "@jupyter-widgets/controls",
          "model_name": "DescriptionStyleModel",
          "model_module_version": "1.5.0",
          "state": {
            "_model_module": "@jupyter-widgets/controls",
            "_model_module_version": "1.5.0",
            "_model_name": "DescriptionStyleModel",
            "_view_count": null,
            "_view_module": "@jupyter-widgets/base",
            "_view_module_version": "1.2.0",
            "_view_name": "StyleView",
            "description_width": ""
          }
        },
        "be8691e55a8949a78cbbfbc87d502e18": {
          "model_module": "@jupyter-widgets/base",
          "model_name": "LayoutModel",
          "model_module_version": "1.2.0",
          "state": {
            "_model_module": "@jupyter-widgets/base",
            "_model_module_version": "1.2.0",
            "_model_name": "LayoutModel",
            "_view_count": null,
            "_view_module": "@jupyter-widgets/base",
            "_view_module_version": "1.2.0",
            "_view_name": "LayoutView",
            "align_content": null,
            "align_items": null,
            "align_self": null,
            "border": null,
            "bottom": null,
            "display": null,
            "flex": null,
            "flex_flow": null,
            "grid_area": null,
            "grid_auto_columns": null,
            "grid_auto_flow": null,
            "grid_auto_rows": null,
            "grid_column": null,
            "grid_gap": null,
            "grid_row": null,
            "grid_template_areas": null,
            "grid_template_columns": null,
            "grid_template_rows": null,
            "height": null,
            "justify_content": null,
            "justify_items": null,
            "left": null,
            "margin": null,
            "max_height": null,
            "max_width": null,
            "min_height": null,
            "min_width": null,
            "object_fit": null,
            "object_position": null,
            "order": null,
            "overflow": null,
            "overflow_x": null,
            "overflow_y": null,
            "padding": null,
            "right": null,
            "top": null,
            "visibility": null,
            "width": null
          }
        },
        "2af55ff5af884805ade45683ddd8d5b2": {
          "model_module": "@jupyter-widgets/controls",
          "model_name": "ProgressStyleModel",
          "model_module_version": "1.5.0",
          "state": {
            "_model_module": "@jupyter-widgets/controls",
            "_model_module_version": "1.5.0",
            "_model_name": "ProgressStyleModel",
            "_view_count": null,
            "_view_module": "@jupyter-widgets/base",
            "_view_module_version": "1.2.0",
            "_view_name": "StyleView",
            "bar_color": null,
            "description_width": ""
          }
        },
        "9002c640d5a348e3b026b38a80921f75": {
          "model_module": "@jupyter-widgets/base",
          "model_name": "LayoutModel",
          "model_module_version": "1.2.0",
          "state": {
            "_model_module": "@jupyter-widgets/base",
            "_model_module_version": "1.2.0",
            "_model_name": "LayoutModel",
            "_view_count": null,
            "_view_module": "@jupyter-widgets/base",
            "_view_module_version": "1.2.0",
            "_view_name": "LayoutView",
            "align_content": null,
            "align_items": null,
            "align_self": null,
            "border": null,
            "bottom": null,
            "display": null,
            "flex": null,
            "flex_flow": null,
            "grid_area": null,
            "grid_auto_columns": null,
            "grid_auto_flow": null,
            "grid_auto_rows": null,
            "grid_column": null,
            "grid_gap": null,
            "grid_row": null,
            "grid_template_areas": null,
            "grid_template_columns": null,
            "grid_template_rows": null,
            "height": null,
            "justify_content": null,
            "justify_items": null,
            "left": null,
            "margin": null,
            "max_height": null,
            "max_width": null,
            "min_height": null,
            "min_width": null,
            "object_fit": null,
            "object_position": null,
            "order": null,
            "overflow": null,
            "overflow_x": null,
            "overflow_y": null,
            "padding": null,
            "right": null,
            "top": null,
            "visibility": null,
            "width": null
          }
        },
        "8dbc7e99d68144d081558d3f6c99782d": {
          "model_module": "@jupyter-widgets/controls",
          "model_name": "DescriptionStyleModel",
          "model_module_version": "1.5.0",
          "state": {
            "_model_module": "@jupyter-widgets/controls",
            "_model_module_version": "1.5.0",
            "_model_name": "DescriptionStyleModel",
            "_view_count": null,
            "_view_module": "@jupyter-widgets/base",
            "_view_module_version": "1.2.0",
            "_view_name": "StyleView",
            "description_width": ""
          }
        },
        "abe790780750428a8b74b24495fb77d0": {
          "model_module": "@jupyter-widgets/controls",
          "model_name": "HBoxModel",
          "model_module_version": "1.5.0",
          "state": {
            "_dom_classes": [],
            "_model_module": "@jupyter-widgets/controls",
            "_model_module_version": "1.5.0",
            "_model_name": "HBoxModel",
            "_view_count": null,
            "_view_module": "@jupyter-widgets/controls",
            "_view_module_version": "1.5.0",
            "_view_name": "HBoxView",
            "box_style": "",
            "children": [
              "IPY_MODEL_0e85bec713d24127b722c30c86eb0d33",
              "IPY_MODEL_3c4e406e7ccb4dbca8b7c45af716f6c5",
              "IPY_MODEL_308962fb6bfa4315ae065a755c4aadae"
            ],
            "layout": "IPY_MODEL_3781edde0c1f4512b79413d15811217b"
          }
        },
        "0e85bec713d24127b722c30c86eb0d33": {
          "model_module": "@jupyter-widgets/controls",
          "model_name": "HTMLModel",
          "model_module_version": "1.5.0",
          "state": {
            "_dom_classes": [],
            "_model_module": "@jupyter-widgets/controls",
            "_model_module_version": "1.5.0",
            "_model_name": "HTMLModel",
            "_view_count": null,
            "_view_module": "@jupyter-widgets/controls",
            "_view_module_version": "1.5.0",
            "_view_name": "HTMLView",
            "description": "",
            "description_tooltip": null,
            "layout": "IPY_MODEL_a37af30f2545430a8e7667f3a0cc6ab8",
            "placeholder": "​",
            "style": "IPY_MODEL_2893f829a7014754802d5007c2ccbd1a",
            "value": "Downloading pytorch_model.bin: 100%"
          }
        },
        "3c4e406e7ccb4dbca8b7c45af716f6c5": {
          "model_module": "@jupyter-widgets/controls",
          "model_name": "FloatProgressModel",
          "model_module_version": "1.5.0",
          "state": {
            "_dom_classes": [],
            "_model_module": "@jupyter-widgets/controls",
            "_model_module_version": "1.5.0",
            "_model_name": "FloatProgressModel",
            "_view_count": null,
            "_view_module": "@jupyter-widgets/controls",
            "_view_module_version": "1.5.0",
            "_view_name": "ProgressView",
            "bar_style": "success",
            "description": "",
            "description_tooltip": null,
            "layout": "IPY_MODEL_18448b417a0b412ca0bb25f42f7e24ab",
            "max": 1344997306,
            "min": 0,
            "orientation": "horizontal",
            "style": "IPY_MODEL_18166a8f630241338bc0738759215bcd",
            "value": 1344997306
          }
        },
        "308962fb6bfa4315ae065a755c4aadae": {
          "model_module": "@jupyter-widgets/controls",
          "model_name": "HTMLModel",
          "model_module_version": "1.5.0",
          "state": {
            "_dom_classes": [],
            "_model_module": "@jupyter-widgets/controls",
            "_model_module_version": "1.5.0",
            "_model_name": "HTMLModel",
            "_view_count": null,
            "_view_module": "@jupyter-widgets/controls",
            "_view_module_version": "1.5.0",
            "_view_name": "HTMLView",
            "description": "",
            "description_tooltip": null,
            "layout": "IPY_MODEL_b84f213d83bf4a49b586d2119854ab54",
            "placeholder": "​",
            "style": "IPY_MODEL_dace1a146ad647bea805f9e4d9a35e8c",
            "value": " 1.34G/1.34G [00:10&lt;00:00, 92.0MB/s]"
          }
        },
        "3781edde0c1f4512b79413d15811217b": {
          "model_module": "@jupyter-widgets/base",
          "model_name": "LayoutModel",
          "model_module_version": "1.2.0",
          "state": {
            "_model_module": "@jupyter-widgets/base",
            "_model_module_version": "1.2.0",
            "_model_name": "LayoutModel",
            "_view_count": null,
            "_view_module": "@jupyter-widgets/base",
            "_view_module_version": "1.2.0",
            "_view_name": "LayoutView",
            "align_content": null,
            "align_items": null,
            "align_self": null,
            "border": null,
            "bottom": null,
            "display": null,
            "flex": null,
            "flex_flow": null,
            "grid_area": null,
            "grid_auto_columns": null,
            "grid_auto_flow": null,
            "grid_auto_rows": null,
            "grid_column": null,
            "grid_gap": null,
            "grid_row": null,
            "grid_template_areas": null,
            "grid_template_columns": null,
            "grid_template_rows": null,
            "height": null,
            "justify_content": null,
            "justify_items": null,
            "left": null,
            "margin": null,
            "max_height": null,
            "max_width": null,
            "min_height": null,
            "min_width": null,
            "object_fit": null,
            "object_position": null,
            "order": null,
            "overflow": null,
            "overflow_x": null,
            "overflow_y": null,
            "padding": null,
            "right": null,
            "top": null,
            "visibility": null,
            "width": null
          }
        },
        "a37af30f2545430a8e7667f3a0cc6ab8": {
          "model_module": "@jupyter-widgets/base",
          "model_name": "LayoutModel",
          "model_module_version": "1.2.0",
          "state": {
            "_model_module": "@jupyter-widgets/base",
            "_model_module_version": "1.2.0",
            "_model_name": "LayoutModel",
            "_view_count": null,
            "_view_module": "@jupyter-widgets/base",
            "_view_module_version": "1.2.0",
            "_view_name": "LayoutView",
            "align_content": null,
            "align_items": null,
            "align_self": null,
            "border": null,
            "bottom": null,
            "display": null,
            "flex": null,
            "flex_flow": null,
            "grid_area": null,
            "grid_auto_columns": null,
            "grid_auto_flow": null,
            "grid_auto_rows": null,
            "grid_column": null,
            "grid_gap": null,
            "grid_row": null,
            "grid_template_areas": null,
            "grid_template_columns": null,
            "grid_template_rows": null,
            "height": null,
            "justify_content": null,
            "justify_items": null,
            "left": null,
            "margin": null,
            "max_height": null,
            "max_width": null,
            "min_height": null,
            "min_width": null,
            "object_fit": null,
            "object_position": null,
            "order": null,
            "overflow": null,
            "overflow_x": null,
            "overflow_y": null,
            "padding": null,
            "right": null,
            "top": null,
            "visibility": null,
            "width": null
          }
        },
        "2893f829a7014754802d5007c2ccbd1a": {
          "model_module": "@jupyter-widgets/controls",
          "model_name": "DescriptionStyleModel",
          "model_module_version": "1.5.0",
          "state": {
            "_model_module": "@jupyter-widgets/controls",
            "_model_module_version": "1.5.0",
            "_model_name": "DescriptionStyleModel",
            "_view_count": null,
            "_view_module": "@jupyter-widgets/base",
            "_view_module_version": "1.2.0",
            "_view_name": "StyleView",
            "description_width": ""
          }
        },
        "18448b417a0b412ca0bb25f42f7e24ab": {
          "model_module": "@jupyter-widgets/base",
          "model_name": "LayoutModel",
          "model_module_version": "1.2.0",
          "state": {
            "_model_module": "@jupyter-widgets/base",
            "_model_module_version": "1.2.0",
            "_model_name": "LayoutModel",
            "_view_count": null,
            "_view_module": "@jupyter-widgets/base",
            "_view_module_version": "1.2.0",
            "_view_name": "LayoutView",
            "align_content": null,
            "align_items": null,
            "align_self": null,
            "border": null,
            "bottom": null,
            "display": null,
            "flex": null,
            "flex_flow": null,
            "grid_area": null,
            "grid_auto_columns": null,
            "grid_auto_flow": null,
            "grid_auto_rows": null,
            "grid_column": null,
            "grid_gap": null,
            "grid_row": null,
            "grid_template_areas": null,
            "grid_template_columns": null,
            "grid_template_rows": null,
            "height": null,
            "justify_content": null,
            "justify_items": null,
            "left": null,
            "margin": null,
            "max_height": null,
            "max_width": null,
            "min_height": null,
            "min_width": null,
            "object_fit": null,
            "object_position": null,
            "order": null,
            "overflow": null,
            "overflow_x": null,
            "overflow_y": null,
            "padding": null,
            "right": null,
            "top": null,
            "visibility": null,
            "width": null
          }
        },
        "18166a8f630241338bc0738759215bcd": {
          "model_module": "@jupyter-widgets/controls",
          "model_name": "ProgressStyleModel",
          "model_module_version": "1.5.0",
          "state": {
            "_model_module": "@jupyter-widgets/controls",
            "_model_module_version": "1.5.0",
            "_model_name": "ProgressStyleModel",
            "_view_count": null,
            "_view_module": "@jupyter-widgets/base",
            "_view_module_version": "1.2.0",
            "_view_name": "StyleView",
            "bar_color": null,
            "description_width": ""
          }
        },
        "b84f213d83bf4a49b586d2119854ab54": {
          "model_module": "@jupyter-widgets/base",
          "model_name": "LayoutModel",
          "model_module_version": "1.2.0",
          "state": {
            "_model_module": "@jupyter-widgets/base",
            "_model_module_version": "1.2.0",
            "_model_name": "LayoutModel",
            "_view_count": null,
            "_view_module": "@jupyter-widgets/base",
            "_view_module_version": "1.2.0",
            "_view_name": "LayoutView",
            "align_content": null,
            "align_items": null,
            "align_self": null,
            "border": null,
            "bottom": null,
            "display": null,
            "flex": null,
            "flex_flow": null,
            "grid_area": null,
            "grid_auto_columns": null,
            "grid_auto_flow": null,
            "grid_auto_rows": null,
            "grid_column": null,
            "grid_gap": null,
            "grid_row": null,
            "grid_template_areas": null,
            "grid_template_columns": null,
            "grid_template_rows": null,
            "height": null,
            "justify_content": null,
            "justify_items": null,
            "left": null,
            "margin": null,
            "max_height": null,
            "max_width": null,
            "min_height": null,
            "min_width": null,
            "object_fit": null,
            "object_position": null,
            "order": null,
            "overflow": null,
            "overflow_x": null,
            "overflow_y": null,
            "padding": null,
            "right": null,
            "top": null,
            "visibility": null,
            "width": null
          }
        },
        "dace1a146ad647bea805f9e4d9a35e8c": {
          "model_module": "@jupyter-widgets/controls",
          "model_name": "DescriptionStyleModel",
          "model_module_version": "1.5.0",
          "state": {
            "_model_module": "@jupyter-widgets/controls",
            "_model_module_version": "1.5.0",
            "_model_name": "DescriptionStyleModel",
            "_view_count": null,
            "_view_module": "@jupyter-widgets/base",
            "_view_module_version": "1.2.0",
            "_view_name": "StyleView",
            "description_width": ""
          }
        },
        "a424b75771c04613951d5cf08c2d7dbc": {
          "model_module": "@jupyter-widgets/controls",
          "model_name": "HBoxModel",
          "model_module_version": "1.5.0",
          "state": {
            "_dom_classes": [],
            "_model_module": "@jupyter-widgets/controls",
            "_model_module_version": "1.5.0",
            "_model_name": "HBoxModel",
            "_view_count": null,
            "_view_module": "@jupyter-widgets/controls",
            "_view_module_version": "1.5.0",
            "_view_name": "HBoxView",
            "box_style": "",
            "children": [
              "IPY_MODEL_f9fe4db7e0134f46bc3376bd0d82d1a1",
              "IPY_MODEL_757003d1fefd46369d5d0a4c42967850",
              "IPY_MODEL_8bd83a708a90451cb21c213a22c6e917"
            ],
            "layout": "IPY_MODEL_f27c5435df474a5b9d7da4f6607c559b"
          }
        },
        "f9fe4db7e0134f46bc3376bd0d82d1a1": {
          "model_module": "@jupyter-widgets/controls",
          "model_name": "HTMLModel",
          "model_module_version": "1.5.0",
          "state": {
            "_dom_classes": [],
            "_model_module": "@jupyter-widgets/controls",
            "_model_module_version": "1.5.0",
            "_model_name": "HTMLModel",
            "_view_count": null,
            "_view_module": "@jupyter-widgets/controls",
            "_view_module_version": "1.5.0",
            "_view_name": "HTMLView",
            "description": "",
            "description_tooltip": null,
            "layout": "IPY_MODEL_5709752759984f2c8dda34e1a83dde58",
            "placeholder": "​",
            "style": "IPY_MODEL_525b9e1ba4514336bc5f42a6c18f6297",
            "value": "Downloading (…)okenizer_config.json: 100%"
          }
        },
        "757003d1fefd46369d5d0a4c42967850": {
          "model_module": "@jupyter-widgets/controls",
          "model_name": "FloatProgressModel",
          "model_module_version": "1.5.0",
          "state": {
            "_dom_classes": [],
            "_model_module": "@jupyter-widgets/controls",
            "_model_module_version": "1.5.0",
            "_model_name": "FloatProgressModel",
            "_view_count": null,
            "_view_module": "@jupyter-widgets/controls",
            "_view_module_version": "1.5.0",
            "_view_name": "ProgressView",
            "bar_style": "success",
            "description": "",
            "description_tooltip": null,
            "layout": "IPY_MODEL_5d42a6f945e543cea57b52d5aa7fa2a2",
            "max": 28,
            "min": 0,
            "orientation": "horizontal",
            "style": "IPY_MODEL_bb9c5da826314ca59ce1c88f344a8106",
            "value": 28
          }
        },
        "8bd83a708a90451cb21c213a22c6e917": {
          "model_module": "@jupyter-widgets/controls",
          "model_name": "HTMLModel",
          "model_module_version": "1.5.0",
          "state": {
            "_dom_classes": [],
            "_model_module": "@jupyter-widgets/controls",
            "_model_module_version": "1.5.0",
            "_model_name": "HTMLModel",
            "_view_count": null,
            "_view_module": "@jupyter-widgets/controls",
            "_view_module_version": "1.5.0",
            "_view_name": "HTMLView",
            "description": "",
            "description_tooltip": null,
            "layout": "IPY_MODEL_473e041c6dbb4acfb52a9abea1d9867f",
            "placeholder": "​",
            "style": "IPY_MODEL_52877f074d0741e694299d2e39582f1a",
            "value": " 28.0/28.0 [00:00&lt;00:00, 687B/s]"
          }
        },
        "f27c5435df474a5b9d7da4f6607c559b": {
          "model_module": "@jupyter-widgets/base",
          "model_name": "LayoutModel",
          "model_module_version": "1.2.0",
          "state": {
            "_model_module": "@jupyter-widgets/base",
            "_model_module_version": "1.2.0",
            "_model_name": "LayoutModel",
            "_view_count": null,
            "_view_module": "@jupyter-widgets/base",
            "_view_module_version": "1.2.0",
            "_view_name": "LayoutView",
            "align_content": null,
            "align_items": null,
            "align_self": null,
            "border": null,
            "bottom": null,
            "display": null,
            "flex": null,
            "flex_flow": null,
            "grid_area": null,
            "grid_auto_columns": null,
            "grid_auto_flow": null,
            "grid_auto_rows": null,
            "grid_column": null,
            "grid_gap": null,
            "grid_row": null,
            "grid_template_areas": null,
            "grid_template_columns": null,
            "grid_template_rows": null,
            "height": null,
            "justify_content": null,
            "justify_items": null,
            "left": null,
            "margin": null,
            "max_height": null,
            "max_width": null,
            "min_height": null,
            "min_width": null,
            "object_fit": null,
            "object_position": null,
            "order": null,
            "overflow": null,
            "overflow_x": null,
            "overflow_y": null,
            "padding": null,
            "right": null,
            "top": null,
            "visibility": null,
            "width": null
          }
        },
        "5709752759984f2c8dda34e1a83dde58": {
          "model_module": "@jupyter-widgets/base",
          "model_name": "LayoutModel",
          "model_module_version": "1.2.0",
          "state": {
            "_model_module": "@jupyter-widgets/base",
            "_model_module_version": "1.2.0",
            "_model_name": "LayoutModel",
            "_view_count": null,
            "_view_module": "@jupyter-widgets/base",
            "_view_module_version": "1.2.0",
            "_view_name": "LayoutView",
            "align_content": null,
            "align_items": null,
            "align_self": null,
            "border": null,
            "bottom": null,
            "display": null,
            "flex": null,
            "flex_flow": null,
            "grid_area": null,
            "grid_auto_columns": null,
            "grid_auto_flow": null,
            "grid_auto_rows": null,
            "grid_column": null,
            "grid_gap": null,
            "grid_row": null,
            "grid_template_areas": null,
            "grid_template_columns": null,
            "grid_template_rows": null,
            "height": null,
            "justify_content": null,
            "justify_items": null,
            "left": null,
            "margin": null,
            "max_height": null,
            "max_width": null,
            "min_height": null,
            "min_width": null,
            "object_fit": null,
            "object_position": null,
            "order": null,
            "overflow": null,
            "overflow_x": null,
            "overflow_y": null,
            "padding": null,
            "right": null,
            "top": null,
            "visibility": null,
            "width": null
          }
        },
        "525b9e1ba4514336bc5f42a6c18f6297": {
          "model_module": "@jupyter-widgets/controls",
          "model_name": "DescriptionStyleModel",
          "model_module_version": "1.5.0",
          "state": {
            "_model_module": "@jupyter-widgets/controls",
            "_model_module_version": "1.5.0",
            "_model_name": "DescriptionStyleModel",
            "_view_count": null,
            "_view_module": "@jupyter-widgets/base",
            "_view_module_version": "1.2.0",
            "_view_name": "StyleView",
            "description_width": ""
          }
        },
        "5d42a6f945e543cea57b52d5aa7fa2a2": {
          "model_module": "@jupyter-widgets/base",
          "model_name": "LayoutModel",
          "model_module_version": "1.2.0",
          "state": {
            "_model_module": "@jupyter-widgets/base",
            "_model_module_version": "1.2.0",
            "_model_name": "LayoutModel",
            "_view_count": null,
            "_view_module": "@jupyter-widgets/base",
            "_view_module_version": "1.2.0",
            "_view_name": "LayoutView",
            "align_content": null,
            "align_items": null,
            "align_self": null,
            "border": null,
            "bottom": null,
            "display": null,
            "flex": null,
            "flex_flow": null,
            "grid_area": null,
            "grid_auto_columns": null,
            "grid_auto_flow": null,
            "grid_auto_rows": null,
            "grid_column": null,
            "grid_gap": null,
            "grid_row": null,
            "grid_template_areas": null,
            "grid_template_columns": null,
            "grid_template_rows": null,
            "height": null,
            "justify_content": null,
            "justify_items": null,
            "left": null,
            "margin": null,
            "max_height": null,
            "max_width": null,
            "min_height": null,
            "min_width": null,
            "object_fit": null,
            "object_position": null,
            "order": null,
            "overflow": null,
            "overflow_x": null,
            "overflow_y": null,
            "padding": null,
            "right": null,
            "top": null,
            "visibility": null,
            "width": null
          }
        },
        "bb9c5da826314ca59ce1c88f344a8106": {
          "model_module": "@jupyter-widgets/controls",
          "model_name": "ProgressStyleModel",
          "model_module_version": "1.5.0",
          "state": {
            "_model_module": "@jupyter-widgets/controls",
            "_model_module_version": "1.5.0",
            "_model_name": "ProgressStyleModel",
            "_view_count": null,
            "_view_module": "@jupyter-widgets/base",
            "_view_module_version": "1.2.0",
            "_view_name": "StyleView",
            "bar_color": null,
            "description_width": ""
          }
        },
        "473e041c6dbb4acfb52a9abea1d9867f": {
          "model_module": "@jupyter-widgets/base",
          "model_name": "LayoutModel",
          "model_module_version": "1.2.0",
          "state": {
            "_model_module": "@jupyter-widgets/base",
            "_model_module_version": "1.2.0",
            "_model_name": "LayoutModel",
            "_view_count": null,
            "_view_module": "@jupyter-widgets/base",
            "_view_module_version": "1.2.0",
            "_view_name": "LayoutView",
            "align_content": null,
            "align_items": null,
            "align_self": null,
            "border": null,
            "bottom": null,
            "display": null,
            "flex": null,
            "flex_flow": null,
            "grid_area": null,
            "grid_auto_columns": null,
            "grid_auto_flow": null,
            "grid_auto_rows": null,
            "grid_column": null,
            "grid_gap": null,
            "grid_row": null,
            "grid_template_areas": null,
            "grid_template_columns": null,
            "grid_template_rows": null,
            "height": null,
            "justify_content": null,
            "justify_items": null,
            "left": null,
            "margin": null,
            "max_height": null,
            "max_width": null,
            "min_height": null,
            "min_width": null,
            "object_fit": null,
            "object_position": null,
            "order": null,
            "overflow": null,
            "overflow_x": null,
            "overflow_y": null,
            "padding": null,
            "right": null,
            "top": null,
            "visibility": null,
            "width": null
          }
        },
        "52877f074d0741e694299d2e39582f1a": {
          "model_module": "@jupyter-widgets/controls",
          "model_name": "DescriptionStyleModel",
          "model_module_version": "1.5.0",
          "state": {
            "_model_module": "@jupyter-widgets/controls",
            "_model_module_version": "1.5.0",
            "_model_name": "DescriptionStyleModel",
            "_view_count": null,
            "_view_module": "@jupyter-widgets/base",
            "_view_module_version": "1.2.0",
            "_view_name": "StyleView",
            "description_width": ""
          }
        },
        "da6794bffe9446d68ce9e118cf404e4d": {
          "model_module": "@jupyter-widgets/controls",
          "model_name": "HBoxModel",
          "model_module_version": "1.5.0",
          "state": {
            "_dom_classes": [],
            "_model_module": "@jupyter-widgets/controls",
            "_model_module_version": "1.5.0",
            "_model_name": "HBoxModel",
            "_view_count": null,
            "_view_module": "@jupyter-widgets/controls",
            "_view_module_version": "1.5.0",
            "_view_name": "HBoxView",
            "box_style": "",
            "children": [
              "IPY_MODEL_dae392d0d8664878891d9f3cf565f5b7",
              "IPY_MODEL_4fb614d24dd24a7eb0f982f3401dc58b",
              "IPY_MODEL_090b465dc0e9451faed81b46da7dc860"
            ],
            "layout": "IPY_MODEL_fde4456e528c4bef8b93c2ce8eb97c88"
          }
        },
        "dae392d0d8664878891d9f3cf565f5b7": {
          "model_module": "@jupyter-widgets/controls",
          "model_name": "HTMLModel",
          "model_module_version": "1.5.0",
          "state": {
            "_dom_classes": [],
            "_model_module": "@jupyter-widgets/controls",
            "_model_module_version": "1.5.0",
            "_model_name": "HTMLModel",
            "_view_count": null,
            "_view_module": "@jupyter-widgets/controls",
            "_view_module_version": "1.5.0",
            "_view_name": "HTMLView",
            "description": "",
            "description_tooltip": null,
            "layout": "IPY_MODEL_2df05de96498452eafeac4245dc9ed57",
            "placeholder": "​",
            "style": "IPY_MODEL_5d45aca0b791436fb6553c9fa242ce5e",
            "value": "Downloading (…)solve/main/vocab.txt: 100%"
          }
        },
        "4fb614d24dd24a7eb0f982f3401dc58b": {
          "model_module": "@jupyter-widgets/controls",
          "model_name": "FloatProgressModel",
          "model_module_version": "1.5.0",
          "state": {
            "_dom_classes": [],
            "_model_module": "@jupyter-widgets/controls",
            "_model_module_version": "1.5.0",
            "_model_name": "FloatProgressModel",
            "_view_count": null,
            "_view_module": "@jupyter-widgets/controls",
            "_view_module_version": "1.5.0",
            "_view_name": "ProgressView",
            "bar_style": "success",
            "description": "",
            "description_tooltip": null,
            "layout": "IPY_MODEL_6a152e9517ca421897a9a008cffa4ee9",
            "max": 231508,
            "min": 0,
            "orientation": "horizontal",
            "style": "IPY_MODEL_5374da2716f04b919aeea86f2935f207",
            "value": 231508
          }
        },
        "090b465dc0e9451faed81b46da7dc860": {
          "model_module": "@jupyter-widgets/controls",
          "model_name": "HTMLModel",
          "model_module_version": "1.5.0",
          "state": {
            "_dom_classes": [],
            "_model_module": "@jupyter-widgets/controls",
            "_model_module_version": "1.5.0",
            "_model_name": "HTMLModel",
            "_view_count": null,
            "_view_module": "@jupyter-widgets/controls",
            "_view_module_version": "1.5.0",
            "_view_name": "HTMLView",
            "description": "",
            "description_tooltip": null,
            "layout": "IPY_MODEL_5c5bce1aedaf41d9a8c7ec8570fe2b74",
            "placeholder": "​",
            "style": "IPY_MODEL_59640c5b46894e8da8d6fcabe849d23e",
            "value": " 232k/232k [00:00&lt;00:00, 1.68MB/s]"
          }
        },
        "fde4456e528c4bef8b93c2ce8eb97c88": {
          "model_module": "@jupyter-widgets/base",
          "model_name": "LayoutModel",
          "model_module_version": "1.2.0",
          "state": {
            "_model_module": "@jupyter-widgets/base",
            "_model_module_version": "1.2.0",
            "_model_name": "LayoutModel",
            "_view_count": null,
            "_view_module": "@jupyter-widgets/base",
            "_view_module_version": "1.2.0",
            "_view_name": "LayoutView",
            "align_content": null,
            "align_items": null,
            "align_self": null,
            "border": null,
            "bottom": null,
            "display": null,
            "flex": null,
            "flex_flow": null,
            "grid_area": null,
            "grid_auto_columns": null,
            "grid_auto_flow": null,
            "grid_auto_rows": null,
            "grid_column": null,
            "grid_gap": null,
            "grid_row": null,
            "grid_template_areas": null,
            "grid_template_columns": null,
            "grid_template_rows": null,
            "height": null,
            "justify_content": null,
            "justify_items": null,
            "left": null,
            "margin": null,
            "max_height": null,
            "max_width": null,
            "min_height": null,
            "min_width": null,
            "object_fit": null,
            "object_position": null,
            "order": null,
            "overflow": null,
            "overflow_x": null,
            "overflow_y": null,
            "padding": null,
            "right": null,
            "top": null,
            "visibility": null,
            "width": null
          }
        },
        "2df05de96498452eafeac4245dc9ed57": {
          "model_module": "@jupyter-widgets/base",
          "model_name": "LayoutModel",
          "model_module_version": "1.2.0",
          "state": {
            "_model_module": "@jupyter-widgets/base",
            "_model_module_version": "1.2.0",
            "_model_name": "LayoutModel",
            "_view_count": null,
            "_view_module": "@jupyter-widgets/base",
            "_view_module_version": "1.2.0",
            "_view_name": "LayoutView",
            "align_content": null,
            "align_items": null,
            "align_self": null,
            "border": null,
            "bottom": null,
            "display": null,
            "flex": null,
            "flex_flow": null,
            "grid_area": null,
            "grid_auto_columns": null,
            "grid_auto_flow": null,
            "grid_auto_rows": null,
            "grid_column": null,
            "grid_gap": null,
            "grid_row": null,
            "grid_template_areas": null,
            "grid_template_columns": null,
            "grid_template_rows": null,
            "height": null,
            "justify_content": null,
            "justify_items": null,
            "left": null,
            "margin": null,
            "max_height": null,
            "max_width": null,
            "min_height": null,
            "min_width": null,
            "object_fit": null,
            "object_position": null,
            "order": null,
            "overflow": null,
            "overflow_x": null,
            "overflow_y": null,
            "padding": null,
            "right": null,
            "top": null,
            "visibility": null,
            "width": null
          }
        },
        "5d45aca0b791436fb6553c9fa242ce5e": {
          "model_module": "@jupyter-widgets/controls",
          "model_name": "DescriptionStyleModel",
          "model_module_version": "1.5.0",
          "state": {
            "_model_module": "@jupyter-widgets/controls",
            "_model_module_version": "1.5.0",
            "_model_name": "DescriptionStyleModel",
            "_view_count": null,
            "_view_module": "@jupyter-widgets/base",
            "_view_module_version": "1.2.0",
            "_view_name": "StyleView",
            "description_width": ""
          }
        },
        "6a152e9517ca421897a9a008cffa4ee9": {
          "model_module": "@jupyter-widgets/base",
          "model_name": "LayoutModel",
          "model_module_version": "1.2.0",
          "state": {
            "_model_module": "@jupyter-widgets/base",
            "_model_module_version": "1.2.0",
            "_model_name": "LayoutModel",
            "_view_count": null,
            "_view_module": "@jupyter-widgets/base",
            "_view_module_version": "1.2.0",
            "_view_name": "LayoutView",
            "align_content": null,
            "align_items": null,
            "align_self": null,
            "border": null,
            "bottom": null,
            "display": null,
            "flex": null,
            "flex_flow": null,
            "grid_area": null,
            "grid_auto_columns": null,
            "grid_auto_flow": null,
            "grid_auto_rows": null,
            "grid_column": null,
            "grid_gap": null,
            "grid_row": null,
            "grid_template_areas": null,
            "grid_template_columns": null,
            "grid_template_rows": null,
            "height": null,
            "justify_content": null,
            "justify_items": null,
            "left": null,
            "margin": null,
            "max_height": null,
            "max_width": null,
            "min_height": null,
            "min_width": null,
            "object_fit": null,
            "object_position": null,
            "order": null,
            "overflow": null,
            "overflow_x": null,
            "overflow_y": null,
            "padding": null,
            "right": null,
            "top": null,
            "visibility": null,
            "width": null
          }
        },
        "5374da2716f04b919aeea86f2935f207": {
          "model_module": "@jupyter-widgets/controls",
          "model_name": "ProgressStyleModel",
          "model_module_version": "1.5.0",
          "state": {
            "_model_module": "@jupyter-widgets/controls",
            "_model_module_version": "1.5.0",
            "_model_name": "ProgressStyleModel",
            "_view_count": null,
            "_view_module": "@jupyter-widgets/base",
            "_view_module_version": "1.2.0",
            "_view_name": "StyleView",
            "bar_color": null,
            "description_width": ""
          }
        },
        "5c5bce1aedaf41d9a8c7ec8570fe2b74": {
          "model_module": "@jupyter-widgets/base",
          "model_name": "LayoutModel",
          "model_module_version": "1.2.0",
          "state": {
            "_model_module": "@jupyter-widgets/base",
            "_model_module_version": "1.2.0",
            "_model_name": "LayoutModel",
            "_view_count": null,
            "_view_module": "@jupyter-widgets/base",
            "_view_module_version": "1.2.0",
            "_view_name": "LayoutView",
            "align_content": null,
            "align_items": null,
            "align_self": null,
            "border": null,
            "bottom": null,
            "display": null,
            "flex": null,
            "flex_flow": null,
            "grid_area": null,
            "grid_auto_columns": null,
            "grid_auto_flow": null,
            "grid_auto_rows": null,
            "grid_column": null,
            "grid_gap": null,
            "grid_row": null,
            "grid_template_areas": null,
            "grid_template_columns": null,
            "grid_template_rows": null,
            "height": null,
            "justify_content": null,
            "justify_items": null,
            "left": null,
            "margin": null,
            "max_height": null,
            "max_width": null,
            "min_height": null,
            "min_width": null,
            "object_fit": null,
            "object_position": null,
            "order": null,
            "overflow": null,
            "overflow_x": null,
            "overflow_y": null,
            "padding": null,
            "right": null,
            "top": null,
            "visibility": null,
            "width": null
          }
        },
        "59640c5b46894e8da8d6fcabe849d23e": {
          "model_module": "@jupyter-widgets/controls",
          "model_name": "DescriptionStyleModel",
          "model_module_version": "1.5.0",
          "state": {
            "_model_module": "@jupyter-widgets/controls",
            "_model_module_version": "1.5.0",
            "_model_name": "DescriptionStyleModel",
            "_view_count": null,
            "_view_module": "@jupyter-widgets/base",
            "_view_module_version": "1.2.0",
            "_view_name": "StyleView",
            "description_width": ""
          }
        },
        "6460225d7d5644c5ad8ed1498d34d21f": {
          "model_module": "@jupyter-widgets/controls",
          "model_name": "HBoxModel",
          "model_module_version": "1.5.0",
          "state": {
            "_dom_classes": [],
            "_model_module": "@jupyter-widgets/controls",
            "_model_module_version": "1.5.0",
            "_model_name": "HBoxModel",
            "_view_count": null,
            "_view_module": "@jupyter-widgets/controls",
            "_view_module_version": "1.5.0",
            "_view_name": "HBoxView",
            "box_style": "",
            "children": [
              "IPY_MODEL_07a29283893b4810a6f3b281cb9e5d82",
              "IPY_MODEL_47f0c000f919453bb9edefe9c787b646",
              "IPY_MODEL_5065cd7461bd48ac8b0a967ebf5eecba"
            ],
            "layout": "IPY_MODEL_f056dd022cee4b0192f951b872d81ad7"
          }
        },
        "07a29283893b4810a6f3b281cb9e5d82": {
          "model_module": "@jupyter-widgets/controls",
          "model_name": "HTMLModel",
          "model_module_version": "1.5.0",
          "state": {
            "_dom_classes": [],
            "_model_module": "@jupyter-widgets/controls",
            "_model_module_version": "1.5.0",
            "_model_name": "HTMLModel",
            "_view_count": null,
            "_view_module": "@jupyter-widgets/controls",
            "_view_module_version": "1.5.0",
            "_view_name": "HTMLView",
            "description": "",
            "description_tooltip": null,
            "layout": "IPY_MODEL_71f6dd9063d340a2b892ad4f0aa67429",
            "placeholder": "​",
            "style": "IPY_MODEL_9750b94f95c841b1968b4e33ef1a90de",
            "value": "Downloading (…)/main/tokenizer.json: 100%"
          }
        },
        "47f0c000f919453bb9edefe9c787b646": {
          "model_module": "@jupyter-widgets/controls",
          "model_name": "FloatProgressModel",
          "model_module_version": "1.5.0",
          "state": {
            "_dom_classes": [],
            "_model_module": "@jupyter-widgets/controls",
            "_model_module_version": "1.5.0",
            "_model_name": "FloatProgressModel",
            "_view_count": null,
            "_view_module": "@jupyter-widgets/controls",
            "_view_module_version": "1.5.0",
            "_view_name": "ProgressView",
            "bar_style": "success",
            "description": "",
            "description_tooltip": null,
            "layout": "IPY_MODEL_92a5db6ac0a340388f5fe1ad8ab23162",
            "max": 466062,
            "min": 0,
            "orientation": "horizontal",
            "style": "IPY_MODEL_bea1be5caf3e40088a44e3f9180c3803",
            "value": 466062
          }
        },
        "5065cd7461bd48ac8b0a967ebf5eecba": {
          "model_module": "@jupyter-widgets/controls",
          "model_name": "HTMLModel",
          "model_module_version": "1.5.0",
          "state": {
            "_dom_classes": [],
            "_model_module": "@jupyter-widgets/controls",
            "_model_module_version": "1.5.0",
            "_model_name": "HTMLModel",
            "_view_count": null,
            "_view_module": "@jupyter-widgets/controls",
            "_view_module_version": "1.5.0",
            "_view_name": "HTMLView",
            "description": "",
            "description_tooltip": null,
            "layout": "IPY_MODEL_8b5863e90db7490c971ea3f84acf3300",
            "placeholder": "​",
            "style": "IPY_MODEL_23368521aa90417092b4b21e6957988b",
            "value": " 466k/466k [00:00&lt;00:00, 3.29MB/s]"
          }
        },
        "f056dd022cee4b0192f951b872d81ad7": {
          "model_module": "@jupyter-widgets/base",
          "model_name": "LayoutModel",
          "model_module_version": "1.2.0",
          "state": {
            "_model_module": "@jupyter-widgets/base",
            "_model_module_version": "1.2.0",
            "_model_name": "LayoutModel",
            "_view_count": null,
            "_view_module": "@jupyter-widgets/base",
            "_view_module_version": "1.2.0",
            "_view_name": "LayoutView",
            "align_content": null,
            "align_items": null,
            "align_self": null,
            "border": null,
            "bottom": null,
            "display": null,
            "flex": null,
            "flex_flow": null,
            "grid_area": null,
            "grid_auto_columns": null,
            "grid_auto_flow": null,
            "grid_auto_rows": null,
            "grid_column": null,
            "grid_gap": null,
            "grid_row": null,
            "grid_template_areas": null,
            "grid_template_columns": null,
            "grid_template_rows": null,
            "height": null,
            "justify_content": null,
            "justify_items": null,
            "left": null,
            "margin": null,
            "max_height": null,
            "max_width": null,
            "min_height": null,
            "min_width": null,
            "object_fit": null,
            "object_position": null,
            "order": null,
            "overflow": null,
            "overflow_x": null,
            "overflow_y": null,
            "padding": null,
            "right": null,
            "top": null,
            "visibility": null,
            "width": null
          }
        },
        "71f6dd9063d340a2b892ad4f0aa67429": {
          "model_module": "@jupyter-widgets/base",
          "model_name": "LayoutModel",
          "model_module_version": "1.2.0",
          "state": {
            "_model_module": "@jupyter-widgets/base",
            "_model_module_version": "1.2.0",
            "_model_name": "LayoutModel",
            "_view_count": null,
            "_view_module": "@jupyter-widgets/base",
            "_view_module_version": "1.2.0",
            "_view_name": "LayoutView",
            "align_content": null,
            "align_items": null,
            "align_self": null,
            "border": null,
            "bottom": null,
            "display": null,
            "flex": null,
            "flex_flow": null,
            "grid_area": null,
            "grid_auto_columns": null,
            "grid_auto_flow": null,
            "grid_auto_rows": null,
            "grid_column": null,
            "grid_gap": null,
            "grid_row": null,
            "grid_template_areas": null,
            "grid_template_columns": null,
            "grid_template_rows": null,
            "height": null,
            "justify_content": null,
            "justify_items": null,
            "left": null,
            "margin": null,
            "max_height": null,
            "max_width": null,
            "min_height": null,
            "min_width": null,
            "object_fit": null,
            "object_position": null,
            "order": null,
            "overflow": null,
            "overflow_x": null,
            "overflow_y": null,
            "padding": null,
            "right": null,
            "top": null,
            "visibility": null,
            "width": null
          }
        },
        "9750b94f95c841b1968b4e33ef1a90de": {
          "model_module": "@jupyter-widgets/controls",
          "model_name": "DescriptionStyleModel",
          "model_module_version": "1.5.0",
          "state": {
            "_model_module": "@jupyter-widgets/controls",
            "_model_module_version": "1.5.0",
            "_model_name": "DescriptionStyleModel",
            "_view_count": null,
            "_view_module": "@jupyter-widgets/base",
            "_view_module_version": "1.2.0",
            "_view_name": "StyleView",
            "description_width": ""
          }
        },
        "92a5db6ac0a340388f5fe1ad8ab23162": {
          "model_module": "@jupyter-widgets/base",
          "model_name": "LayoutModel",
          "model_module_version": "1.2.0",
          "state": {
            "_model_module": "@jupyter-widgets/base",
            "_model_module_version": "1.2.0",
            "_model_name": "LayoutModel",
            "_view_count": null,
            "_view_module": "@jupyter-widgets/base",
            "_view_module_version": "1.2.0",
            "_view_name": "LayoutView",
            "align_content": null,
            "align_items": null,
            "align_self": null,
            "border": null,
            "bottom": null,
            "display": null,
            "flex": null,
            "flex_flow": null,
            "grid_area": null,
            "grid_auto_columns": null,
            "grid_auto_flow": null,
            "grid_auto_rows": null,
            "grid_column": null,
            "grid_gap": null,
            "grid_row": null,
            "grid_template_areas": null,
            "grid_template_columns": null,
            "grid_template_rows": null,
            "height": null,
            "justify_content": null,
            "justify_items": null,
            "left": null,
            "margin": null,
            "max_height": null,
            "max_width": null,
            "min_height": null,
            "min_width": null,
            "object_fit": null,
            "object_position": null,
            "order": null,
            "overflow": null,
            "overflow_x": null,
            "overflow_y": null,
            "padding": null,
            "right": null,
            "top": null,
            "visibility": null,
            "width": null
          }
        },
        "bea1be5caf3e40088a44e3f9180c3803": {
          "model_module": "@jupyter-widgets/controls",
          "model_name": "ProgressStyleModel",
          "model_module_version": "1.5.0",
          "state": {
            "_model_module": "@jupyter-widgets/controls",
            "_model_module_version": "1.5.0",
            "_model_name": "ProgressStyleModel",
            "_view_count": null,
            "_view_module": "@jupyter-widgets/base",
            "_view_module_version": "1.2.0",
            "_view_name": "StyleView",
            "bar_color": null,
            "description_width": ""
          }
        },
        "8b5863e90db7490c971ea3f84acf3300": {
          "model_module": "@jupyter-widgets/base",
          "model_name": "LayoutModel",
          "model_module_version": "1.2.0",
          "state": {
            "_model_module": "@jupyter-widgets/base",
            "_model_module_version": "1.2.0",
            "_model_name": "LayoutModel",
            "_view_count": null,
            "_view_module": "@jupyter-widgets/base",
            "_view_module_version": "1.2.0",
            "_view_name": "LayoutView",
            "align_content": null,
            "align_items": null,
            "align_self": null,
            "border": null,
            "bottom": null,
            "display": null,
            "flex": null,
            "flex_flow": null,
            "grid_area": null,
            "grid_auto_columns": null,
            "grid_auto_flow": null,
            "grid_auto_rows": null,
            "grid_column": null,
            "grid_gap": null,
            "grid_row": null,
            "grid_template_areas": null,
            "grid_template_columns": null,
            "grid_template_rows": null,
            "height": null,
            "justify_content": null,
            "justify_items": null,
            "left": null,
            "margin": null,
            "max_height": null,
            "max_width": null,
            "min_height": null,
            "min_width": null,
            "object_fit": null,
            "object_position": null,
            "order": null,
            "overflow": null,
            "overflow_x": null,
            "overflow_y": null,
            "padding": null,
            "right": null,
            "top": null,
            "visibility": null,
            "width": null
          }
        },
        "23368521aa90417092b4b21e6957988b": {
          "model_module": "@jupyter-widgets/controls",
          "model_name": "DescriptionStyleModel",
          "model_module_version": "1.5.0",
          "state": {
            "_model_module": "@jupyter-widgets/controls",
            "_model_module_version": "1.5.0",
            "_model_name": "DescriptionStyleModel",
            "_view_count": null,
            "_view_module": "@jupyter-widgets/base",
            "_view_module_version": "1.2.0",
            "_view_name": "StyleView",
            "description_width": ""
          }
        },
        "21fed24d5bc74837b16b3bcf5b0375f0": {
          "model_module": "@jupyter-widgets/controls",
          "model_name": "HBoxModel",
          "model_module_version": "1.5.0",
          "state": {
            "_dom_classes": [],
            "_model_module": "@jupyter-widgets/controls",
            "_model_module_version": "1.5.0",
            "_model_name": "HBoxModel",
            "_view_count": null,
            "_view_module": "@jupyter-widgets/controls",
            "_view_module_version": "1.5.0",
            "_view_name": "HBoxView",
            "box_style": "",
            "children": [
              "IPY_MODEL_7e33c77801b949a2bdc6501d6a4b94d9",
              "IPY_MODEL_7174719d7730404a8b60656ccdd1413b",
              "IPY_MODEL_1f769a191a2f4e9cbad17f172aa42447"
            ],
            "layout": "IPY_MODEL_974c4f137cbc437d913a57a206b8fd17"
          }
        },
        "7e33c77801b949a2bdc6501d6a4b94d9": {
          "model_module": "@jupyter-widgets/controls",
          "model_name": "HTMLModel",
          "model_module_version": "1.5.0",
          "state": {
            "_dom_classes": [],
            "_model_module": "@jupyter-widgets/controls",
            "_model_module_version": "1.5.0",
            "_model_name": "HTMLModel",
            "_view_count": null,
            "_view_module": "@jupyter-widgets/controls",
            "_view_module_version": "1.5.0",
            "_view_name": "HTMLView",
            "description": "",
            "description_tooltip": null,
            "layout": "IPY_MODEL_bb5e12bf458c4c698fa244dc27a356c3",
            "placeholder": "​",
            "style": "IPY_MODEL_087964cf4a6b40aab46ac153e911037e",
            "value": "Downloading (…)solve/main/vocab.txt: 100%"
          }
        },
        "7174719d7730404a8b60656ccdd1413b": {
          "model_module": "@jupyter-widgets/controls",
          "model_name": "FloatProgressModel",
          "model_module_version": "1.5.0",
          "state": {
            "_dom_classes": [],
            "_model_module": "@jupyter-widgets/controls",
            "_model_module_version": "1.5.0",
            "_model_name": "FloatProgressModel",
            "_view_count": null,
            "_view_module": "@jupyter-widgets/controls",
            "_view_module_version": "1.5.0",
            "_view_name": "ProgressView",
            "bar_style": "success",
            "description": "",
            "description_tooltip": null,
            "layout": "IPY_MODEL_95c592bd65d54d128b603020947288a7",
            "max": 231508,
            "min": 0,
            "orientation": "horizontal",
            "style": "IPY_MODEL_493ffe0c34164e1288a4cd1b507a1086",
            "value": 231508
          }
        },
        "1f769a191a2f4e9cbad17f172aa42447": {
          "model_module": "@jupyter-widgets/controls",
          "model_name": "HTMLModel",
          "model_module_version": "1.5.0",
          "state": {
            "_dom_classes": [],
            "_model_module": "@jupyter-widgets/controls",
            "_model_module_version": "1.5.0",
            "_model_name": "HTMLModel",
            "_view_count": null,
            "_view_module": "@jupyter-widgets/controls",
            "_view_module_version": "1.5.0",
            "_view_name": "HTMLView",
            "description": "",
            "description_tooltip": null,
            "layout": "IPY_MODEL_b0ae7bb7ccdb4bc1afb883cfc8dffa2e",
            "placeholder": "​",
            "style": "IPY_MODEL_e602799d92cc4dc298d249f782f5d9d4",
            "value": " 232k/232k [00:00&lt;00:00, 1.58MB/s]"
          }
        },
        "974c4f137cbc437d913a57a206b8fd17": {
          "model_module": "@jupyter-widgets/base",
          "model_name": "LayoutModel",
          "model_module_version": "1.2.0",
          "state": {
            "_model_module": "@jupyter-widgets/base",
            "_model_module_version": "1.2.0",
            "_model_name": "LayoutModel",
            "_view_count": null,
            "_view_module": "@jupyter-widgets/base",
            "_view_module_version": "1.2.0",
            "_view_name": "LayoutView",
            "align_content": null,
            "align_items": null,
            "align_self": null,
            "border": null,
            "bottom": null,
            "display": null,
            "flex": null,
            "flex_flow": null,
            "grid_area": null,
            "grid_auto_columns": null,
            "grid_auto_flow": null,
            "grid_auto_rows": null,
            "grid_column": null,
            "grid_gap": null,
            "grid_row": null,
            "grid_template_areas": null,
            "grid_template_columns": null,
            "grid_template_rows": null,
            "height": null,
            "justify_content": null,
            "justify_items": null,
            "left": null,
            "margin": null,
            "max_height": null,
            "max_width": null,
            "min_height": null,
            "min_width": null,
            "object_fit": null,
            "object_position": null,
            "order": null,
            "overflow": null,
            "overflow_x": null,
            "overflow_y": null,
            "padding": null,
            "right": null,
            "top": null,
            "visibility": null,
            "width": null
          }
        },
        "bb5e12bf458c4c698fa244dc27a356c3": {
          "model_module": "@jupyter-widgets/base",
          "model_name": "LayoutModel",
          "model_module_version": "1.2.0",
          "state": {
            "_model_module": "@jupyter-widgets/base",
            "_model_module_version": "1.2.0",
            "_model_name": "LayoutModel",
            "_view_count": null,
            "_view_module": "@jupyter-widgets/base",
            "_view_module_version": "1.2.0",
            "_view_name": "LayoutView",
            "align_content": null,
            "align_items": null,
            "align_self": null,
            "border": null,
            "bottom": null,
            "display": null,
            "flex": null,
            "flex_flow": null,
            "grid_area": null,
            "grid_auto_columns": null,
            "grid_auto_flow": null,
            "grid_auto_rows": null,
            "grid_column": null,
            "grid_gap": null,
            "grid_row": null,
            "grid_template_areas": null,
            "grid_template_columns": null,
            "grid_template_rows": null,
            "height": null,
            "justify_content": null,
            "justify_items": null,
            "left": null,
            "margin": null,
            "max_height": null,
            "max_width": null,
            "min_height": null,
            "min_width": null,
            "object_fit": null,
            "object_position": null,
            "order": null,
            "overflow": null,
            "overflow_x": null,
            "overflow_y": null,
            "padding": null,
            "right": null,
            "top": null,
            "visibility": null,
            "width": null
          }
        },
        "087964cf4a6b40aab46ac153e911037e": {
          "model_module": "@jupyter-widgets/controls",
          "model_name": "DescriptionStyleModel",
          "model_module_version": "1.5.0",
          "state": {
            "_model_module": "@jupyter-widgets/controls",
            "_model_module_version": "1.5.0",
            "_model_name": "DescriptionStyleModel",
            "_view_count": null,
            "_view_module": "@jupyter-widgets/base",
            "_view_module_version": "1.2.0",
            "_view_name": "StyleView",
            "description_width": ""
          }
        },
        "95c592bd65d54d128b603020947288a7": {
          "model_module": "@jupyter-widgets/base",
          "model_name": "LayoutModel",
          "model_module_version": "1.2.0",
          "state": {
            "_model_module": "@jupyter-widgets/base",
            "_model_module_version": "1.2.0",
            "_model_name": "LayoutModel",
            "_view_count": null,
            "_view_module": "@jupyter-widgets/base",
            "_view_module_version": "1.2.0",
            "_view_name": "LayoutView",
            "align_content": null,
            "align_items": null,
            "align_self": null,
            "border": null,
            "bottom": null,
            "display": null,
            "flex": null,
            "flex_flow": null,
            "grid_area": null,
            "grid_auto_columns": null,
            "grid_auto_flow": null,
            "grid_auto_rows": null,
            "grid_column": null,
            "grid_gap": null,
            "grid_row": null,
            "grid_template_areas": null,
            "grid_template_columns": null,
            "grid_template_rows": null,
            "height": null,
            "justify_content": null,
            "justify_items": null,
            "left": null,
            "margin": null,
            "max_height": null,
            "max_width": null,
            "min_height": null,
            "min_width": null,
            "object_fit": null,
            "object_position": null,
            "order": null,
            "overflow": null,
            "overflow_x": null,
            "overflow_y": null,
            "padding": null,
            "right": null,
            "top": null,
            "visibility": null,
            "width": null
          }
        },
        "493ffe0c34164e1288a4cd1b507a1086": {
          "model_module": "@jupyter-widgets/controls",
          "model_name": "ProgressStyleModel",
          "model_module_version": "1.5.0",
          "state": {
            "_model_module": "@jupyter-widgets/controls",
            "_model_module_version": "1.5.0",
            "_model_name": "ProgressStyleModel",
            "_view_count": null,
            "_view_module": "@jupyter-widgets/base",
            "_view_module_version": "1.2.0",
            "_view_name": "StyleView",
            "bar_color": null,
            "description_width": ""
          }
        },
        "b0ae7bb7ccdb4bc1afb883cfc8dffa2e": {
          "model_module": "@jupyter-widgets/base",
          "model_name": "LayoutModel",
          "model_module_version": "1.2.0",
          "state": {
            "_model_module": "@jupyter-widgets/base",
            "_model_module_version": "1.2.0",
            "_model_name": "LayoutModel",
            "_view_count": null,
            "_view_module": "@jupyter-widgets/base",
            "_view_module_version": "1.2.0",
            "_view_name": "LayoutView",
            "align_content": null,
            "align_items": null,
            "align_self": null,
            "border": null,
            "bottom": null,
            "display": null,
            "flex": null,
            "flex_flow": null,
            "grid_area": null,
            "grid_auto_columns": null,
            "grid_auto_flow": null,
            "grid_auto_rows": null,
            "grid_column": null,
            "grid_gap": null,
            "grid_row": null,
            "grid_template_areas": null,
            "grid_template_columns": null,
            "grid_template_rows": null,
            "height": null,
            "justify_content": null,
            "justify_items": null,
            "left": null,
            "margin": null,
            "max_height": null,
            "max_width": null,
            "min_height": null,
            "min_width": null,
            "object_fit": null,
            "object_position": null,
            "order": null,
            "overflow": null,
            "overflow_x": null,
            "overflow_y": null,
            "padding": null,
            "right": null,
            "top": null,
            "visibility": null,
            "width": null
          }
        },
        "e602799d92cc4dc298d249f782f5d9d4": {
          "model_module": "@jupyter-widgets/controls",
          "model_name": "DescriptionStyleModel",
          "model_module_version": "1.5.0",
          "state": {
            "_model_module": "@jupyter-widgets/controls",
            "_model_module_version": "1.5.0",
            "_model_name": "DescriptionStyleModel",
            "_view_count": null,
            "_view_module": "@jupyter-widgets/base",
            "_view_module_version": "1.2.0",
            "_view_name": "StyleView",
            "description_width": ""
          }
        },
        "da9058990b3f443c98185e721ec57f84": {
          "model_module": "@jupyter-widgets/controls",
          "model_name": "HBoxModel",
          "model_module_version": "1.5.0",
          "state": {
            "_dom_classes": [],
            "_model_module": "@jupyter-widgets/controls",
            "_model_module_version": "1.5.0",
            "_model_name": "HBoxModel",
            "_view_count": null,
            "_view_module": "@jupyter-widgets/controls",
            "_view_module_version": "1.5.0",
            "_view_name": "HBoxView",
            "box_style": "",
            "children": [
              "IPY_MODEL_2cfbbad9a6564cd4baf0d655e5799196",
              "IPY_MODEL_bf033e35ab2d4c07a72b9002e3a5ee37",
              "IPY_MODEL_bc2d4d1f89694218a749c40f0aea5cde"
            ],
            "layout": "IPY_MODEL_b370e7d8e5bc457ebb0b51259f345d69"
          }
        },
        "2cfbbad9a6564cd4baf0d655e5799196": {
          "model_module": "@jupyter-widgets/controls",
          "model_name": "HTMLModel",
          "model_module_version": "1.5.0",
          "state": {
            "_dom_classes": [],
            "_model_module": "@jupyter-widgets/controls",
            "_model_module_version": "1.5.0",
            "_model_name": "HTMLModel",
            "_view_count": null,
            "_view_module": "@jupyter-widgets/controls",
            "_view_module_version": "1.5.0",
            "_view_name": "HTMLView",
            "description": "",
            "description_tooltip": null,
            "layout": "IPY_MODEL_97e8514b9d4c433aaaa007a337f56bf1",
            "placeholder": "​",
            "style": "IPY_MODEL_0f70e76ad67a43e8a100b5cef0bb431d",
            "value": "Downloading (…)okenizer_config.json: 100%"
          }
        },
        "bf033e35ab2d4c07a72b9002e3a5ee37": {
          "model_module": "@jupyter-widgets/controls",
          "model_name": "FloatProgressModel",
          "model_module_version": "1.5.0",
          "state": {
            "_dom_classes": [],
            "_model_module": "@jupyter-widgets/controls",
            "_model_module_version": "1.5.0",
            "_model_name": "FloatProgressModel",
            "_view_count": null,
            "_view_module": "@jupyter-widgets/controls",
            "_view_module_version": "1.5.0",
            "_view_name": "ProgressView",
            "bar_style": "success",
            "description": "",
            "description_tooltip": null,
            "layout": "IPY_MODEL_58a68584a16f4a0090ad4b1df56f2707",
            "max": 28,
            "min": 0,
            "orientation": "horizontal",
            "style": "IPY_MODEL_fa00ffce7744446fa61d771d4611bccb",
            "value": 28
          }
        },
        "bc2d4d1f89694218a749c40f0aea5cde": {
          "model_module": "@jupyter-widgets/controls",
          "model_name": "HTMLModel",
          "model_module_version": "1.5.0",
          "state": {
            "_dom_classes": [],
            "_model_module": "@jupyter-widgets/controls",
            "_model_module_version": "1.5.0",
            "_model_name": "HTMLModel",
            "_view_count": null,
            "_view_module": "@jupyter-widgets/controls",
            "_view_module_version": "1.5.0",
            "_view_name": "HTMLView",
            "description": "",
            "description_tooltip": null,
            "layout": "IPY_MODEL_b064d06ea9fd4fb9ad64c05dd9e1d262",
            "placeholder": "​",
            "style": "IPY_MODEL_23619189bd444e8ca6a78c7c58509c48",
            "value": " 28.0/28.0 [00:00&lt;00:00, 1.19kB/s]"
          }
        },
        "b370e7d8e5bc457ebb0b51259f345d69": {
          "model_module": "@jupyter-widgets/base",
          "model_name": "LayoutModel",
          "model_module_version": "1.2.0",
          "state": {
            "_model_module": "@jupyter-widgets/base",
            "_model_module_version": "1.2.0",
            "_model_name": "LayoutModel",
            "_view_count": null,
            "_view_module": "@jupyter-widgets/base",
            "_view_module_version": "1.2.0",
            "_view_name": "LayoutView",
            "align_content": null,
            "align_items": null,
            "align_self": null,
            "border": null,
            "bottom": null,
            "display": null,
            "flex": null,
            "flex_flow": null,
            "grid_area": null,
            "grid_auto_columns": null,
            "grid_auto_flow": null,
            "grid_auto_rows": null,
            "grid_column": null,
            "grid_gap": null,
            "grid_row": null,
            "grid_template_areas": null,
            "grid_template_columns": null,
            "grid_template_rows": null,
            "height": null,
            "justify_content": null,
            "justify_items": null,
            "left": null,
            "margin": null,
            "max_height": null,
            "max_width": null,
            "min_height": null,
            "min_width": null,
            "object_fit": null,
            "object_position": null,
            "order": null,
            "overflow": null,
            "overflow_x": null,
            "overflow_y": null,
            "padding": null,
            "right": null,
            "top": null,
            "visibility": null,
            "width": null
          }
        },
        "97e8514b9d4c433aaaa007a337f56bf1": {
          "model_module": "@jupyter-widgets/base",
          "model_name": "LayoutModel",
          "model_module_version": "1.2.0",
          "state": {
            "_model_module": "@jupyter-widgets/base",
            "_model_module_version": "1.2.0",
            "_model_name": "LayoutModel",
            "_view_count": null,
            "_view_module": "@jupyter-widgets/base",
            "_view_module_version": "1.2.0",
            "_view_name": "LayoutView",
            "align_content": null,
            "align_items": null,
            "align_self": null,
            "border": null,
            "bottom": null,
            "display": null,
            "flex": null,
            "flex_flow": null,
            "grid_area": null,
            "grid_auto_columns": null,
            "grid_auto_flow": null,
            "grid_auto_rows": null,
            "grid_column": null,
            "grid_gap": null,
            "grid_row": null,
            "grid_template_areas": null,
            "grid_template_columns": null,
            "grid_template_rows": null,
            "height": null,
            "justify_content": null,
            "justify_items": null,
            "left": null,
            "margin": null,
            "max_height": null,
            "max_width": null,
            "min_height": null,
            "min_width": null,
            "object_fit": null,
            "object_position": null,
            "order": null,
            "overflow": null,
            "overflow_x": null,
            "overflow_y": null,
            "padding": null,
            "right": null,
            "top": null,
            "visibility": null,
            "width": null
          }
        },
        "0f70e76ad67a43e8a100b5cef0bb431d": {
          "model_module": "@jupyter-widgets/controls",
          "model_name": "DescriptionStyleModel",
          "model_module_version": "1.5.0",
          "state": {
            "_model_module": "@jupyter-widgets/controls",
            "_model_module_version": "1.5.0",
            "_model_name": "DescriptionStyleModel",
            "_view_count": null,
            "_view_module": "@jupyter-widgets/base",
            "_view_module_version": "1.2.0",
            "_view_name": "StyleView",
            "description_width": ""
          }
        },
        "58a68584a16f4a0090ad4b1df56f2707": {
          "model_module": "@jupyter-widgets/base",
          "model_name": "LayoutModel",
          "model_module_version": "1.2.0",
          "state": {
            "_model_module": "@jupyter-widgets/base",
            "_model_module_version": "1.2.0",
            "_model_name": "LayoutModel",
            "_view_count": null,
            "_view_module": "@jupyter-widgets/base",
            "_view_module_version": "1.2.0",
            "_view_name": "LayoutView",
            "align_content": null,
            "align_items": null,
            "align_self": null,
            "border": null,
            "bottom": null,
            "display": null,
            "flex": null,
            "flex_flow": null,
            "grid_area": null,
            "grid_auto_columns": null,
            "grid_auto_flow": null,
            "grid_auto_rows": null,
            "grid_column": null,
            "grid_gap": null,
            "grid_row": null,
            "grid_template_areas": null,
            "grid_template_columns": null,
            "grid_template_rows": null,
            "height": null,
            "justify_content": null,
            "justify_items": null,
            "left": null,
            "margin": null,
            "max_height": null,
            "max_width": null,
            "min_height": null,
            "min_width": null,
            "object_fit": null,
            "object_position": null,
            "order": null,
            "overflow": null,
            "overflow_x": null,
            "overflow_y": null,
            "padding": null,
            "right": null,
            "top": null,
            "visibility": null,
            "width": null
          }
        },
        "fa00ffce7744446fa61d771d4611bccb": {
          "model_module": "@jupyter-widgets/controls",
          "model_name": "ProgressStyleModel",
          "model_module_version": "1.5.0",
          "state": {
            "_model_module": "@jupyter-widgets/controls",
            "_model_module_version": "1.5.0",
            "_model_name": "ProgressStyleModel",
            "_view_count": null,
            "_view_module": "@jupyter-widgets/base",
            "_view_module_version": "1.2.0",
            "_view_name": "StyleView",
            "bar_color": null,
            "description_width": ""
          }
        },
        "b064d06ea9fd4fb9ad64c05dd9e1d262": {
          "model_module": "@jupyter-widgets/base",
          "model_name": "LayoutModel",
          "model_module_version": "1.2.0",
          "state": {
            "_model_module": "@jupyter-widgets/base",
            "_model_module_version": "1.2.0",
            "_model_name": "LayoutModel",
            "_view_count": null,
            "_view_module": "@jupyter-widgets/base",
            "_view_module_version": "1.2.0",
            "_view_name": "LayoutView",
            "align_content": null,
            "align_items": null,
            "align_self": null,
            "border": null,
            "bottom": null,
            "display": null,
            "flex": null,
            "flex_flow": null,
            "grid_area": null,
            "grid_auto_columns": null,
            "grid_auto_flow": null,
            "grid_auto_rows": null,
            "grid_column": null,
            "grid_gap": null,
            "grid_row": null,
            "grid_template_areas": null,
            "grid_template_columns": null,
            "grid_template_rows": null,
            "height": null,
            "justify_content": null,
            "justify_items": null,
            "left": null,
            "margin": null,
            "max_height": null,
            "max_width": null,
            "min_height": null,
            "min_width": null,
            "object_fit": null,
            "object_position": null,
            "order": null,
            "overflow": null,
            "overflow_x": null,
            "overflow_y": null,
            "padding": null,
            "right": null,
            "top": null,
            "visibility": null,
            "width": null
          }
        },
        "23619189bd444e8ca6a78c7c58509c48": {
          "model_module": "@jupyter-widgets/controls",
          "model_name": "DescriptionStyleModel",
          "model_module_version": "1.5.0",
          "state": {
            "_model_module": "@jupyter-widgets/controls",
            "_model_module_version": "1.5.0",
            "_model_name": "DescriptionStyleModel",
            "_view_count": null,
            "_view_module": "@jupyter-widgets/base",
            "_view_module_version": "1.2.0",
            "_view_name": "StyleView",
            "description_width": ""
          }
        },
        "c2f5b0b5a0aa4f69ad0382045dd5af2e": {
          "model_module": "@jupyter-widgets/controls",
          "model_name": "HBoxModel",
          "model_module_version": "1.5.0",
          "state": {
            "_dom_classes": [],
            "_model_module": "@jupyter-widgets/controls",
            "_model_module_version": "1.5.0",
            "_model_name": "HBoxModel",
            "_view_count": null,
            "_view_module": "@jupyter-widgets/controls",
            "_view_module_version": "1.5.0",
            "_view_name": "HBoxView",
            "box_style": "",
            "children": [
              "IPY_MODEL_c788d27888c74b8788698ad316653220",
              "IPY_MODEL_643e1fb60f9844288f3e5c67826f8a1e",
              "IPY_MODEL_8e633b1bfd5242cbbc9adf83ce8806d9"
            ],
            "layout": "IPY_MODEL_d652dc36589b4932a2103531de000518"
          }
        },
        "c788d27888c74b8788698ad316653220": {
          "model_module": "@jupyter-widgets/controls",
          "model_name": "HTMLModel",
          "model_module_version": "1.5.0",
          "state": {
            "_dom_classes": [],
            "_model_module": "@jupyter-widgets/controls",
            "_model_module_version": "1.5.0",
            "_model_name": "HTMLModel",
            "_view_count": null,
            "_view_module": "@jupyter-widgets/controls",
            "_view_module_version": "1.5.0",
            "_view_name": "HTMLView",
            "description": "",
            "description_tooltip": null,
            "layout": "IPY_MODEL_6fee037cac84465b967c6a5681f3ff74",
            "placeholder": "​",
            "style": "IPY_MODEL_9288562354b5412ab042c878d69dc8b8",
            "value": "Downloading (…)lve/main/config.json: 100%"
          }
        },
        "643e1fb60f9844288f3e5c67826f8a1e": {
          "model_module": "@jupyter-widgets/controls",
          "model_name": "FloatProgressModel",
          "model_module_version": "1.5.0",
          "state": {
            "_dom_classes": [],
            "_model_module": "@jupyter-widgets/controls",
            "_model_module_version": "1.5.0",
            "_model_name": "FloatProgressModel",
            "_view_count": null,
            "_view_module": "@jupyter-widgets/controls",
            "_view_module_version": "1.5.0",
            "_view_name": "ProgressView",
            "bar_style": "success",
            "description": "",
            "description_tooltip": null,
            "layout": "IPY_MODEL_9770d9fe59244bb2b104c833db979381",
            "max": 483,
            "min": 0,
            "orientation": "horizontal",
            "style": "IPY_MODEL_ef4b64e6200642258d76c5ff5e1c315e",
            "value": 483
          }
        },
        "8e633b1bfd5242cbbc9adf83ce8806d9": {
          "model_module": "@jupyter-widgets/controls",
          "model_name": "HTMLModel",
          "model_module_version": "1.5.0",
          "state": {
            "_dom_classes": [],
            "_model_module": "@jupyter-widgets/controls",
            "_model_module_version": "1.5.0",
            "_model_name": "HTMLModel",
            "_view_count": null,
            "_view_module": "@jupyter-widgets/controls",
            "_view_module_version": "1.5.0",
            "_view_name": "HTMLView",
            "description": "",
            "description_tooltip": null,
            "layout": "IPY_MODEL_745af2b7665f4893a6c7ecb89cd2e85e",
            "placeholder": "​",
            "style": "IPY_MODEL_ec3d3cd320fe4d45a811dea166bf2dd8",
            "value": " 483/483 [00:00&lt;00:00, 33.5kB/s]"
          }
        },
        "d652dc36589b4932a2103531de000518": {
          "model_module": "@jupyter-widgets/base",
          "model_name": "LayoutModel",
          "model_module_version": "1.2.0",
          "state": {
            "_model_module": "@jupyter-widgets/base",
            "_model_module_version": "1.2.0",
            "_model_name": "LayoutModel",
            "_view_count": null,
            "_view_module": "@jupyter-widgets/base",
            "_view_module_version": "1.2.0",
            "_view_name": "LayoutView",
            "align_content": null,
            "align_items": null,
            "align_self": null,
            "border": null,
            "bottom": null,
            "display": null,
            "flex": null,
            "flex_flow": null,
            "grid_area": null,
            "grid_auto_columns": null,
            "grid_auto_flow": null,
            "grid_auto_rows": null,
            "grid_column": null,
            "grid_gap": null,
            "grid_row": null,
            "grid_template_areas": null,
            "grid_template_columns": null,
            "grid_template_rows": null,
            "height": null,
            "justify_content": null,
            "justify_items": null,
            "left": null,
            "margin": null,
            "max_height": null,
            "max_width": null,
            "min_height": null,
            "min_width": null,
            "object_fit": null,
            "object_position": null,
            "order": null,
            "overflow": null,
            "overflow_x": null,
            "overflow_y": null,
            "padding": null,
            "right": null,
            "top": null,
            "visibility": null,
            "width": null
          }
        },
        "6fee037cac84465b967c6a5681f3ff74": {
          "model_module": "@jupyter-widgets/base",
          "model_name": "LayoutModel",
          "model_module_version": "1.2.0",
          "state": {
            "_model_module": "@jupyter-widgets/base",
            "_model_module_version": "1.2.0",
            "_model_name": "LayoutModel",
            "_view_count": null,
            "_view_module": "@jupyter-widgets/base",
            "_view_module_version": "1.2.0",
            "_view_name": "LayoutView",
            "align_content": null,
            "align_items": null,
            "align_self": null,
            "border": null,
            "bottom": null,
            "display": null,
            "flex": null,
            "flex_flow": null,
            "grid_area": null,
            "grid_auto_columns": null,
            "grid_auto_flow": null,
            "grid_auto_rows": null,
            "grid_column": null,
            "grid_gap": null,
            "grid_row": null,
            "grid_template_areas": null,
            "grid_template_columns": null,
            "grid_template_rows": null,
            "height": null,
            "justify_content": null,
            "justify_items": null,
            "left": null,
            "margin": null,
            "max_height": null,
            "max_width": null,
            "min_height": null,
            "min_width": null,
            "object_fit": null,
            "object_position": null,
            "order": null,
            "overflow": null,
            "overflow_x": null,
            "overflow_y": null,
            "padding": null,
            "right": null,
            "top": null,
            "visibility": null,
            "width": null
          }
        },
        "9288562354b5412ab042c878d69dc8b8": {
          "model_module": "@jupyter-widgets/controls",
          "model_name": "DescriptionStyleModel",
          "model_module_version": "1.5.0",
          "state": {
            "_model_module": "@jupyter-widgets/controls",
            "_model_module_version": "1.5.0",
            "_model_name": "DescriptionStyleModel",
            "_view_count": null,
            "_view_module": "@jupyter-widgets/base",
            "_view_module_version": "1.2.0",
            "_view_name": "StyleView",
            "description_width": ""
          }
        },
        "9770d9fe59244bb2b104c833db979381": {
          "model_module": "@jupyter-widgets/base",
          "model_name": "LayoutModel",
          "model_module_version": "1.2.0",
          "state": {
            "_model_module": "@jupyter-widgets/base",
            "_model_module_version": "1.2.0",
            "_model_name": "LayoutModel",
            "_view_count": null,
            "_view_module": "@jupyter-widgets/base",
            "_view_module_version": "1.2.0",
            "_view_name": "LayoutView",
            "align_content": null,
            "align_items": null,
            "align_self": null,
            "border": null,
            "bottom": null,
            "display": null,
            "flex": null,
            "flex_flow": null,
            "grid_area": null,
            "grid_auto_columns": null,
            "grid_auto_flow": null,
            "grid_auto_rows": null,
            "grid_column": null,
            "grid_gap": null,
            "grid_row": null,
            "grid_template_areas": null,
            "grid_template_columns": null,
            "grid_template_rows": null,
            "height": null,
            "justify_content": null,
            "justify_items": null,
            "left": null,
            "margin": null,
            "max_height": null,
            "max_width": null,
            "min_height": null,
            "min_width": null,
            "object_fit": null,
            "object_position": null,
            "order": null,
            "overflow": null,
            "overflow_x": null,
            "overflow_y": null,
            "padding": null,
            "right": null,
            "top": null,
            "visibility": null,
            "width": null
          }
        },
        "ef4b64e6200642258d76c5ff5e1c315e": {
          "model_module": "@jupyter-widgets/controls",
          "model_name": "ProgressStyleModel",
          "model_module_version": "1.5.0",
          "state": {
            "_model_module": "@jupyter-widgets/controls",
            "_model_module_version": "1.5.0",
            "_model_name": "ProgressStyleModel",
            "_view_count": null,
            "_view_module": "@jupyter-widgets/base",
            "_view_module_version": "1.2.0",
            "_view_name": "StyleView",
            "bar_color": null,
            "description_width": ""
          }
        },
        "745af2b7665f4893a6c7ecb89cd2e85e": {
          "model_module": "@jupyter-widgets/base",
          "model_name": "LayoutModel",
          "model_module_version": "1.2.0",
          "state": {
            "_model_module": "@jupyter-widgets/base",
            "_model_module_version": "1.2.0",
            "_model_name": "LayoutModel",
            "_view_count": null,
            "_view_module": "@jupyter-widgets/base",
            "_view_module_version": "1.2.0",
            "_view_name": "LayoutView",
            "align_content": null,
            "align_items": null,
            "align_self": null,
            "border": null,
            "bottom": null,
            "display": null,
            "flex": null,
            "flex_flow": null,
            "grid_area": null,
            "grid_auto_columns": null,
            "grid_auto_flow": null,
            "grid_auto_rows": null,
            "grid_column": null,
            "grid_gap": null,
            "grid_row": null,
            "grid_template_areas": null,
            "grid_template_columns": null,
            "grid_template_rows": null,
            "height": null,
            "justify_content": null,
            "justify_items": null,
            "left": null,
            "margin": null,
            "max_height": null,
            "max_width": null,
            "min_height": null,
            "min_width": null,
            "object_fit": null,
            "object_position": null,
            "order": null,
            "overflow": null,
            "overflow_x": null,
            "overflow_y": null,
            "padding": null,
            "right": null,
            "top": null,
            "visibility": null,
            "width": null
          }
        },
        "ec3d3cd320fe4d45a811dea166bf2dd8": {
          "model_module": "@jupyter-widgets/controls",
          "model_name": "DescriptionStyleModel",
          "model_module_version": "1.5.0",
          "state": {
            "_model_module": "@jupyter-widgets/controls",
            "_model_module_version": "1.5.0",
            "_model_name": "DescriptionStyleModel",
            "_view_count": null,
            "_view_module": "@jupyter-widgets/base",
            "_view_module_version": "1.2.0",
            "_view_name": "StyleView",
            "description_width": ""
          }
        },
        "c753138d5bf24ad996dc033e1108d22a": {
          "model_module": "@jupyter-widgets/controls",
          "model_name": "HBoxModel",
          "model_module_version": "1.5.0",
          "state": {
            "_dom_classes": [],
            "_model_module": "@jupyter-widgets/controls",
            "_model_module_version": "1.5.0",
            "_model_name": "HBoxModel",
            "_view_count": null,
            "_view_module": "@jupyter-widgets/controls",
            "_view_module_version": "1.5.0",
            "_view_name": "HBoxView",
            "box_style": "",
            "children": [
              "IPY_MODEL_bffd14a7dd8541a7b926d69b7d7c8e73",
              "IPY_MODEL_fab21946f2fe4b95839ef54a3eb6076b",
              "IPY_MODEL_b5377d1dc1e744deb8cb4335004601c0"
            ],
            "layout": "IPY_MODEL_cf58e2ba67b745309aa389b244230cf3"
          }
        },
        "bffd14a7dd8541a7b926d69b7d7c8e73": {
          "model_module": "@jupyter-widgets/controls",
          "model_name": "HTMLModel",
          "model_module_version": "1.5.0",
          "state": {
            "_dom_classes": [],
            "_model_module": "@jupyter-widgets/controls",
            "_model_module_version": "1.5.0",
            "_model_name": "HTMLModel",
            "_view_count": null,
            "_view_module": "@jupyter-widgets/controls",
            "_view_module_version": "1.5.0",
            "_view_name": "HTMLView",
            "description": "",
            "description_tooltip": null,
            "layout": "IPY_MODEL_8fd6d55afa364462be7334c9693f3a87",
            "placeholder": "​",
            "style": "IPY_MODEL_a2a0f31f38b94acfb66c8f7a3b6c14be",
            "value": "Downloading pytorch_model.bin: 100%"
          }
        },
        "fab21946f2fe4b95839ef54a3eb6076b": {
          "model_module": "@jupyter-widgets/controls",
          "model_name": "FloatProgressModel",
          "model_module_version": "1.5.0",
          "state": {
            "_dom_classes": [],
            "_model_module": "@jupyter-widgets/controls",
            "_model_module_version": "1.5.0",
            "_model_name": "FloatProgressModel",
            "_view_count": null,
            "_view_module": "@jupyter-widgets/controls",
            "_view_module_version": "1.5.0",
            "_view_name": "ProgressView",
            "bar_style": "success",
            "description": "",
            "description_tooltip": null,
            "layout": "IPY_MODEL_044c7454e557469c86cd0398925dca4d",
            "max": 267967963,
            "min": 0,
            "orientation": "horizontal",
            "style": "IPY_MODEL_2972920877bc4e55bf9e0bbbbad80e91",
            "value": 267967963
          }
        },
        "b5377d1dc1e744deb8cb4335004601c0": {
          "model_module": "@jupyter-widgets/controls",
          "model_name": "HTMLModel",
          "model_module_version": "1.5.0",
          "state": {
            "_dom_classes": [],
            "_model_module": "@jupyter-widgets/controls",
            "_model_module_version": "1.5.0",
            "_model_name": "HTMLModel",
            "_view_count": null,
            "_view_module": "@jupyter-widgets/controls",
            "_view_module_version": "1.5.0",
            "_view_name": "HTMLView",
            "description": "",
            "description_tooltip": null,
            "layout": "IPY_MODEL_70069c865a4d4c2298f6abb0fc2ffa31",
            "placeholder": "​",
            "style": "IPY_MODEL_92566047755e47e0bb3e58e345640c59",
            "value": " 268M/268M [00:03&lt;00:00, 80.3MB/s]"
          }
        },
        "cf58e2ba67b745309aa389b244230cf3": {
          "model_module": "@jupyter-widgets/base",
          "model_name": "LayoutModel",
          "model_module_version": "1.2.0",
          "state": {
            "_model_module": "@jupyter-widgets/base",
            "_model_module_version": "1.2.0",
            "_model_name": "LayoutModel",
            "_view_count": null,
            "_view_module": "@jupyter-widgets/base",
            "_view_module_version": "1.2.0",
            "_view_name": "LayoutView",
            "align_content": null,
            "align_items": null,
            "align_self": null,
            "border": null,
            "bottom": null,
            "display": null,
            "flex": null,
            "flex_flow": null,
            "grid_area": null,
            "grid_auto_columns": null,
            "grid_auto_flow": null,
            "grid_auto_rows": null,
            "grid_column": null,
            "grid_gap": null,
            "grid_row": null,
            "grid_template_areas": null,
            "grid_template_columns": null,
            "grid_template_rows": null,
            "height": null,
            "justify_content": null,
            "justify_items": null,
            "left": null,
            "margin": null,
            "max_height": null,
            "max_width": null,
            "min_height": null,
            "min_width": null,
            "object_fit": null,
            "object_position": null,
            "order": null,
            "overflow": null,
            "overflow_x": null,
            "overflow_y": null,
            "padding": null,
            "right": null,
            "top": null,
            "visibility": null,
            "width": null
          }
        },
        "8fd6d55afa364462be7334c9693f3a87": {
          "model_module": "@jupyter-widgets/base",
          "model_name": "LayoutModel",
          "model_module_version": "1.2.0",
          "state": {
            "_model_module": "@jupyter-widgets/base",
            "_model_module_version": "1.2.0",
            "_model_name": "LayoutModel",
            "_view_count": null,
            "_view_module": "@jupyter-widgets/base",
            "_view_module_version": "1.2.0",
            "_view_name": "LayoutView",
            "align_content": null,
            "align_items": null,
            "align_self": null,
            "border": null,
            "bottom": null,
            "display": null,
            "flex": null,
            "flex_flow": null,
            "grid_area": null,
            "grid_auto_columns": null,
            "grid_auto_flow": null,
            "grid_auto_rows": null,
            "grid_column": null,
            "grid_gap": null,
            "grid_row": null,
            "grid_template_areas": null,
            "grid_template_columns": null,
            "grid_template_rows": null,
            "height": null,
            "justify_content": null,
            "justify_items": null,
            "left": null,
            "margin": null,
            "max_height": null,
            "max_width": null,
            "min_height": null,
            "min_width": null,
            "object_fit": null,
            "object_position": null,
            "order": null,
            "overflow": null,
            "overflow_x": null,
            "overflow_y": null,
            "padding": null,
            "right": null,
            "top": null,
            "visibility": null,
            "width": null
          }
        },
        "a2a0f31f38b94acfb66c8f7a3b6c14be": {
          "model_module": "@jupyter-widgets/controls",
          "model_name": "DescriptionStyleModel",
          "model_module_version": "1.5.0",
          "state": {
            "_model_module": "@jupyter-widgets/controls",
            "_model_module_version": "1.5.0",
            "_model_name": "DescriptionStyleModel",
            "_view_count": null,
            "_view_module": "@jupyter-widgets/base",
            "_view_module_version": "1.2.0",
            "_view_name": "StyleView",
            "description_width": ""
          }
        },
        "044c7454e557469c86cd0398925dca4d": {
          "model_module": "@jupyter-widgets/base",
          "model_name": "LayoutModel",
          "model_module_version": "1.2.0",
          "state": {
            "_model_module": "@jupyter-widgets/base",
            "_model_module_version": "1.2.0",
            "_model_name": "LayoutModel",
            "_view_count": null,
            "_view_module": "@jupyter-widgets/base",
            "_view_module_version": "1.2.0",
            "_view_name": "LayoutView",
            "align_content": null,
            "align_items": null,
            "align_self": null,
            "border": null,
            "bottom": null,
            "display": null,
            "flex": null,
            "flex_flow": null,
            "grid_area": null,
            "grid_auto_columns": null,
            "grid_auto_flow": null,
            "grid_auto_rows": null,
            "grid_column": null,
            "grid_gap": null,
            "grid_row": null,
            "grid_template_areas": null,
            "grid_template_columns": null,
            "grid_template_rows": null,
            "height": null,
            "justify_content": null,
            "justify_items": null,
            "left": null,
            "margin": null,
            "max_height": null,
            "max_width": null,
            "min_height": null,
            "min_width": null,
            "object_fit": null,
            "object_position": null,
            "order": null,
            "overflow": null,
            "overflow_x": null,
            "overflow_y": null,
            "padding": null,
            "right": null,
            "top": null,
            "visibility": null,
            "width": null
          }
        },
        "2972920877bc4e55bf9e0bbbbad80e91": {
          "model_module": "@jupyter-widgets/controls",
          "model_name": "ProgressStyleModel",
          "model_module_version": "1.5.0",
          "state": {
            "_model_module": "@jupyter-widgets/controls",
            "_model_module_version": "1.5.0",
            "_model_name": "ProgressStyleModel",
            "_view_count": null,
            "_view_module": "@jupyter-widgets/base",
            "_view_module_version": "1.2.0",
            "_view_name": "StyleView",
            "bar_color": null,
            "description_width": ""
          }
        },
        "70069c865a4d4c2298f6abb0fc2ffa31": {
          "model_module": "@jupyter-widgets/base",
          "model_name": "LayoutModel",
          "model_module_version": "1.2.0",
          "state": {
            "_model_module": "@jupyter-widgets/base",
            "_model_module_version": "1.2.0",
            "_model_name": "LayoutModel",
            "_view_count": null,
            "_view_module": "@jupyter-widgets/base",
            "_view_module_version": "1.2.0",
            "_view_name": "LayoutView",
            "align_content": null,
            "align_items": null,
            "align_self": null,
            "border": null,
            "bottom": null,
            "display": null,
            "flex": null,
            "flex_flow": null,
            "grid_area": null,
            "grid_auto_columns": null,
            "grid_auto_flow": null,
            "grid_auto_rows": null,
            "grid_column": null,
            "grid_gap": null,
            "grid_row": null,
            "grid_template_areas": null,
            "grid_template_columns": null,
            "grid_template_rows": null,
            "height": null,
            "justify_content": null,
            "justify_items": null,
            "left": null,
            "margin": null,
            "max_height": null,
            "max_width": null,
            "min_height": null,
            "min_width": null,
            "object_fit": null,
            "object_position": null,
            "order": null,
            "overflow": null,
            "overflow_x": null,
            "overflow_y": null,
            "padding": null,
            "right": null,
            "top": null,
            "visibility": null,
            "width": null
          }
        },
        "92566047755e47e0bb3e58e345640c59": {
          "model_module": "@jupyter-widgets/controls",
          "model_name": "DescriptionStyleModel",
          "model_module_version": "1.5.0",
          "state": {
            "_model_module": "@jupyter-widgets/controls",
            "_model_module_version": "1.5.0",
            "_model_name": "DescriptionStyleModel",
            "_view_count": null,
            "_view_module": "@jupyter-widgets/base",
            "_view_module_version": "1.2.0",
            "_view_name": "StyleView",
            "description_width": ""
          }
        }
      }
    }
  },
  "nbformat": 4,
  "nbformat_minor": 0
}